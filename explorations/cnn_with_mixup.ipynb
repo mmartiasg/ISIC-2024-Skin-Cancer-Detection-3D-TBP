{
 "cells": [
  {
   "cell_type": "code",
   "id": "initial_id",
   "metadata": {
    "collapsed": true,
    "ExecuteTime": {
     "end_time": "2024-08-15T17:03:51.968240Z",
     "start_time": "2024-08-15T17:03:50.239594Z"
    }
   },
   "source": [
    "from prototypes.deeplearning.dataloader.IsicDataLoader import LoadDataVectors\n",
    "from prototypes.deeplearning.trainner import train_single_task\n",
    "import torch\n",
    "import json\n",
    "from prototypes.utility.data import ProjectConfiguration\n",
    "import torchvision\n",
    "import os"
   ],
   "outputs": [],
   "execution_count": 1
  },
  {
   "metadata": {
    "ExecuteTime": {
     "end_time": "2024-08-15T17:03:52.248916Z",
     "start_time": "2024-08-15T17:03:51.969364Z"
    }
   },
   "cell_type": "code",
   "source": [
    "weights = torchvision.models.ResNet50_Weights.IMAGENET1K_V2\n",
    "model = torchvision.models.resnet50(weights=torchvision.models.ResNet50_Weights.IMAGENET1K_V2)"
   ],
   "id": "3e722843e6b31849",
   "outputs": [],
   "execution_count": 2
  },
  {
   "metadata": {
    "ExecuteTime": {
     "end_time": "2024-08-15T17:03:52.251712Z",
     "start_time": "2024-08-15T17:03:52.249711Z"
    }
   },
   "cell_type": "code",
   "source": "config = ProjectConfiguration(\"../config.json\")",
   "id": "8cfb35ef5f08f47b",
   "outputs": [],
   "execution_count": 3
  },
  {
   "metadata": {
    "ExecuteTime": {
     "end_time": "2024-08-15T17:03:52.279396Z",
     "start_time": "2024-08-15T17:03:52.252504Z"
    }
   },
   "cell_type": "code",
   "source": "config.get_keys()",
   "id": "5dc65c8caa8f27b5",
   "outputs": [
    {
     "data": {
      "text/plain": [
       "dict_keys(['DATASET_PATH', 'TRAIN_IMAGES_PATH', 'TRAIN_METADATA', 'TEST_METADATA', 'SAMPLE_SUBMISSION', 'IMAGE_WIDTH', 'IMAGE_HEIGHT', 'TARGET_COLUMNS', 'VECTORS_PATH', 'BATCH_SIZE', 'K_FOLDS', 'NUM_CLASSES', 'ALPHA', 'TRAIN_DEVICE', 'NUM_EPOCHS', 'NUM_WORKERS', 'SAMPLE_PERCENTAGE', 'HYPER_PARAMETERS_PATH', 'VERSION'])"
      ]
     },
     "execution_count": 4,
     "metadata": {},
     "output_type": "execute_result"
    }
   ],
   "execution_count": 4
  },
  {
   "metadata": {
    "ExecuteTime": {
     "end_time": "2024-08-15T17:03:52.290433Z",
     "start_time": "2024-08-15T17:03:52.280694Z"
    }
   },
   "cell_type": "code",
   "source": "config.get_value(\"TRAIN_METADATA\")",
   "id": "d53e3c615d2ed815",
   "outputs": [
    {
     "data": {
      "text/plain": [
       "'/home/matias/workspace/datasets/isic-2024-challenge/train-metadata.csv'"
      ]
     },
     "execution_count": 5,
     "metadata": {},
     "output_type": "execute_result"
    }
   ],
   "execution_count": 5
  },
  {
   "metadata": {
    "ExecuteTime": {
     "end_time": "2024-08-15T17:04:02.615142Z",
     "start_time": "2024-08-15T17:03:52.291201Z"
    }
   },
   "cell_type": "code",
   "source": [
    "dataloader = LoadDataVectors(hd5_file_path=os.path.join(config.get_value(\"DATASET_PATH\"), \"train-image.hdf5\"),\n",
    "                             metadata_csv_path=config.get_value(\"TRAIN_METADATA\"),\n",
    "                             target_columns=[\"target\"],\n",
    "                             transform=weights.transforms())"
   ],
   "id": "f6fe77d5c0e230b",
   "outputs": [],
   "execution_count": 6
  },
  {
   "metadata": {
    "ExecuteTime": {
     "end_time": "2024-08-15T17:04:02.631275Z",
     "start_time": "2024-08-15T17:04:02.616034Z"
    }
   },
   "cell_type": "code",
   "source": "train, val = torch.utils.data.random_split(dataloader, [0.8, 0.2])",
   "id": "5a968c1c08020fb4",
   "outputs": [],
   "execution_count": 7
  },
  {
   "metadata": {
    "ExecuteTime": {
     "end_time": "2024-08-15T17:04:02.637914Z",
     "start_time": "2024-08-15T17:04:02.632139Z"
    }
   },
   "cell_type": "code",
   "source": "len(train), len(val)",
   "id": "bfa1053cebb361e4",
   "outputs": [
    {
     "data": {
      "text/plain": [
       "(320848, 80211)"
      ]
     },
     "execution_count": 8,
     "metadata": {},
     "output_type": "execute_result"
    }
   ],
   "execution_count": 8
  },
  {
   "metadata": {
    "ExecuteTime": {
     "end_time": "2024-08-15T17:04:02.648004Z",
     "start_time": "2024-08-15T17:04:02.638587Z"
    }
   },
   "cell_type": "code",
   "source": [
    "train_dataloader = torch.utils.data.DataLoader(train, batch_size=config.get_value(\"BATCH_SIZE\"), shuffle=True, num_workers=config.get_value(\"NUM_WORKERS\"))\n",
    "val_dataloader = torch.utils.data.DataLoader(val, batch_size=config.get_value(\"BATCH_SIZE\")//2, shuffle=False, num_workers=config.get_value(\"NUM_WORKERS\"))"
   ],
   "id": "b7d30e34356d2c0d",
   "outputs": [],
   "execution_count": 9
  },
  {
   "metadata": {
    "jupyter": {
     "is_executing": true
    },
    "ExecuteTime": {
     "start_time": "2024-08-15T17:04:02.648783Z"
    }
   },
   "cell_type": "code",
   "source": [
    "# model, train_dataloader, val_dataloader, optimizer, criterion, device, epochs, alpha=0.2\n",
    "model.fc = torch.nn.Sequential(torch.nn.Linear(2048, config.get_value(\"NUM_CLASSES\")))\n",
    "model = model.to(device=config.get_value(\"TRAIN_DEVICE\"))\n",
    "\n",
    "train_single_task(model=model, train_dataloader=train_dataloader, val_dataloader=val_dataloader,\n",
    "                  optimizer=torch.optim.Adam(params=model.parameters(), lr=1e-3), criterion=torch.nn.BCEWithLogitsLoss(), device=config.get_value(\"TRAIN_DEVICE\"),\n",
    "                  epochs=config.get_value(\"NUM_EPOCHS\"), alpha=config.get_value(\"ALPHA\"))"
   ],
   "id": "74d3b80dff06230a",
   "outputs": [
    {
     "data": {
      "text/plain": [
       "  0%|          | 0/500 [00:00<?, ?it/s]"
      ],
      "application/vnd.jupyter.widget-view+json": {
       "version_major": 2,
       "version_minor": 0,
       "model_id": "e15a0de298b44414be2378fd008892ae"
      }
     },
     "metadata": {},
     "output_type": "display_data"
    }
   ],
   "execution_count": null
  }
 ],
 "metadata": {
  "kernelspec": {
   "display_name": "Python 3",
   "language": "python",
   "name": "python3"
  },
  "language_info": {
   "codemirror_mode": {
    "name": "ipython",
    "version": 2
   },
   "file_extension": ".py",
   "mimetype": "text/x-python",
   "name": "python",
   "nbconvert_exporter": "python",
   "pygments_lexer": "ipython2",
   "version": "2.7.6"
  }
 },
 "nbformat": 4,
 "nbformat_minor": 5
}

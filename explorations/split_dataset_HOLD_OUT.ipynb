{
 "cells": [
  {
   "cell_type": "code",
   "id": "initial_id",
   "metadata": {
    "collapsed": true,
    "ExecuteTime": {
     "end_time": "2024-08-31T18:44:16.694489Z",
     "start_time": "2024-08-31T18:44:14.448505Z"
    }
   },
   "source": [
    "from prototypes.deeplearning.dataloader.IsicDataLoader import IsicDataLoaderFolders, over_under_sample, load_val_images, create_folds, AugmentationWrapper\n",
    "from prototypes.utility.data import ProjectConfiguration\n",
    "import pandas as pd"
   ],
   "execution_count": 1,
   "outputs": []
  },
  {
   "metadata": {
    "ExecuteTime": {
     "end_time": "2024-08-31T18:44:16.698203Z",
     "start_time": "2024-08-31T18:44:16.695764Z"
    }
   },
   "cell_type": "code",
   "source": "config = ProjectConfiguration(\"../config.json\")",
   "id": "4b4e4d9efe70fc30",
   "execution_count": 2,
   "outputs": []
  },
  {
   "metadata": {
    "ExecuteTime": {
     "end_time": "2024-08-31T18:44:16.711660Z",
     "start_time": "2024-08-31T18:44:16.699101Z"
    }
   },
   "cell_type": "code",
   "source": "config.get_keys()",
   "id": "aa547a71ad4a62dc",
   "execution_count": 3,
   "outputs": []
  },
  {
   "metadata": {
    "ExecuteTime": {
     "end_time": "2024-08-31T18:44:26.910235Z",
     "start_time": "2024-08-31T18:44:16.712456Z"
    }
   },
   "cell_type": "code",
   "source": [
    "metadata_df = pd.read_csv(config.get_value(\"TRAIN_METADATA\"), engine=\"python\")\n",
    "columns = config.get_value(\"METADATA_COLUMNS\").split(\"\\t\")\n",
    "\n",
    "isic_id, metadata_array, labels = metadata_df[\"isic_id\"].values, metadata_df[columns].values, metadata_df[\n",
    "    \"target\"].values"
   ],
   "id": "82b01652cfef5efb",
   "execution_count": 4,
   "outputs": []
  },
  {
   "metadata": {
    "ExecuteTime": {
     "end_time": "2024-08-31T18:44:27.299569Z",
     "start_time": "2024-08-31T18:44:26.911633Z"
    }
   },
   "cell_type": "code",
   "source": "folds_config_dict = create_folds(isic_id=isic_id, metadata=metadata_array, labels=labels, config=config)",
   "id": "1462f9c77a9738e8",
   "execution_count": 5,
   "outputs": []
  },
  {
   "metadata": {
    "ExecuteTime": {
     "end_time": "2024-08-31T18:44:27.313236Z",
     "start_time": "2024-08-31T18:44:27.300273Z"
    }
   },
   "cell_type": "code",
   "source": "folds_config_dict",
   "id": "8918f8b9805f4",
   "execution_count": 6,
   "outputs": []
  },
  {
   "metadata": {},
   "cell_type": "markdown",
   "source": "# K - Folds ",
   "id": "4b647c4d95b11ea0"
  },
  {
   "metadata": {
    "ExecuteTime": {
     "end_time": "2024-08-31T18:45:28.021242Z",
     "start_time": "2024-08-31T18:44:27.314170Z"
    }
   },
   "cell_type": "code",
   "source": [
    "from PIL import Image\n",
    "import os\n",
    "import copy\n",
    "import shutil\n",
    "from tqdm.auto import tqdm\n",
    "import albumentations as A\n",
    "import numpy as np\n",
    "\n",
    "\n",
    "augmentation_oversampling = A.Compose([\n",
    "    # crop border avois multiple instances\n",
    "    A.RandomCrop(width=config.get_value(\"IMAGE_WIDTH\"), height=config.get_value(\"IMAGE_HEIGHT\"), p=1),\n",
    "    A.Rotate(limit=(-360, 360), p=0.50, crop_border=False),\n",
    "    A.VerticalFlip(p=0.25),\n",
    "    A.HorizontalFlip(p=0.25),\n",
    "    A.RandomBrightnessContrast(p=0.5),\n",
    "    # water reflexion effect magnification and min\n",
    "    A.GridDistortion(p=0.25),\n",
    "    # A.Resize(height=config.get_value(\"IMAGE_HEIGHT\"), width=config.get_value(\"IMAGE_WIDTH\"))\n",
    "], p = 1)\n",
    "\n",
    "dataset_path = config.get_value(\"DATASET_PATH\")\n",
    "shutil.rmtree(os.path.join(dataset_path, \"splits\"), ignore_errors=True)\n",
    "\n",
    "train_metadata = []\n",
    "val_metadata = []\n",
    "\n",
    "image_source_path = config.get_value(\"TRAIN_IMAGES_PATH\")\n",
    "for fold_index in tqdm(folds_config_dict.keys()):\n",
    "    print(f\"Fold: {fold_index}\")\n",
    "    \n",
    "    os.makedirs(os.path.join(dataset_path, \"splits\", f\"fold_{fold_index}\", \"train\", \"0\"), exist_ok=True)\n",
    "    os.makedirs(os.path.join(dataset_path, \"splits\", f\"fold_{fold_index}\", \"train\", \"1\"), exist_ok=True)\n",
    "    os.makedirs(os.path.join(dataset_path, \"splits\", f\"fold_{fold_index}\", \"val\", \"0\"), exist_ok=True)\n",
    "    os.makedirs(os.path.join(dataset_path, \"splits\", f\"fold_{fold_index}\", \"val\", \"1\"), exist_ok=True)\n",
    "    \n",
    "    normal_images_ids = folds_config_dict[fold_index][\"train\"][\"isic_id\"][np.where(folds_config_dict[fold_index][\"train\"][\"target\"]==0)]\n",
    "    anomaly_images_ids = folds_config_dict[fold_index][\"train\"][\"isic_id\"][np.where(folds_config_dict[fold_index][\"train\"][\"target\"]==1)]\n",
    "    \n",
    "    print(f\"total images: {len(normal_images_ids) + len(anomaly_images_ids)}\")\n",
    "    print(\"Over and under sampling...\")\n",
    "    over_under_sample(normal_images_ids=normal_images_ids,\n",
    "                      anomaly_images_ids=anomaly_images_ids,\n",
    "                      augmentation_transform=augmentation_oversampling,\n",
    "                      root_path=os.path.join(dataset_path, \"splits\", f\"fold_{fold_index}\"),\n",
    "                      config=config)\n",
    "    \n",
    "    print(\"Saving validation images to disk...\")\n",
    "    for isic_id, target in tqdm(zip(folds_config_dict[fold_index][\"val\"][\"isic_id\"], folds_config_dict[fold_index][\"val\"][\"target\"]), total=len(folds_config_dict[fold_index][\"val\"][\"isic_id\"])):\n",
    "        img = copy.deepcopy(Image.open(os.path.join(image_source_path, f\"{isic_id}.jpg\")))\n",
    "        img.save(os.path.join(dataset_path, \"splits\", f\"fold_{fold_index}\", \"val\", f\"{int(target)}\", f\"{isic_id}.jpg\"))"
   ],
   "id": "1ff0ffa04e254e59",
   "execution_count": 7,
   "outputs": []
  },
  {
   "metadata": {},
   "cell_type": "code",
   "source": [
    "import glob\n",
    "import os"
   ],
   "id": "973ba34436a1283d",
   "execution_count": null,
   "outputs": []
  },
  {
   "metadata": {},
   "cell_type": "code",
   "source": [
    "fold_index = 1\n",
    "\n",
    "dataset_path = config.get_value(\"DATASET_PATH\")\n",
    "\n",
    "root = os.path.join(dataset_path, \"splits\", f\"fold_{fold_index}\", \"train\")\n",
    "\n",
    "file_list = glob.glob(os.path.join(root, \"*.jpg\"))"
   ],
   "id": "2568dadc1696c2f3",
   "execution_count": null,
   "outputs": []
  },
  {
   "metadata": {},
   "cell_type": "code",
   "source": "os.listdir(root)",
   "id": "b4d778cfa3b00313",
   "execution_count": null,
   "outputs": []
  },
  {
   "metadata": {},
   "cell_type": "code",
   "source": "file_list[:5]",
   "id": "1019faca3acaceac",
   "execution_count": null,
   "outputs": []
  },
  {
   "metadata": {},
   "cell_type": "code",
   "source": "dataloader = IsicDataLoaderFolders(root=root)",
   "id": "a469a177e9d19e2b",
   "execution_count": null,
   "outputs": []
  },
  {
   "metadata": {},
   "cell_type": "code",
   "source": "next(iter(dataloader))",
   "id": "6e132001292aee61",
   "execution_count": null,
   "outputs": []
  },
  {
   "metadata": {},
   "cell_type": "code",
   "source": "",
   "id": "71bece2db535231a",
   "execution_count": null,
   "outputs": []
  }
 ],
 "metadata": {
  "kernelspec": {
   "display_name": "Python 3",
   "language": "python",
   "name": "python3"
  },
  "language_info": {
   "codemirror_mode": {
    "name": "ipython",
    "version": 2
   },
   "file_extension": ".py",
   "mimetype": "text/x-python",
   "name": "python",
   "nbconvert_exporter": "python",
   "pygments_lexer": "ipython2",
   "version": "2.7.6"
  }
 },
 "nbformat": 4,
 "nbformat_minor": 5
}

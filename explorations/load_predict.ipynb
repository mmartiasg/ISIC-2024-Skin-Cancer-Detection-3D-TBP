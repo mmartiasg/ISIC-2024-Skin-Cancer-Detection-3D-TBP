{
 "cells": [
  {
   "cell_type": "code",
   "id": "initial_id",
   "metadata": {
    "collapsed": true,
    "ExecuteTime": {
     "end_time": "2024-08-19T23:10:03.134490Z",
     "start_time": "2024-08-19T23:10:00.943135Z"
    }
   },
   "source": [
    "import torch\n",
    "from prototypes.deeplearning.dataloader.IsicDataLoader import LoadDataVectors\n",
    "from prototypes.deeplearning.models import Resnet50Prototype1, Resnet50Prototype2\n",
    "import os\n",
    "from prototypes.utility.data import ProjectConfiguration\n",
    "import torchvision"
   ],
   "execution_count": 1,
   "outputs": []
  },
  {
   "metadata": {
    "ExecuteTime": {
     "end_time": "2024-08-19T23:00:58.975288Z",
     "start_time": "2024-08-19T23:00:58.364100Z"
    }
   },
   "cell_type": "code",
   "source": "model = torchvision.models.vit_b_16()",
   "id": "75e8989c8fc5863e",
   "execution_count": 3,
   "outputs": []
  },
  {
   "metadata": {
    "ExecuteTime": {
     "end_time": "2024-08-19T23:06:52.165046Z",
     "start_time": "2024-08-19T23:06:52.162061Z"
    }
   },
   "cell_type": "code",
   "source": "print(model)",
   "id": "edb463d95c5ad8b0",
   "execution_count": 7,
   "outputs": []
  },
  {
   "metadata": {
    "ExecuteTime": {
     "end_time": "2024-08-18T11:01:35.545270Z",
     "start_time": "2024-08-18T11:01:35.477910Z"
    }
   },
   "cell_type": "code",
   "source": [
    "model_loaded = Resnet50Prototype2(n_classes=1)\n",
    "model_loaded.load_state_dict(torch.load(os.path.join(\"../checkpoint_resnet50_mix_up\", \"0.1.0_best.pt\"), weights_only=True))"
   ],
   "id": "23b93d5478e4174",
   "execution_count": 3,
   "outputs": []
  },
  {
   "metadata": {},
   "cell_type": "markdown",
   "source": "# Predict",
   "id": "ff228382b11cee3e"
  },
  {
   "metadata": {
    "ExecuteTime": {
     "end_time": "2024-08-18T11:01:35.548642Z",
     "start_time": "2024-08-18T11:01:35.546558Z"
    }
   },
   "cell_type": "code",
   "source": "config = ProjectConfiguration(\"../config.json\")",
   "id": "317bc4792d9bd0f1",
   "execution_count": 4,
   "outputs": []
  },
  {
   "metadata": {
    "ExecuteTime": {
     "end_time": "2024-08-18T11:01:46.467607Z",
     "start_time": "2024-08-18T11:01:35.549385Z"
    }
   },
   "cell_type": "code",
   "source": [
    "dataloader = LoadDataVectors(hd5_file_path=os.path.join(config.get_value(\"DATASET_PATH\"), \"train-image.hdf5\"),\n",
    "                             transform=model_loaded.weights.transforms(),\n",
    "                             metadata_csv_path=config.get_value(\"TRAIN_METADATA\"))\n",
    "\n",
    "# sampler = torch.utils.data.RandomSampler(dataloader, num_samples=config.get_value(\"VAL_SAMPLE_SIZE\"))\n",
    "# dataloader = torch.utils.data.DataLoader(dataloader, batch_size=128, shuffle=False, num_workers=16, sampler=sampler)\n",
    "dataloader = torch.utils.data.DataLoader(dataloader, batch_size=128, shuffle=False, num_workers=16)"
   ],
   "id": "b46557190b1e21bf",
   "execution_count": 5,
   "outputs": []
  },
  {
   "metadata": {
    "ExecuteTime": {
     "end_time": "2024-08-18T11:23:48.352734Z",
     "start_time": "2024-08-18T11:16:30.019277Z"
    }
   },
   "cell_type": "code",
   "source": [
    "from tqdm.auto import tqdm\n",
    "\n",
    "model_loaded = model_loaded.cuda()\n",
    "\n",
    "y_pred = []\n",
    "y_true = []\n",
    "\n",
    "for batch in tqdm(dataloader):\n",
    "    x = batch[0].cuda()\n",
    "    y = batch[1].cuda()\n",
    "    \n",
    "    with torch.no_grad():\n",
    "        y_pred.extend(model_loaded(x).cpu().numpy())\n",
    "        y_true.extend(y.cpu().numpy())"
   ],
   "id": "55de8b0c1519ff22",
   "execution_count": 9,
   "outputs": []
  },
  {
   "metadata": {
    "ExecuteTime": {
     "end_time": "2024-08-18T11:25:12.931322Z",
     "start_time": "2024-08-18T11:25:12.165715Z"
    }
   },
   "cell_type": "code",
   "source": [
    "import pandas as pd\n",
    "\n",
    "solution_df = pd.DataFrame(zip(y_true, [e[0] for e in y_true]), columns=['isic_id', 'target'])\n",
    "submission_df = pd.DataFrame(zip(y_pred, [e[0] for e in y_pred]), columns=['isic_id', 'target'])"
   ],
   "id": "45b39a42b859feae",
   "execution_count": 10,
   "outputs": []
  },
  {
   "metadata": {
    "ExecuteTime": {
     "end_time": "2024-08-18T11:25:14.583316Z",
     "start_time": "2024-08-18T11:25:14.290960Z"
    }
   },
   "cell_type": "code",
   "source": "from prototypes.deeplearning.trainner import score",
   "id": "7576aa6050fb7cd3",
   "execution_count": 11,
   "outputs": []
  },
  {
   "metadata": {
    "ExecuteTime": {
     "end_time": "2024-08-18T11:25:15.537227Z",
     "start_time": "2024-08-18T11:25:15.531589Z"
    }
   },
   "cell_type": "code",
   "source": "submission_df.head()",
   "id": "b0525128eaa19514",
   "execution_count": 12,
   "outputs": []
  },
  {
   "metadata": {
    "ExecuteTime": {
     "end_time": "2024-08-18T11:25:17.111596Z",
     "start_time": "2024-08-18T11:25:17.045541Z"
    }
   },
   "cell_type": "code",
   "source": "score(solution=solution_df, submission=submission_df, row_id_column_name=\"isic_id\", min_tpr=0.80)",
   "id": "630311bd3a7600c3",
   "execution_count": 13,
   "outputs": []
  },
  {
   "metadata": {},
   "cell_type": "code",
   "execution_count": null,
   "source": "",
   "id": "f5adb91e95cc6d60",
   "outputs": []
  }
 ],
 "metadata": {
  "kernelspec": {
   "display_name": "Python 3",
   "language": "python",
   "name": "python3"
  },
  "language_info": {
   "codemirror_mode": {
    "name": "ipython",
    "version": 2
   },
   "file_extension": ".py",
   "mimetype": "text/x-python",
   "name": "python",
   "nbconvert_exporter": "python",
   "pygments_lexer": "ipython2",
   "version": "2.7.6"
  }
 },
 "nbformat": 4,
 "nbformat_minor": 5
}

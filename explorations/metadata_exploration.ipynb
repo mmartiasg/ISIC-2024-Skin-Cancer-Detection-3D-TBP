{
 "cells": [
  {
   "cell_type": "code",
   "id": "initial_id",
   "metadata": {
    "collapsed": true,
    "ExecuteTime": {
     "end_time": "2024-09-01T12:54:48.551805Z",
     "start_time": "2024-09-01T12:54:47.723802Z"
    }
   },
   "source": [
    "import numpy as np\n",
    "from prototypes.utility.data import DataLoader\n",
    "from prototypes.utility.data import ProjectConfiguration\n",
    "import matplotlib.pyplot as plt\n",
    "from prototypes.classical.segmentation.transformers import BlackBarsRemover, OtsuThresholdingSegmentation\n",
    "from prototypes.classical.descriptors.texture import LBPTransformer, GaborTransformer, HoGTransformer\n",
    "from prototypes.classical.descriptors.vetorizer import PCAVectorizer\n",
    "import cv2\n",
    "import PIL\n",
    "import pandas as pd\n",
    "\n",
    "%load_ext autoreload\n",
    "%autoreload 2\n",
    "\n",
    "config = ProjectConfiguration(\"../config.json\")"
   ],
   "outputs": [],
   "execution_count": 1
  },
  {
   "metadata": {
    "ExecuteTime": {
     "end_time": "2024-09-01T12:54:48.565564Z",
     "start_time": "2024-09-01T12:54:48.552959Z"
    }
   },
   "cell_type": "code",
   "source": "config.get_value(\"TRAIN_METADATA\")",
   "id": "c178a84653004e69",
   "outputs": [
    {
     "data": {
      "text/plain": [
       "'/home/matias/workspace/datasets/isic-2024-challenge/train-metadata.csv'"
      ]
     },
     "execution_count": 2,
     "metadata": {},
     "output_type": "execute_result"
    }
   ],
   "execution_count": 2
  },
  {
   "metadata": {
    "ExecuteTime": {
     "end_time": "2024-09-01T12:54:59.536336Z",
     "start_time": "2024-09-01T12:54:48.566347Z"
    }
   },
   "cell_type": "code",
   "source": "metadata_df = pd.read_csv(config.get_value(\"TRAIN_METADATA\"), engine=\"python\")",
   "id": "2f3ab06ee8e7f2ef",
   "outputs": [],
   "execution_count": 3
  },
  {
   "metadata": {
    "ExecuteTime": {
     "end_time": "2024-09-01T12:54:59.539284Z",
     "start_time": "2024-09-01T12:54:59.537636Z"
    }
   },
   "cell_type": "code",
   "source": "",
   "id": "244b52a86aa8fc6c",
   "outputs": [],
   "execution_count": 3
  },
  {
   "metadata": {
    "ExecuteTime": {
     "end_time": "2024-09-01T12:54:59.551569Z",
     "start_time": "2024-09-01T12:54:59.539847Z"
    }
   },
   "cell_type": "code",
   "source": "metadata_df.iloc[0]",
   "id": "117fff8468a101c4",
   "outputs": [
    {
     "data": {
      "text/plain": [
       "isic_id                                                   ISIC_0015670\n",
       "target                                                               0\n",
       "patient_id                                                  IP_1235828\n",
       "age_approx                                                        60.0\n",
       "sex                                                               male\n",
       "anatom_site_general                                    lower extremity\n",
       "clin_size_long_diam_mm                                            3.04\n",
       "image_type                                          TBP tile: close-up\n",
       "tbp_tile_type                                                3D: white\n",
       "tbp_lv_A                                                     20.244422\n",
       "tbp_lv_Aext                                                  16.261975\n",
       "tbp_lv_B                                                     26.922447\n",
       "tbp_lv_Bext                                                  23.954773\n",
       "tbp_lv_C                                                     33.684638\n",
       "tbp_lv_Cext                                                  28.953117\n",
       "tbp_lv_H                                                     53.058545\n",
       "tbp_lv_Hext                                                  55.828924\n",
       "tbp_lv_L                                                     54.367448\n",
       "tbp_lv_Lext                                                  62.025701\n",
       "tbp_lv_areaMM2                                                3.152561\n",
       "tbp_lv_area_perim_ratio                                       27.47617\n",
       "tbp_lv_color_std_mean                                              0.0\n",
       "tbp_lv_deltaA                                                 3.982447\n",
       "tbp_lv_deltaB                                                 2.967674\n",
       "tbp_lv_deltaL                                                -7.658253\n",
       "tbp_lv_deltaLB                                                8.360566\n",
       "tbp_lv_deltaLBnorm                                            5.784302\n",
       "tbp_lv_eccentricity                                           0.901302\n",
       "tbp_lv_location                                      Right Leg - Upper\n",
       "tbp_lv_location_simple                                       Right Leg\n",
       "tbp_lv_minorAxisMM                                            1.543016\n",
       "tbp_lv_nevi_confidence                                        0.002629\n",
       "tbp_lv_norm_border                                             7.09136\n",
       "tbp_lv_norm_color                                                  0.0\n",
       "tbp_lv_perimeterMM                                            9.307003\n",
       "tbp_lv_radial_color_std_max                                        0.0\n",
       "tbp_lv_stdL                                                   2.036195\n",
       "tbp_lv_stdLExt                                                 2.63778\n",
       "tbp_lv_symm_2axis                                             0.590476\n",
       "tbp_lv_symm_2axis_angle                                             85\n",
       "tbp_lv_x                                                   -182.703552\n",
       "tbp_lv_y                                                    613.493652\n",
       "tbp_lv_z                                                    -42.427948\n",
       "attribution                     Memorial Sloan Kettering Cancer Center\n",
       "copyright_license                                                CC-BY\n",
       "lesion_id                                                          NaN\n",
       "iddx_full                                                       Benign\n",
       "iddx_1                                                          Benign\n",
       "iddx_2                                                             NaN\n",
       "iddx_3                                                             NaN\n",
       "iddx_4                                                             NaN\n",
       "iddx_5                                                             NaN\n",
       "mel_mitotic_index                                                  NaN\n",
       "mel_thick_mm                                                       NaN\n",
       "tbp_lv_dnn_lesion_confidence                                 97.517282\n",
       "Name: 0, dtype: object"
      ]
     },
     "execution_count": 4,
     "metadata": {},
     "output_type": "execute_result"
    }
   ],
   "execution_count": 4
  },
  {
   "metadata": {
    "ExecuteTime": {
     "end_time": "2024-09-01T12:54:59.571022Z",
     "start_time": "2024-09-01T12:54:59.552246Z"
    }
   },
   "cell_type": "code",
   "source": [
    "colums = [\"tbp_lv_area_perim_ratio\",\n",
    "          \"tbp_lv_eccentricity\",\n",
    "          \"tbp_lv_minorAxisMM\",\n",
    "          #Volume sphere\n",
    "          \"tbp_lv_x\",\n",
    "          \"tbp_lv_y\",\n",
    "          \"tbp_lv_z\",\n",
    "          \"tbp_lv_deltaA\",\n",
    "          \"tbp_lv_deltaB\",\n",
    "          \"tbp_lv_deltaL\",\n",
    "          \"tbp_lv_deltaLB\",\n",
    "          \"tbp_lv_dnn_lesion_confidence\",\n",
    "          \"age_approx\",\n",
    "          \"sex\"]"
   ],
   "id": "88694ea30328d536",
   "outputs": [],
   "execution_count": 5
  },
  {
   "metadata": {
    "ExecuteTime": {
     "end_time": "2024-09-01T12:54:59.612220Z",
     "start_time": "2024-09-01T12:54:59.572030Z"
    }
   },
   "cell_type": "code",
   "source": "metadata_df.groupby(by=[\"target\", \"sex\"]).sex.count()",
   "id": "abc43a398fac3ed3",
   "outputs": [
    {
     "data": {
      "text/plain": [
       "target  sex   \n",
       "0       female    123887\n",
       "        male      265272\n",
       "1       female       109\n",
       "        male         274\n",
       "Name: sex, dtype: int64"
      ]
     },
     "execution_count": 6,
     "metadata": {},
     "output_type": "execute_result"
    }
   ],
   "execution_count": 6
  },
  {
   "metadata": {
    "ExecuteTime": {
     "end_time": "2024-09-01T12:54:59.645109Z",
     "start_time": "2024-09-01T12:54:59.613040Z"
    }
   },
   "cell_type": "code",
   "source": "metadata_df.groupby(by=[\"target\", \"age_approx\"]).sex.count()",
   "id": "abe83297b6899296",
   "outputs": [
    {
     "data": {
      "text/plain": [
       "target  age_approx\n",
       "0       5.0               1\n",
       "        15.0            624\n",
       "        20.0           1741\n",
       "        25.0           3431\n",
       "        30.0          10343\n",
       "        35.0          11034\n",
       "        40.0          30465\n",
       "        45.0          22943\n",
       "        50.0          47429\n",
       "        55.0          53751\n",
       "        60.0          53334\n",
       "        65.0          53713\n",
       "        70.0          38207\n",
       "        75.0          30354\n",
       "        80.0          21072\n",
       "        85.0           8832\n",
       "1       20.0              1\n",
       "        25.0              2\n",
       "        30.0              3\n",
       "        35.0              3\n",
       "        40.0             15\n",
       "        45.0             26\n",
       "        50.0             26\n",
       "        55.0             44\n",
       "        60.0             83\n",
       "        65.0             67\n",
       "        70.0             48\n",
       "        75.0             24\n",
       "        80.0             24\n",
       "        85.0             15\n",
       "Name: sex, dtype: int64"
      ]
     },
     "execution_count": 7,
     "metadata": {},
     "output_type": "execute_result"
    }
   ],
   "execution_count": 7
  },
  {
   "metadata": {
    "ExecuteTime": {
     "end_time": "2024-09-01T12:54:59.738391Z",
     "start_time": "2024-09-01T12:54:59.645899Z"
    }
   },
   "cell_type": "code",
   "source": "metadata_df.query(\"tbp_lv_dnn_lesion_confidence>99\").groupby(by=[\"target\", \"tbp_lv_dnn_lesion_confidence\"]).sex.count()",
   "id": "2e1a2ee4143b5ec3",
   "outputs": [
    {
     "data": {
      "text/plain": [
       "target  tbp_lv_dnn_lesion_confidence\n",
       "0       99.000019                        1\n",
       "        99.000030                        1\n",
       "        99.000070                        1\n",
       "        99.000080                        1\n",
       "        99.000084                        1\n",
       "                                        ..\n",
       "1       99.999976                        2\n",
       "        99.999980                        2\n",
       "        99.999988                        4\n",
       "        99.999990                        4\n",
       "        100.000000                      21\n",
       "Name: sex, Length: 56142, dtype: int64"
      ]
     },
     "execution_count": 8,
     "metadata": {},
     "output_type": "execute_result"
    }
   ],
   "execution_count": 8
  },
  {
   "metadata": {
    "ExecuteTime": {
     "end_time": "2024-09-01T12:54:59.751765Z",
     "start_time": "2024-09-01T12:54:59.740027Z"
    }
   },
   "cell_type": "code",
   "source": "(metadata_df[\"age_approx\"] * metadata_df[\"clin_size_long_diam_mm\"] * metadata_df[\"tbp_lv_symm_2axis\"]).values[:10]",
   "id": "a10ca71c198bf4f3",
   "outputs": [
    {
     "data": {
      "text/plain": [
       "array([107.70285714,  18.8571438 ,  73.8285792 ,  43.86526946,\n",
       "        47.06193492,  98.84433962,  99.19597701,  57.74837545,\n",
       "        55.20786517,  42.64716157])"
      ]
     },
     "execution_count": 9,
     "metadata": {},
     "output_type": "execute_result"
    }
   ],
   "execution_count": 9
  },
  {
   "metadata": {
    "ExecuteTime": {
     "end_time": "2024-09-01T12:54:59.841687Z",
     "start_time": "2024-09-01T12:54:59.752507Z"
    }
   },
   "cell_type": "code",
   "source": "metadata_df.sex.apply(lambda x: 0 if x == \"male\" else 1).values[:5]",
   "id": "bb24081ebc3814ed",
   "outputs": [
    {
     "data": {
      "text/plain": [
       "array([0, 0, 0, 0, 0])"
      ]
     },
     "execution_count": 10,
     "metadata": {},
     "output_type": "execute_result"
    }
   ],
   "execution_count": 10
  },
  {
   "metadata": {
    "ExecuteTime": {
     "end_time": "2024-09-01T12:54:59.856980Z",
     "start_time": "2024-09-01T12:54:59.842505Z"
    }
   },
   "cell_type": "code",
   "source": [
    "lesion_color_difference = np.sqrt((metadata_df['tbp_lv_deltaA']**2 + metadata_df[\"tbp_lv_deltaB\"]**2 + metadata_df['tbp_lv_deltaL']**2).values)\n",
    "border_complexity = (metadata_df['tbp_lv_norm_border'] + metadata_df['tbp_lv_symm_2axis']).values\n",
    "color_uniformity = (metadata_df['tbp_lv_color_std_mean'] / (metadata_df['tbp_lv_radial_color_std_max'] + 1e-5)).values\n",
    "\n",
    "features = np.vstack([lesion_color_difference, border_complexity, color_uniformity])"
   ],
   "id": "dda2b80dfef2f103",
   "outputs": [],
   "execution_count": 11
  },
  {
   "metadata": {
    "ExecuteTime": {
     "end_time": "2024-09-01T12:54:59.868920Z",
     "start_time": "2024-09-01T12:54:59.857890Z"
    }
   },
   "cell_type": "code",
   "source": "color_uniformity[:5]",
   "id": "d5fc766e8e4fbd80",
   "outputs": [
    {
     "data": {
      "text/plain": [
       "array([0.        , 0.        , 0.        , 0.77406408, 0.        ])"
      ]
     },
     "execution_count": 12,
     "metadata": {},
     "output_type": "execute_result"
    }
   ],
   "execution_count": 12
  },
  {
   "metadata": {
    "ExecuteTime": {
     "end_time": "2024-09-01T12:54:59.880461Z",
     "start_time": "2024-09-01T12:54:59.869595Z"
    }
   },
   "cell_type": "code",
   "source": "features.shape",
   "id": "93c9e2a56147cf74",
   "outputs": [
    {
     "data": {
      "text/plain": [
       "(3, 401059)"
      ]
     },
     "execution_count": 13,
     "metadata": {},
     "output_type": "execute_result"
    }
   ],
   "execution_count": 13
  },
  {
   "metadata": {
    "ExecuteTime": {
     "end_time": "2024-09-01T12:54:59.895777Z",
     "start_time": "2024-09-01T12:54:59.881423Z"
    }
   },
   "cell_type": "code",
   "source": [
    "mean = np.mean(features, axis=1).reshape(-1, 1)\n",
    "std = np.std(features, axis=1).reshape(-1, 1)"
   ],
   "id": "c7babda18ceb8f1f",
   "outputs": [],
   "execution_count": 14
  },
  {
   "metadata": {
    "ExecuteTime": {
     "end_time": "2024-09-01T12:54:59.911552Z",
     "start_time": "2024-09-01T12:54:59.896794Z"
    }
   },
   "cell_type": "code",
   "source": "(features - mean)[:5]",
   "id": "8dcfc726cb21e54f",
   "outputs": [
    {
     "data": {
      "text/plain": [
       "array([[-1.57219066e+00, -1.44087257e+00, -2.48795913e-01, ...,\n",
       "        -3.61419226e-01,  6.53989826e+00,  2.47596282e+00],\n",
       "       [ 3.92348982e+00, -1.35622965e+00,  1.40189385e+00, ...,\n",
       "        -2.13074791e+00, -2.17496025e+00, -1.67687525e+00],\n",
       "       [-2.53965502e+02, -2.53965502e+02, -2.53965502e+02, ...,\n",
       "        -2.53145512e+02, -2.52743227e+02, -2.53065877e+02]])"
      ]
     },
     "execution_count": 15,
     "metadata": {},
     "output_type": "execute_result"
    }
   ],
   "execution_count": 15
  },
  {
   "metadata": {
    "ExecuteTime": {
     "end_time": "2024-09-01T12:55:01.784978Z",
     "start_time": "2024-09-01T12:54:59.912542Z"
    }
   },
   "cell_type": "code",
   "source": "from prototypes.deeplearning.dataloader.IsicDataLoader import metadata_transform\n",
   "id": "b9103a14396039d8",
   "outputs": [],
   "execution_count": 16
  },
  {
   "metadata": {
    "ExecuteTime": {
     "end_time": "2024-09-01T12:55:02.171213Z",
     "start_time": "2024-09-01T12:55:01.785918Z"
    }
   },
   "cell_type": "code",
   "source": "metadata_dict, mean, std = metadata_transform(metadata_df)",
   "id": "a5fcb89123b0be7d",
   "outputs": [
    {
     "ename": "UFuncTypeError",
     "evalue": "Cannot cast ufunc 'subtract' output from dtype('O') to dtype('float32') with casting rule 'same_kind'",
     "output_type": "error",
     "traceback": [
      "\u001B[0;31m---------------------------------------------------------------------------\u001B[0m",
      "\u001B[0;31mUFuncTypeError\u001B[0m                            Traceback (most recent call last)",
      "Cell \u001B[0;32mIn[17], line 1\u001B[0m\n\u001B[0;32m----> 1\u001B[0m metadata_dict, mean, std \u001B[38;5;241m=\u001B[39m \u001B[43mmetadata_transform\u001B[49m\u001B[43m(\u001B[49m\u001B[43mmetadata_df\u001B[49m\u001B[43m)\u001B[49m\n",
      "File \u001B[0;32m~/workspace/ISIC-2024-Skin-Cancer-Detection-3D-TBP/prototypes/deeplearning/dataloader/IsicDataLoader.py:105\u001B[0m, in \u001B[0;36mmetadata_transform\u001B[0;34m(df, mean, std)\u001B[0m\n\u001B[1;32m    102\u001B[0m     mean \u001B[38;5;241m=\u001B[39m np\u001B[38;5;241m.\u001B[39mmean(features, axis\u001B[38;5;241m=\u001B[39m\u001B[38;5;241m1\u001B[39m)\u001B[38;5;241m.\u001B[39mreshape(\u001B[38;5;241m-\u001B[39m\u001B[38;5;241m1\u001B[39m, \u001B[38;5;241m1\u001B[39m)\n\u001B[1;32m    103\u001B[0m     std \u001B[38;5;241m=\u001B[39m np\u001B[38;5;241m.\u001B[39mstd(features, axis\u001B[38;5;241m=\u001B[39m\u001B[38;5;241m1\u001B[39m)\u001B[38;5;241m.\u001B[39mreshape(\u001B[38;5;241m-\u001B[39m\u001B[38;5;241m1\u001B[39m, \u001B[38;5;241m1\u001B[39m)\n\u001B[0;32m--> 105\u001B[0m features \u001B[38;5;241m-\u001B[39m\u001B[38;5;241m=\u001B[39m mean\n\u001B[1;32m    106\u001B[0m features \u001B[38;5;241m/\u001B[39m\u001B[38;5;241m=\u001B[39m std\n\u001B[1;32m    108\u001B[0m \u001B[38;5;28;01mreturn\u001B[39;00m \u001B[38;5;28mdict\u001B[39m(\u001B[38;5;28mzip\u001B[39m(ids, features)), mean, std\n",
      "\u001B[0;31mUFuncTypeError\u001B[0m: Cannot cast ufunc 'subtract' output from dtype('O') to dtype('float32') with casting rule 'same_kind'"
     ]
    }
   ],
   "execution_count": 17
  },
  {
   "metadata": {},
   "cell_type": "code",
   "source": "",
   "id": "992da1a9a34b0228",
   "outputs": [],
   "execution_count": null
  }
 ],
 "metadata": {
  "kernelspec": {
   "display_name": "Python 3",
   "language": "python",
   "name": "python3"
  },
  "language_info": {
   "codemirror_mode": {
    "name": "ipython",
    "version": 2
   },
   "file_extension": ".py",
   "mimetype": "text/x-python",
   "name": "python",
   "nbconvert_exporter": "python",
   "pygments_lexer": "ipython2",
   "version": "2.7.6"
  }
 },
 "nbformat": 4,
 "nbformat_minor": 5
}

{
 "cells": [
  {
   "cell_type": "code",
   "id": "initial_id",
   "metadata": {
    "collapsed": true,
    "ExecuteTime": {
     "end_time": "2024-08-15T15:19:16.489810Z",
     "start_time": "2024-08-15T15:19:16.077479Z"
    }
   },
   "source": [
    "import numpy as np\n",
    "from prototypes.utility.data import DataLoader\n",
    "from prototypes.utility.data import ProjectConfiguration\n",
    "import matplotlib.pyplot as plt\n",
    "from prototypes.classical.segmentation.transformers import BlackBarsRemover, OtsuThresholdingSegmentation\n",
    "from prototypes.classical.descriptors.texture import LBPTransformer, GaborTransformer, HoGTransformer, GaborTransformerBank\n",
    "from prototypes.classical.descriptors.vetorizer import PCAVectorizer\n",
    "import cv2\n",
    "\n",
    "%load_ext autoreload\n",
    "%autoreload 2"
   ],
   "execution_count": 17,
   "outputs": []
  },
  {
   "metadata": {},
   "cell_type": "markdown",
   "source": [
    "Find a way to discriminate between 2 groups.\n",
    "\n",
    "Benign and Malignant tumors in skin images.\n",
    "\n",
    "Describing both by gabor texture banks, then reduce dimensions training a pca."
   ],
   "id": "d923d78cc0bc453f"
  },
  {
   "metadata": {
    "ExecuteTime": {
     "end_time": "2024-08-15T15:19:16.501556Z",
     "start_time": "2024-08-15T15:19:16.490883Z"
    }
   },
   "cell_type": "code",
   "source": "config = ProjectConfiguration(\"../config.json\")",
   "id": "ecbafed33ced5751",
   "execution_count": 18,
   "outputs": []
  },
  {
   "metadata": {},
   "cell_type": "markdown",
   "source": "",
   "id": "5e65dd409855727"
  },
  {
   "metadata": {
    "ExecuteTime": {
     "end_time": "2024-08-15T15:19:16.527342Z",
     "start_time": "2024-08-15T15:19:16.502440Z"
    }
   },
   "cell_type": "code",
   "source": "config.get_keys()",
   "id": "a0127acaf447a665",
   "execution_count": 19,
   "outputs": []
  },
  {
   "metadata": {
    "ExecuteTime": {
     "end_time": "2024-08-15T15:19:27.143928Z",
     "start_time": "2024-08-15T15:19:16.529148Z"
    }
   },
   "cell_type": "code",
   "source": "data_loader = DataLoader(data_path=config.get_value(\"TRAIN_IMAGES_PATH\"), metadata_path=config.get_value(\"TRAIN_METADATA\"))",
   "id": "c74c061e21882d64",
   "execution_count": 20,
   "outputs": []
  },
  {
   "metadata": {
    "ExecuteTime": {
     "end_time": "2024-08-15T15:19:53.368025Z",
     "start_time": "2024-08-15T15:19:27.144766Z"
    }
   },
   "cell_type": "code",
   "source": [
    "MALIGN_SAMPLES = 190\n",
    "BENIGN_SAMPLES = 15000\n",
    "\n",
    "malign_images = data_loader.get_data(target=1, width=64, height=64, mode=\"gray\")[:MALIGN_SAMPLES]\n",
    "bening_images = data_loader.get_data(target=0, width=64, height=64, mode=\"gray\")[:BENIGN_SAMPLES]\n",
    "otsu_thresholding = OtsuThresholdingSegmentation()\n",
    "lbp_transformer = LBPTransformer(p=8, r=1)"
   ],
   "id": "71970b89abb5bc90",
   "execution_count": 21,
   "outputs": []
  },
  {
   "metadata": {},
   "cell_type": "markdown",
   "source": "# Distribution based on gabor banks",
   "id": "79a27a302fe4b809"
  },
  {
   "metadata": {
    "ExecuteTime": {
     "end_time": "2024-08-15T15:19:53.385416Z",
     "start_time": "2024-08-15T15:19:53.369150Z"
    }
   },
   "cell_type": "code",
   "source": [
    "x = np.linspace(-255, 256, 256)\n",
    "\n",
    "def gaussian_dist(x, mean, std):\n",
    "    return (1/(std*np.sqrt(2*np.pi))) * np.exp(-(x-mean)**2/(2*std**2))"
   ],
   "id": "73e2e678997f97a6",
   "execution_count": 22,
   "outputs": []
  },
  {
   "metadata": {
    "ExecuteTime": {
     "end_time": "2024-08-15T15:19:53.405590Z",
     "start_time": "2024-08-15T15:19:53.386442Z"
    }
   },
   "cell_type": "code",
   "source": [
    "gabor_banks = [GaborTransformer(frequency=1/100, theta=np.pi/4, sigma_x=5, sigma_y=5),\n",
    "               GaborTransformer(frequency=1/100, theta=np.pi/2, sigma_x=5, sigma_y=5),\n",
    "               GaborTransformer(frequency=1/100, theta=np.pi, sigma_x=5, sigma_y=5)]\n",
    "\n",
    "gabor_transformer = GaborTransformerBank(gabor_banks=gabor_banks)"
   ],
   "id": "9011a45682f03ecf",
   "execution_count": 23,
   "outputs": []
  },
  {
   "metadata": {
    "ExecuteTime": {
     "end_time": "2024-08-15T15:21:27.046680Z",
     "start_time": "2024-08-15T15:19:53.406610Z"
    }
   },
   "cell_type": "code",
   "source": [
    "gabor_benign = gabor_transformer.transform(bening_images)\n",
    "gabor_malignant = gabor_transformer.transform(malign_images)"
   ],
   "id": "ce28f56a88c67cb0",
   "execution_count": 24,
   "outputs": []
  },
  {
   "metadata": {
    "ExecuteTime": {
     "end_time": "2024-08-15T15:21:27.060390Z",
     "start_time": "2024-08-15T15:21:27.047766Z"
    }
   },
   "cell_type": "code",
   "source": "from prototypes.classical.descriptors.vetorizer import PCAVectorizer",
   "id": "e250732998244c9f",
   "execution_count": 25,
   "outputs": []
  },
  {
   "metadata": {
    "ExecuteTime": {
     "end_time": "2024-08-15T15:21:27.080419Z",
     "start_time": "2024-08-15T15:21:27.062376Z"
    }
   },
   "cell_type": "code",
   "source": "gabor_benign.shape, gabor_malignant.shape",
   "id": "dba6ba93b4dee51a",
   "execution_count": 26,
   "outputs": []
  },
  {
   "metadata": {
    "ExecuteTime": {
     "end_time": "2024-08-15T15:22:00.858158Z",
     "start_time": "2024-08-15T15:21:27.081202Z"
    }
   },
   "cell_type": "code",
   "source": [
    "pca_vectorizer_b = PCAVectorizer(n_components=32, batch_size=512)\n",
    "pca_vectorizer_b.fit(gabor_benign)"
   ],
   "id": "9b63e957e3b129e",
   "execution_count": 27,
   "outputs": []
  },
  {
   "metadata": {
    "ExecuteTime": {
     "end_time": "2024-08-15T15:22:01.208757Z",
     "start_time": "2024-08-15T15:22:00.859225Z"
    }
   },
   "cell_type": "code",
   "source": [
    "pca_vectorizer_m = PCAVectorizer(n_components=32, batch_size=512)\n",
    "pca_vectorizer_m.fit(gabor_malignant)"
   ],
   "id": "f017b06bdbd9c222",
   "execution_count": 28,
   "outputs": []
  },
  {
   "metadata": {
    "ExecuteTime": {
     "end_time": "2024-08-15T15:22:01.392456Z",
     "start_time": "2024-08-15T15:22:01.212075Z"
    }
   },
   "cell_type": "code",
   "source": "plt.imshow(gabor_benign[0][0], \"gray\")",
   "id": "e67d46f5fd437648",
   "execution_count": 29,
   "outputs": []
  },
  {
   "metadata": {
    "ExecuteTime": {
     "end_time": "2024-08-15T15:22:01.498763Z",
     "start_time": "2024-08-15T15:22:01.393396Z"
    }
   },
   "cell_type": "code",
   "source": "plt.imshow(gabor_benign[-1][0], \"gray\")",
   "id": "d1914679a8176385",
   "execution_count": 30,
   "outputs": []
  },
  {
   "metadata": {},
   "cell_type": "markdown",
   "source": "# mean and std for each component of the PCA to make a distribution",
   "id": "8b5b59f03e7b2a8"
  },
  {
   "metadata": {
    "ExecuteTime": {
     "end_time": "2024-08-15T15:22:02.575976Z",
     "start_time": "2024-08-15T15:22:01.499642Z"
    }
   },
   "cell_type": "code",
   "source": [
    "pca_gabor_benign = pca_vectorizer_b.transform(gabor_benign)\n",
    "pca_gabor_malignant = pca_vectorizer_m.transform(gabor_malignant)"
   ],
   "id": "8bd68987b546df0e",
   "execution_count": 31,
   "outputs": []
  },
  {
   "metadata": {
    "ExecuteTime": {
     "end_time": "2024-08-15T15:22:02.612894Z",
     "start_time": "2024-08-15T15:22:02.578176Z"
    }
   },
   "cell_type": "code",
   "source": "pca_gabor_benign.shape, gabor_malignant.shape",
   "id": "2229ba20e29d0da9",
   "execution_count": 32,
   "outputs": []
  },
  {
   "metadata": {
    "ExecuteTime": {
     "end_time": "2024-08-15T15:22:02.648426Z",
     "start_time": "2024-08-15T15:22:02.614776Z"
    }
   },
   "cell_type": "code",
   "source": [
    "def print_gaussian(pca_gabor_benign, pca_gabor_malignant, component):\n",
    "    mean_benign = pca_gabor_benign[:, component].mean()\n",
    "    std_benign = pca_gabor_benign[:, component].std()\n",
    "    \n",
    "    mean_malignant = pca_gabor_malignant[:, component].mean()\n",
    "    std_malignant = pca_gabor_malignant[:, component].std()\n",
    "    \n",
    "    plt.plot(x, gaussian_dist(x, mean_benign, std_benign), label=f\"Benign-component-{component}\")\n",
    "    plt.plot(x, gaussian_dist(x, mean_malignant, std_malignant), label=f\"Malignant-{component}\")\n",
    "\n",
    "    plt.legend()\n",
    "    plt.show()"
   ],
   "id": "a2681945f54a6ac3",
   "execution_count": 33,
   "outputs": []
  },
  {
   "metadata": {
    "ExecuteTime": {
     "end_time": "2024-08-15T15:22:02.731822Z",
     "start_time": "2024-08-15T15:22:02.649419Z"
    }
   },
   "cell_type": "code",
   "source": "print_gaussian(pca_gabor_benign, pca_gabor_malignant, 4)",
   "id": "411d48848ff1e776",
   "execution_count": 34,
   "outputs": []
  },
  {
   "metadata": {},
   "cell_type": "markdown",
   "source": "# Blending images",
   "id": "472c22ffd3a9b6db"
  },
  {
   "metadata": {
    "ExecuteTime": {
     "end_time": "2024-08-15T15:22:02.746882Z",
     "start_time": "2024-08-15T15:22:02.732757Z"
    }
   },
   "cell_type": "code",
   "source": [
    "def blend_image(image1, image2, alpha):\n",
    "    random_sample = np.random.beta(alpha, alpha, 1)\n",
    "    return (random_sample * image1 + (1-random_sample) * image2)"
   ],
   "id": "9173996733ad893a",
   "execution_count": 35,
   "outputs": []
  },
  {
   "metadata": {
    "ExecuteTime": {
     "end_time": "2024-08-15T15:22:02.761539Z",
     "start_time": "2024-08-15T15:22:02.747903Z"
    }
   },
   "cell_type": "code",
   "source": "blended_image = blend_image(bening_images[31], malign_images[8], 0.2)",
   "id": "1065e9be19ed57fe",
   "execution_count": 36,
   "outputs": []
  },
  {
   "metadata": {
    "ExecuteTime": {
     "end_time": "2024-08-15T15:22:02.774848Z",
     "start_time": "2024-08-15T15:22:02.762512Z"
    }
   },
   "cell_type": "code",
   "source": "blended_image.max(), blended_image.min()",
   "id": "43a30cd00f9476fa",
   "execution_count": 37,
   "outputs": []
  },
  {
   "metadata": {
    "ExecuteTime": {
     "end_time": "2024-08-15T15:22:02.870061Z",
     "start_time": "2024-08-15T15:22:02.775797Z"
    }
   },
   "cell_type": "code",
   "source": "plt.imshow(blended_image, \"gray\")",
   "id": "f20fe9268cb32e58",
   "execution_count": 38,
   "outputs": []
  },
  {
   "metadata": {
    "ExecuteTime": {
     "end_time": "2024-08-15T15:22:03.116833Z",
     "start_time": "2024-08-15T15:22:02.871119Z"
    }
   },
   "cell_type": "code",
   "source": [
    "blended_gabor_image = gabor_transformer.transform([blended_image])\n",
    "#\n",
    "\n",
    "image_1_gabor = gabor_transformer.transform([bening_images[31]])\n",
    "image_2_gabor = gabor_transformer.transform([malign_images[8]]) \n",
    "# \n",
    "\n",
    "blended_pca_transform_m = pca_vectorizer_m.transform(blended_gabor_image)\n",
    "blended_pca_transform_b = pca_vectorizer_b.transform(blended_gabor_image)\n",
    "\n",
    "image_1_pca_b = pca_vectorizer_b.transform(image_1_gabor)\n",
    "image_2_pca_m = pca_vectorizer_m.transform(image_2_gabor)"
   ],
   "id": "5f00cff598865cb6",
   "execution_count": 39,
   "outputs": []
  },
  {
   "metadata": {
    "ExecuteTime": {
     "end_time": "2024-08-15T15:22:03.405974Z",
     "start_time": "2024-08-15T15:22:03.118857Z"
    }
   },
   "cell_type": "code",
   "source": [
    "_, ax = plt.subplots(1, 3, figsize=(15, 15))\n",
    "\n",
    "ax[0].imshow(blended_gabor_image[0][0], \"gray\")\n",
    "ax[1].imshow(image_1_gabor[0][0], \"gray\")\n",
    "ax[2].imshow(image_2_gabor[0][0], \"gray\")"
   ],
   "id": "242cf4202f302685",
   "execution_count": 40,
   "outputs": []
  },
  {
   "metadata": {
    "ExecuteTime": {
     "end_time": "2024-08-15T15:22:03.604719Z",
     "start_time": "2024-08-15T15:22:03.406938Z"
    }
   },
   "cell_type": "code",
   "source": [
    "plt.hist(blended_pca_transform_m[0], range(len(blended_pca_transform_m[0])), label=\"PCA-blended-malignant_pca\")\n",
    "plt.hist(blended_pca_transform_b[0], range(len(blended_pca_transform_b[0])), label=\"PCA-blended-benign_pca\")\n",
    "\n",
    "plt.legend()\n",
    "plt.show()"
   ],
   "id": "ccdb0617834368f",
   "execution_count": 41,
   "outputs": []
  },
  {
   "metadata": {
    "ExecuteTime": {
     "end_time": "2024-08-15T15:22:03.849335Z",
     "start_time": "2024-08-15T15:22:03.605757Z"
    }
   },
   "cell_type": "code",
   "source": [
    "plt.hist(image_1_pca_b[0], range(len(image_1_pca_b[0])), label=\"PCA-benign_pca\")\n",
    "plt.hist(image_2_pca_m[0], range(len(image_2_pca_m[0])), label=\"PCA-malignant_pca\")\n",
    "\n",
    "plt.hist(blended_pca_transform_m[0], range(len(blended_pca_transform_m[0])), label=\"PCA-blended-malignant_pca\")\n",
    "plt.hist(blended_pca_transform_b[0], range(len(blended_pca_transform_b[0])), label=\"PCA-blended-benign_pca\")\n",
    "\n",
    "plt.legend()\n",
    "plt.show()"
   ],
   "id": "f7b75e2d7952052f",
   "execution_count": 42,
   "outputs": []
  },
  {
   "metadata": {},
   "cell_type": "markdown",
   "source": "# thresholding first",
   "id": "8ac2367ffaa71430"
  },
  {
   "metadata": {
    "ExecuteTime": {
     "end_time": "2024-08-15T15:22:03.862083Z",
     "start_time": "2024-08-15T15:22:03.850140Z"
    }
   },
   "cell_type": "code",
   "source": [
    "otsu_thresholding_transform = OtsuThresholdingSegmentation()\n",
    "remove_black_bars_transform = BlackBarsRemover()"
   ],
   "id": "1d37ff2bf3b865b8",
   "execution_count": 43,
   "outputs": []
  },
  {
   "metadata": {
    "ExecuteTime": {
     "end_time": "2024-08-15T15:22:04.563130Z",
     "start_time": "2024-08-15T15:22:03.864767Z"
    }
   },
   "cell_type": "code",
   "source": [
    "bening_thresholded = otsu_thresholding_transform.transform(bening_images)\n",
    "malignant_thresholded = otsu_thresholding_transform.transform(malign_images)"
   ],
   "id": "8471dd0b69724ccf",
   "execution_count": 44,
   "outputs": []
  },
  {
   "metadata": {
    "ExecuteTime": {
     "end_time": "2024-08-15T15:22:04.682168Z",
     "start_time": "2024-08-15T15:22:04.563935Z"
    }
   },
   "cell_type": "code",
   "source": "plt.imshow(malignant_thresholded[2], \"gray\")",
   "id": "734581b970b7027a",
   "execution_count": 45,
   "outputs": []
  },
  {
   "metadata": {
    "ExecuteTime": {
     "end_time": "2024-08-15T15:23:36.612463Z",
     "start_time": "2024-08-15T15:22:04.682950Z"
    }
   },
   "cell_type": "code",
   "source": [
    "bening_images_thresholded_gabor = gabor_transformer.transform(bening_thresholded)\n",
    "malign_images_thresholded_gabor = gabor_transformer.transform(malignant_thresholded)"
   ],
   "id": "1163c81b856dbb3a",
   "execution_count": 46,
   "outputs": []
  },
  {
   "metadata": {
    "ExecuteTime": {
     "end_time": "2024-08-15T15:23:36.700586Z",
     "start_time": "2024-08-15T15:23:36.613351Z"
    }
   },
   "cell_type": "code",
   "source": "plt.imshow(malign_images_thresholded_gabor[2][0], \"gray\")",
   "id": "404f37377227fc9",
   "execution_count": 47,
   "outputs": []
  },
  {
   "metadata": {
    "ExecuteTime": {
     "end_time": "2024-08-15T15:23:36.712728Z",
     "start_time": "2024-08-15T15:23:36.701413Z"
    }
   },
   "cell_type": "code",
   "source": "bening_images_thresholded_gabor.shape",
   "id": "a8e7d91a640e4dff",
   "execution_count": 48,
   "outputs": []
  },
  {
   "metadata": {
    "ExecuteTime": {
     "end_time": "2024-08-15T15:24:08.598956Z",
     "start_time": "2024-08-15T15:23:36.713446Z"
    }
   },
   "cell_type": "code",
   "source": [
    "pca_vectorizer_b = PCAVectorizer(n_components=32, batch_size=512)\n",
    "pca_vectorizer_m = PCAVectorizer(n_components=32, batch_size=512)\n",
    "\n",
    "pca_vectorizer_b.fit(bening_images_thresholded_gabor)\n",
    "pca_vectorizer_m.fit(malign_images_thresholded_gabor)\n",
    "\n",
    "pca_bening_thresholded_gabor = pca_vectorizer_b.transform(bening_images_thresholded_gabor)\n",
    "pca_malignant_thresholded_gabor = pca_vectorizer_m.transform(malign_images_thresholded_gabor)"
   ],
   "id": "81bc5f3899f4f493",
   "execution_count": 49,
   "outputs": []
  },
  {
   "metadata": {
    "ExecuteTime": {
     "end_time": "2024-08-15T15:24:08.737669Z",
     "start_time": "2024-08-15T15:24:08.601214Z"
    }
   },
   "cell_type": "code",
   "source": "print_gaussian(pca_bening_thresholded_gabor, pca_malignant_thresholded_gabor, 0)",
   "id": "98d32d494a32e18d",
   "execution_count": 50,
   "outputs": []
  },
  {
   "metadata": {},
   "cell_type": "markdown",
   "source": "# threshold blending",
   "id": "13e859fc44797ce"
  },
  {
   "metadata": {
    "ExecuteTime": {
     "end_time": "2024-08-15T15:24:08.979404Z",
     "start_time": "2024-08-15T15:24:08.738575Z"
    }
   },
   "cell_type": "code",
   "source": [
    "index_1 = 0\n",
    "index_2 = 10\n",
    "\n",
    "blended_image = blend_image(bening_thresholded[index_1], malignant_thresholded[index_2], 0.2)\n",
    "\n",
    "_, ax = plt.subplots(1, 3, figsize=(15, 15))\n",
    "\n",
    "ax[0].imshow(blended_image, \"gray\")\n",
    "ax[1].imshow(bening_thresholded[index_1], \"gray\")\n",
    "ax[2].imshow(malignant_thresholded[index_2], \"gray\")"
   ],
   "id": "c06f4d151e4b7343",
   "execution_count": 51,
   "outputs": []
  },
  {
   "metadata": {
    "ExecuteTime": {
     "end_time": "2024-08-15T15:24:08.995433Z",
     "start_time": "2024-08-15T15:24:08.980228Z"
    }
   },
   "cell_type": "code",
   "source": [
    "def mix_up_data(x, y, alpha):\n",
    "    '''Returns mixed inputs, pairs of targets, and lambda'''\n",
    "    if alpha > 0:\n",
    "        lam = np.random.beta(alpha, alpha)\n",
    "    else:\n",
    "        lam = 1\n",
    "    \n",
    "    #x.size()[0]\n",
    "    batch_size = x.shape[0]\n",
    "    # index = torch.randperm(batch_size)\n",
    "    index = np.random.permutation(range(batch_size))\n",
    "    \n",
    "    mixed_x = lam * x + (1 - lam) * x[index, :]\n",
    "    y_a, y_b = y, y[index]\n",
    "    \n",
    "    return mixed_x, y_a, y_b, lam"
   ],
   "id": "4ea29444cb30b2fd",
   "execution_count": 52,
   "outputs": []
  },
  {
   "metadata": {
    "ExecuteTime": {
     "end_time": "2024-08-15T15:24:09.198405Z",
     "start_time": "2024-08-15T15:24:08.996274Z"
    }
   },
   "cell_type": "code",
   "source": [
    "X = np.vstack((bening_images, malign_images))\n",
    "y = np.vstack((np.zeros((len(bening_images), 1)), np.ones((len(malign_images), 1))))\n",
    "\n",
    "mixed_x, y_a, y_b, lam = mix_up_data(X, y, 0.2)"
   ],
   "id": "12ff9917fdd51536",
   "execution_count": 53,
   "outputs": []
  },
  {
   "metadata": {
    "ExecuteTime": {
     "end_time": "2024-08-15T15:26:14.767938Z",
     "start_time": "2024-08-15T15:24:09.199271Z"
    }
   },
   "cell_type": "code",
   "source": [
    "from sklearn.ensemble import HistGradientBoostingRegressor\n",
    "\n",
    "features = mixed_x.astype(np.uint8)\n",
    "\n",
    "# features = otsu_thresholding.transform(features)\n",
    "features = gabor_transformer.transform(features)\n",
    "pca_vectorizer_mix = PCAVectorizer(n_components=32, batch_size=512)\n",
    "pca_vectorizer_mix.fit(features)\n",
    "features = pca_vectorizer_mix.transform(features) "
   ],
   "id": "6eef8ea52b5b9401",
   "execution_count": 54,
   "outputs": []
  },
  {
   "metadata": {
    "ExecuteTime": {
     "end_time": "2024-08-15T15:26:14.803906Z",
     "start_time": "2024-08-15T15:26:14.769997Z"
    }
   },
   "cell_type": "code",
   "source": "features.shape",
   "id": "55498f2dc80cb1f0",
   "execution_count": 55,
   "outputs": []
  },
  {
   "metadata": {
    "ExecuteTime": {
     "end_time": "2024-08-15T15:26:14.837689Z",
     "start_time": "2024-08-15T15:26:14.805974Z"
    }
   },
   "cell_type": "code",
   "source": "hgrd = HistGradientBoostingRegressor()",
   "id": "4af0c018836fd894",
   "execution_count": 56,
   "outputs": []
  },
  {
   "metadata": {
    "ExecuteTime": {
     "end_time": "2024-08-15T15:26:14.851913Z",
     "start_time": "2024-08-15T15:26:14.839124Z"
    }
   },
   "cell_type": "code",
   "source": "np.hstack((y_a, y_b)).shape",
   "id": "e3383daf690c8251",
   "execution_count": 57,
   "outputs": []
  },
  {
   "metadata": {
    "ExecuteTime": {
     "end_time": "2024-08-15T15:26:15.028926Z",
     "start_time": "2024-08-15T15:26:14.852707Z"
    }
   },
   "cell_type": "code",
   "source": "hgrd.fit(features, (y_a * lam + (1-lam) * y_b).ravel())",
   "id": "2cfe9b8fc756c83b",
   "execution_count": 58,
   "outputs": []
  },
  {
   "metadata": {
    "ExecuteTime": {
     "end_time": "2024-08-15T15:26:15.060787Z",
     "start_time": "2024-08-15T15:26:15.029797Z"
    }
   },
   "cell_type": "code",
   "source": [
    "from sklearn.metrics import accuracy_score, precision_score, recall_score, f1_score, roc_auc_score, classification_report\n",
    "\n",
    "\n",
    "preds = hgrd.predict(features)\n",
    "print(classification_report(y_true=y, y_pred=preds>0.5))"
   ],
   "id": "6ba97c5515ce1003",
   "execution_count": 59,
   "outputs": []
  },
  {
   "metadata": {
    "ExecuteTime": {
     "end_time": "2024-08-15T15:28:14.868184Z",
     "start_time": "2024-08-15T15:26:15.061565Z"
    }
   },
   "cell_type": "code",
   "source": [
    "test_malign_images = data_loader.get_data(target=1, width=64, height=64, mode=\"gray\")[MALIGN_SAMPLES: ]\n",
    "test_bening_images = data_loader.get_data(target=0, width=64, height=64, mode=\"gray\")[BENIGN_SAMPLES: BENIGN_SAMPLES*2]\n",
    "\n",
    "X = np.vstack((test_malign_images, test_bening_images))\n",
    "y_test = np.vstack((np.zeros((len(test_bening_images), 1)), np.ones((len(test_malign_images), 1))))\n",
    "\n",
    "test_features = X\n",
    "\n",
    "# test_features = otsu_thresholding.transform(test_features)\n",
    "test_features = gabor_transformer.transform(test_features)\n",
    "test_features = pca_vectorizer_mix.transform(test_features) \n",
    "\n",
    "preds = hgrd.predict(test_features)\n",
    "print(classification_report(y_true=y_test, y_pred=preds>0.5))"
   ],
   "id": "4b735b51c3dcf20d",
   "execution_count": 60,
   "outputs": []
  },
  {
   "metadata": {
    "ExecuteTime": {
     "end_time": "2024-08-15T15:28:14.870718Z",
     "start_time": "2024-08-15T15:28:14.868995Z"
    }
   },
   "cell_type": "code",
   "source": "",
   "id": "c68bc3d86e54b4c2",
   "execution_count": 60,
   "outputs": []
  }
 ],
 "metadata": {
  "kernelspec": {
   "display_name": "Python 3",
   "language": "python",
   "name": "python3"
  },
  "language_info": {
   "codemirror_mode": {
    "name": "ipython",
    "version": 2
   },
   "file_extension": ".py",
   "mimetype": "text/x-python",
   "name": "python",
   "nbconvert_exporter": "python",
   "pygments_lexer": "ipython2",
   "version": "2.7.6"
  }
 },
 "nbformat": 4,
 "nbformat_minor": 5
}

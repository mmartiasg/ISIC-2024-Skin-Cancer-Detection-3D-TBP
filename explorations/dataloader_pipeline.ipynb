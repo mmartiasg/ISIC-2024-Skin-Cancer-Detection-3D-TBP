{
 "cells": [
  {
   "cell_type": "code",
   "id": "initial_id",
   "metadata": {
    "collapsed": true,
    "ExecuteTime": {
     "end_time": "2024-08-04T23:23:13.208905Z",
     "start_time": "2024-08-04T23:23:10.205440Z"
    }
   },
   "source": [
    "import json\n",
    "import cv2\n",
    "from matplotlib import pyplot as plt\n",
    "import os\n",
    "import numpy as np\n",
    "import pandas as pd\n",
    "from prototypes.classical.descriptors.texture import LBPTransformer, HoGTransformer, GaborTransformer\n",
    "from prototypes.classical.dataloader.Loader import IsiCancerData\n",
    "from prototypes.classical.descriptors.vetorizer import LBPVectorizer\n",
    "import torch\n",
    "from prototypes.classical.descriptors.vetorizer import GaborAttentionLBPVectors\n",
    "from prototypes.deeplearning.dataloader.IsicDataLoader import LoadDataVectors, LoadPreProcessVectors\n",
    "\n",
    "%load_ext autoreload\n",
    "%autoreload 2\n",
    "\n",
    "with open(\"../config.json\", \"r\") as f:\n",
    "    config = json.load(f)"
   ],
   "execution_count": 1,
   "outputs": []
  },
  {
   "metadata": {
    "ExecuteTime": {
     "end_time": "2024-08-04T23:23:18.352619Z",
     "start_time": "2024-08-04T23:23:13.210711Z"
    }
   },
   "cell_type": "code",
   "source": "train_csv = pd.read_csv(config[\"TRAIN_METADATA\"])",
   "id": "a46eecf6bc50b15b",
   "execution_count": 2,
   "outputs": []
  },
  {
   "metadata": {
    "ExecuteTime": {
     "end_time": "2024-08-04T23:23:18.402070Z",
     "start_time": "2024-08-04T23:23:18.353991Z"
    }
   },
   "cell_type": "code",
   "source": [
    "image_file_name = train_csv.query(\"target==1\").to_numpy()[0][0] + \".jpg\"\n",
    "\n",
    "cancer_image = cv2.imread(os.path.join(config[\"TRAIN_IMAGES_PATH\"], image_file_name), cv2.IMREAD_COLOR)[:,:,::-1]"
   ],
   "id": "fe271b9c85294288",
   "execution_count": 3,
   "outputs": []
  },
  {
   "metadata": {
    "ExecuteTime": {
     "end_time": "2024-08-04T23:23:18.482183Z",
     "start_time": "2024-08-04T23:23:18.403325Z"
    }
   },
   "cell_type": "code",
   "source": "vectorizer = GaborAttentionLBPVectors()",
   "id": "384b81aa15c1a8d0",
   "execution_count": 4,
   "outputs": []
  },
  {
   "metadata": {
    "ExecuteTime": {
     "end_time": "2024-08-04T23:23:18.803080Z",
     "start_time": "2024-08-04T23:23:18.484622Z"
    }
   },
   "cell_type": "code",
   "source": "vectorizer.transform(cancer_image).shape",
   "id": "fca09fa05ba7ede5",
   "execution_count": 5,
   "outputs": []
  },
  {
   "metadata": {
    "ExecuteTime": {
     "end_time": "2024-08-04T23:23:19.069826Z",
     "start_time": "2024-08-04T23:23:18.804320Z"
    }
   },
   "cell_type": "code",
   "source": "vector = vectorizer.transform(cancer_image)",
   "id": "a14cb6e45169be08",
   "execution_count": 6,
   "outputs": []
  },
  {
   "metadata": {
    "ExecuteTime": {
     "end_time": "2024-08-04T23:23:19.094023Z",
     "start_time": "2024-08-04T23:23:19.071040Z"
    }
   },
   "cell_type": "code",
   "source": "vector",
   "id": "402eca650fadd171",
   "execution_count": 7,
   "outputs": []
  },
  {
   "metadata": {
    "ExecuteTime": {
     "end_time": "2024-08-04T23:23:19.154724Z",
     "start_time": "2024-08-04T23:23:19.095449Z"
    }
   },
   "cell_type": "code",
   "source": [
    "import h5py\n",
    "\n",
    "DATASET_PATH = config[\"DATASET_PATH\"]\n",
    "\n",
    "test_hd5f = h5py.File(os.path.join(DATASET_PATH, \"test-image.hdf5\"), \"r\")"
   ],
   "id": "5e4616b28a6e1b39",
   "execution_count": 8,
   "outputs": []
  },
  {
   "metadata": {
    "ExecuteTime": {
     "end_time": "2024-08-04T23:23:19.233658Z",
     "start_time": "2024-08-04T23:23:19.156146Z"
    }
   },
   "cell_type": "code",
   "source": "keys = list(test_hd5f.keys())",
   "id": "6f896870607e389c",
   "execution_count": 9,
   "outputs": []
  },
  {
   "metadata": {
    "ExecuteTime": {
     "end_time": "2024-08-04T23:23:19.312815Z",
     "start_time": "2024-08-04T23:23:19.235089Z"
    }
   },
   "cell_type": "code",
   "source": "keys",
   "id": "64a075b1f460d3ca",
   "execution_count": 10,
   "outputs": []
  },
  {
   "metadata": {
    "ExecuteTime": {
     "end_time": "2024-08-04T23:23:19.557024Z",
     "start_time": "2024-08-04T23:23:19.314179Z"
    }
   },
   "cell_type": "code",
   "source": [
    "from PIL import Image\n",
    "import io\n",
    "\n",
    "index = 0\n",
    "dataset = test_hd5f[keys[index]]\n",
    "\n",
    "image_arr_bytes = dataset[()]\n",
    "print(f\"image array bytes = {image_arr_bytes[:10]}\")\n",
    "       \n",
    "for name, val in  dataset.attrs.items():\n",
    "    print (name, val)\n",
    "\n",
    "# Convert the byte array to a PIL image\n",
    "image = Image.open(io.BytesIO(image_arr_bytes))\n",
    "\n",
    "# Convert PIL image to a NumPy array\n",
    "image_array = np.array(image)\n",
    "\n",
    "# Print the shape of the image\n",
    "print(f\"Shape of the image: {image_array.shape}\")\n",
    "\n",
    "# Display the image using matplotlib\n",
    "plt.imshow(image)\n",
    "plt.title(keys[index])\n",
    "plt.axis('off')  # Hide axes\n",
    "plt.show()"
   ],
   "id": "36d9088e3f12f034",
   "execution_count": 11,
   "outputs": []
  },
  {
   "metadata": {
    "ExecuteTime": {
     "end_time": "2024-08-04T23:23:38.283845Z",
     "start_time": "2024-08-04T23:23:19.558582Z"
    }
   },
   "cell_type": "code",
   "source": [
    "load_vectors = LoadDataVectors(hd5_file_path=os.path.join(DATASET_PATH, \"train-image.hdf5\"),\n",
    "                               metadata_csv_path=os.path.join(DATASET_PATH, \"train-metadata.csv\"),\n",
    "                               target_columns=[\"target\"],\n",
    "                               transform=GaborAttentionLBPVectors())"
   ],
   "id": "20a46253233c8c1a",
   "execution_count": 12,
   "outputs": []
  },
  {
   "metadata": {
    "ExecuteTime": {
     "end_time": "2024-08-04T23:23:38.609850Z",
     "start_time": "2024-08-04T23:23:38.285377Z"
    }
   },
   "cell_type": "code",
   "source": "feature_vector, target = next(iter(load_vectors))",
   "id": "b37e58b8e66bf751",
   "execution_count": 13,
   "outputs": []
  },
  {
   "metadata": {
    "ExecuteTime": {
     "end_time": "2024-08-04T23:23:38.643101Z",
     "start_time": "2024-08-04T23:23:38.612710Z"
    }
   },
   "cell_type": "code",
   "source": "target",
   "id": "f140978ac5d40e25",
   "execution_count": 14,
   "outputs": []
  },
  {
   "metadata": {
    "ExecuteTime": {
     "end_time": "2024-08-04T23:23:38.731438Z",
     "start_time": "2024-08-04T23:23:38.644689Z"
    }
   },
   "cell_type": "code",
   "source": "vector_dataloader = torch.utils.data.DataLoader(load_vectors, batch_size=8, shuffle=True, num_workers=8)",
   "id": "7f822e0a7a0dd0c5",
   "execution_count": 15,
   "outputs": []
  },
  {
   "metadata": {
    "ExecuteTime": {
     "end_time": "2024-08-04T23:23:45.901206Z",
     "start_time": "2024-08-04T23:23:38.732630Z"
    }
   },
   "cell_type": "code",
   "source": "next(iter(vector_dataloader))[0][0].numpy()",
   "id": "7a26da9e3f1bc77a",
   "execution_count": 16,
   "outputs": []
  },
  {
   "metadata": {},
   "cell_type": "markdown",
   "source": "",
   "id": "ae15382d70de20c6"
  },
  {
   "metadata": {
    "ExecuteTime": {
     "end_time": "2024-08-04T23:23:45.935639Z",
     "start_time": "2024-08-04T23:23:45.902762Z"
    }
   },
   "cell_type": "code",
   "source": "preprocess_vectors = LoadPreProcessVectors(dataset_base_path=\"../feature_vectors\", feature_name=\"gabor_attention_maps\", target_index=[0], dimensions=128)",
   "id": "51366c5f2c5dbc55",
   "execution_count": 17,
   "outputs": []
  },
  {
   "metadata": {
    "ExecuteTime": {
     "end_time": "2024-08-04T23:23:46.015445Z",
     "start_time": "2024-08-04T23:23:45.936930Z"
    }
   },
   "cell_type": "code",
   "source": "x, y = next(iter(preprocess_vectors))",
   "id": "2c7d91829e59213c",
   "execution_count": 18,
   "outputs": []
  },
  {
   "metadata": {
    "ExecuteTime": {
     "end_time": "2024-08-04T23:23:46.086759Z",
     "start_time": "2024-08-04T23:23:46.016780Z"
    }
   },
   "cell_type": "code",
   "source": "x.shape, y.shape",
   "id": "ace5f20f12a6c79f",
   "execution_count": 19,
   "outputs": []
  },
  {
   "metadata": {
    "ExecuteTime": {
     "end_time": "2024-08-04T23:23:46.197277Z",
     "start_time": "2024-08-04T23:23:46.088135Z"
    }
   },
   "cell_type": "code",
   "source": "y",
   "id": "f830af9850acc3fb",
   "execution_count": 20,
   "outputs": []
  },
  {
   "metadata": {
    "ExecuteTime": {
     "end_time": "2024-08-04T23:23:46.201689Z",
     "start_time": "2024-08-04T23:23:46.199002Z"
    }
   },
   "cell_type": "code",
   "source": "",
   "id": "2ba2cd8a94c266a0",
   "execution_count": 20,
   "outputs": []
  },
  {
   "metadata": {
    "ExecuteTime": {
     "end_time": "2024-08-04T23:23:46.205480Z",
     "start_time": "2024-08-04T23:23:46.203069Z"
    }
   },
   "cell_type": "code",
   "source": "",
   "id": "a3aa2f44d384c21d",
   "execution_count": 20,
   "outputs": []
  }
 ],
 "metadata": {
  "kernelspec": {
   "display_name": "Python 3",
   "language": "python",
   "name": "python3"
  },
  "language_info": {
   "codemirror_mode": {
    "name": "ipython",
    "version": 2
   },
   "file_extension": ".py",
   "mimetype": "text/x-python",
   "name": "python",
   "nbconvert_exporter": "python",
   "pygments_lexer": "ipython2",
   "version": "2.7.6"
  }
 },
 "nbformat": 4,
 "nbformat_minor": 5
}

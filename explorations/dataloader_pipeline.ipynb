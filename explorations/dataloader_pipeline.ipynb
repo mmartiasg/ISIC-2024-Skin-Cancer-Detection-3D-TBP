{
 "cells": [
  {
   "cell_type": "code",
   "id": "initial_id",
   "metadata": {
    "collapsed": true,
    "ExecuteTime": {
     "end_time": "2024-08-24T14:27:11.729238Z",
     "start_time": "2024-08-24T14:27:09.891603Z"
    }
   },
   "source": [
    "import json\n",
    "import cv2\n",
    "from matplotlib import pyplot as plt\n",
    "import os\n",
    "import numpy as np\n",
    "import pandas as pd\n",
    "from prototypes.classical.descriptors.texture import LBPTransformer, HoGTransformer, GaborTransformer\n",
    "from prototypes.classical.dataloader.Loader import IsiCancerData\n",
    "from prototypes.classical.descriptors.vetorizer import LBPVectorizer\n",
    "import torch\n",
    "from prototypes.classical.descriptors.vetorizer import GaborAttentionLBPVectors\n",
    "from prototypes.deeplearning.dataloader.IsicDataLoader import LoadDataVectors, LoadPreProcessVectors\n",
    "\n",
    "%load_ext autoreload\n",
    "%autoreload 2\n",
    "\n",
    "with open(\"../config.json\", \"r\") as f:\n",
    "    config = json.load(f)"
   ],
   "execution_count": 1,
   "outputs": []
  },
  {
   "metadata": {
    "ExecuteTime": {
     "end_time": "2024-08-24T14:27:14.461150Z",
     "start_time": "2024-08-24T14:27:11.730466Z"
    }
   },
   "cell_type": "code",
   "source": "train_csv = pd.read_csv(config[\"TRAIN_METADATA\"])",
   "id": "a46eecf6bc50b15b",
   "execution_count": 2,
   "outputs": []
  },
  {
   "metadata": {
    "ExecuteTime": {
     "end_time": "2024-08-24T14:27:14.488360Z",
     "start_time": "2024-08-24T14:27:14.462128Z"
    }
   },
   "cell_type": "code",
   "source": [
    "image_file_name = train_csv.query(\"target==1\").to_numpy()[0][0] + \".jpg\"\n",
    "\n",
    "cancer_image = cv2.imread(os.path.join(config[\"TRAIN_IMAGES_PATH\"], image_file_name), cv2.IMREAD_COLOR)[:,:,::-1]"
   ],
   "id": "fe271b9c85294288",
   "execution_count": 3,
   "outputs": []
  },
  {
   "metadata": {
    "ExecuteTime": {
     "end_time": "2024-08-24T14:27:14.506006Z",
     "start_time": "2024-08-24T14:27:14.489405Z"
    }
   },
   "cell_type": "code",
   "source": "vectorizer = GaborAttentionLBPVectors()",
   "id": "384b81aa15c1a8d0",
   "execution_count": 4,
   "outputs": []
  },
  {
   "metadata": {
    "ExecuteTime": {
     "end_time": "2024-08-24T14:27:15.560058Z",
     "start_time": "2024-08-24T14:27:14.507368Z"
    }
   },
   "cell_type": "code",
   "source": "vectorizer.transform(cancer_image).shape",
   "id": "fca09fa05ba7ede5",
   "execution_count": 5,
   "outputs": []
  },
  {
   "metadata": {
    "ExecuteTime": {
     "end_time": "2024-08-24T14:27:35.063939Z",
     "start_time": "2024-08-24T14:27:34.760094Z"
    }
   },
   "cell_type": "code",
   "source": "vector = vectorizer.transform(cancer_image)",
   "id": "a14cb6e45169be08",
   "execution_count": 6,
   "outputs": []
  },
  {
   "metadata": {
    "ExecuteTime": {
     "end_time": "2024-08-24T14:27:35.590006Z",
     "start_time": "2024-08-24T14:27:35.564269Z"
    }
   },
   "cell_type": "code",
   "source": "vector",
   "id": "402eca650fadd171",
   "execution_count": 7,
   "outputs": []
  },
  {
   "metadata": {
    "ExecuteTime": {
     "end_time": "2024-08-24T14:27:36.150729Z",
     "start_time": "2024-08-24T14:27:36.134862Z"
    }
   },
   "cell_type": "code",
   "source": [
    "import h5py\n",
    "\n",
    "DATASET_PATH = config[\"DATASET_PATH\"]\n",
    "\n",
    "test_hd5f = h5py.File(os.path.join(DATASET_PATH, \"test-image.hdf5\"), \"r\")"
   ],
   "id": "5e4616b28a6e1b39",
   "execution_count": 8,
   "outputs": []
  },
  {
   "metadata": {
    "ExecuteTime": {
     "end_time": "2024-08-24T14:27:36.757837Z",
     "start_time": "2024-08-24T14:27:36.741876Z"
    }
   },
   "cell_type": "code",
   "source": "keys = list(test_hd5f.keys())",
   "id": "6f896870607e389c",
   "execution_count": 9,
   "outputs": []
  },
  {
   "metadata": {
    "ExecuteTime": {
     "end_time": "2024-08-24T14:27:37.189095Z",
     "start_time": "2024-08-24T14:27:37.166432Z"
    }
   },
   "cell_type": "code",
   "source": "keys",
   "id": "64a075b1f460d3ca",
   "execution_count": 10,
   "outputs": []
  },
  {
   "metadata": {
    "ExecuteTime": {
     "end_time": "2024-08-24T14:27:37.881413Z",
     "start_time": "2024-08-24T14:27:37.720394Z"
    }
   },
   "cell_type": "code",
   "source": [
    "from PIL import Image\n",
    "import io\n",
    "\n",
    "index = 0\n",
    "dataset = test_hd5f[keys[index]]\n",
    "\n",
    "image_arr_bytes = dataset[()]\n",
    "print(f\"image array bytes = {image_arr_bytes[:10]}\")\n",
    "       \n",
    "for name, val in  dataset.attrs.items():\n",
    "    print (name, val)\n",
    "\n",
    "# Convert the byte array to a PIL image\n",
    "image = Image.open(io.BytesIO(image_arr_bytes))\n",
    "\n",
    "# Convert PIL image to a NumPy array\n",
    "image_array = np.array(image)\n",
    "\n",
    "# Print the shape of the image\n",
    "print(f\"Shape of the image: {image_array.shape}\")\n",
    "\n",
    "# Display the image using matplotlib\n",
    "plt.imshow(image)\n",
    "plt.title(keys[index])\n",
    "plt.axis('off')  # Hide axes\n",
    "plt.show()"
   ],
   "id": "36d9088e3f12f034",
   "execution_count": 11,
   "outputs": []
  },
  {
   "metadata": {
    "ExecuteTime": {
     "end_time": "2024-08-24T14:29:11.528168Z",
     "start_time": "2024-08-24T14:29:11.430533Z"
    }
   },
   "cell_type": "code",
   "source": [
    "# self, hd5_file_path, metadata_csv_path=None, metadata_columns=None, transform=None, target_transform=None\n",
    "load_vectors = LoadDataVectors(hd5_file_path=os.path.join(DATASET_PATH, \"train-image.hdf5\"),\n",
    "                               metadata_csv_path=os.path.join(DATASET_PATH, \"train-metadata.csv\"),\n",
    "                               transform=GaborAttentionLBPVectors())"
   ],
   "id": "20a46253233c8c1a",
   "execution_count": 14,
   "outputs": []
  },
  {
   "metadata": {},
   "cell_type": "code",
   "execution_count": null,
   "source": [
    "load_vectors = LoadDataVectors(hd5_file_path=os.path.join(DATASET_PATH, \"train-image.hdf5\"),\n",
    "                               metadata_csv_path=os.path.join(DATASET_PATH, \"train-metadata.csv\"),\n",
    "                               metadata_columns=[],\n",
    "                               transform=GaborAttentionLBPVectors())"
   ],
   "id": "ba17833eb86ef3f",
   "outputs": []
  },
  {
   "metadata": {
    "ExecuteTime": {
     "end_time": "2024-08-24T14:26:24.861996Z",
     "start_time": "2024-08-24T14:26:24.837358Z"
    }
   },
   "cell_type": "code",
   "source": "feature_vector, target = next(iter(load_vectors))",
   "id": "b37e58b8e66bf751",
   "execution_count": 9,
   "outputs": []
  },
  {
   "metadata": {
    "ExecuteTime": {
     "end_time": "2024-08-24T14:26:25.688860Z",
     "start_time": "2024-08-24T14:26:25.662444Z"
    }
   },
   "cell_type": "code",
   "source": "target",
   "id": "f140978ac5d40e25",
   "execution_count": 10,
   "outputs": []
  },
  {
   "metadata": {
    "ExecuteTime": {
     "end_time": "2024-08-24T14:26:28.999176Z",
     "start_time": "2024-08-24T14:26:28.973179Z"
    }
   },
   "cell_type": "code",
   "source": "vector_dataloader = torch.utils.data.DataLoader(load_vectors, batch_size=8, shuffle=True, num_workers=8)",
   "id": "7f822e0a7a0dd0c5",
   "execution_count": 11,
   "outputs": []
  },
  {
   "metadata": {
    "ExecuteTime": {
     "end_time": "2024-08-24T14:26:29.472541Z",
     "start_time": "2024-08-24T14:26:29.448153Z"
    }
   },
   "cell_type": "code",
   "source": "next(iter(vector_dataloader))[0][0].numpy()",
   "id": "7a26da9e3f1bc77a",
   "execution_count": 12,
   "outputs": []
  },
  {
   "metadata": {},
   "cell_type": "markdown",
   "source": "",
   "id": "ae15382d70de20c6"
  },
  {
   "metadata": {
    "ExecuteTime": {
     "end_time": "2024-08-04T23:23:45.935639Z",
     "start_time": "2024-08-04T23:23:45.902762Z"
    }
   },
   "cell_type": "code",
   "source": "preprocess_vectors = LoadPreProcessVectors(dataset_base_path=\"../feature_vectors\", feature_name=\"gabor_attention_maps\", target_index=[0], dimensions=128)",
   "id": "51366c5f2c5dbc55",
   "execution_count": 17,
   "outputs": []
  },
  {
   "metadata": {
    "ExecuteTime": {
     "end_time": "2024-08-04T23:23:46.015445Z",
     "start_time": "2024-08-04T23:23:45.936930Z"
    }
   },
   "cell_type": "code",
   "source": "x, y = next(iter(preprocess_vectors))",
   "id": "2c7d91829e59213c",
   "execution_count": 18,
   "outputs": []
  },
  {
   "metadata": {
    "ExecuteTime": {
     "end_time": "2024-08-04T23:23:46.086759Z",
     "start_time": "2024-08-04T23:23:46.016780Z"
    }
   },
   "cell_type": "code",
   "source": "x.shape, y.shape",
   "id": "ace5f20f12a6c79f",
   "execution_count": 19,
   "outputs": []
  },
  {
   "metadata": {
    "ExecuteTime": {
     "end_time": "2024-08-04T23:23:46.197277Z",
     "start_time": "2024-08-04T23:23:46.088135Z"
    }
   },
   "cell_type": "code",
   "source": "y",
   "id": "f830af9850acc3fb",
   "execution_count": 20,
   "outputs": []
  },
  {
   "metadata": {
    "ExecuteTime": {
     "end_time": "2024-08-04T23:23:46.201689Z",
     "start_time": "2024-08-04T23:23:46.199002Z"
    }
   },
   "cell_type": "code",
   "source": "",
   "id": "2ba2cd8a94c266a0",
   "execution_count": 20,
   "outputs": []
  },
  {
   "metadata": {
    "ExecuteTime": {
     "end_time": "2024-08-04T23:23:46.205480Z",
     "start_time": "2024-08-04T23:23:46.203069Z"
    }
   },
   "cell_type": "code",
   "source": "",
   "id": "a3aa2f44d384c21d",
   "execution_count": 20,
   "outputs": []
  }
 ],
 "metadata": {
  "kernelspec": {
   "display_name": "Python 3",
   "language": "python",
   "name": "python3"
  },
  "language_info": {
   "codemirror_mode": {
    "name": "ipython",
    "version": 2
   },
   "file_extension": ".py",
   "mimetype": "text/x-python",
   "name": "python",
   "nbconvert_exporter": "python",
   "pygments_lexer": "ipython2",
   "version": "2.7.6"
  }
 },
 "nbformat": 4,
 "nbformat_minor": 5
}

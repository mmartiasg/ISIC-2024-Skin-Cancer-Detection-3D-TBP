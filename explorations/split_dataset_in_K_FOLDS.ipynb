{
 "cells": [
  {
   "cell_type": "code",
   "id": "initial_id",
   "metadata": {
    "collapsed": true,
    "ExecuteTime": {
     "end_time": "2024-09-02T20:20:18.677899Z",
     "start_time": "2024-09-02T20:20:16.382975Z"
    }
   },
   "source": [
    "from prototypes.deeplearning.dataloader.IsicDataLoader import IsicDataLoaderFolders, over_under_sample, load_val_images, create_folds, AugmentationWrapper\n",
    "from prototypes.utility.data import ProjectConfiguration\n",
    "import pandas as pd"
   ],
   "outputs": [],
   "execution_count": 1
  },
  {
   "metadata": {
    "ExecuteTime": {
     "end_time": "2024-09-02T20:20:18.681062Z",
     "start_time": "2024-09-02T20:20:18.678999Z"
    }
   },
   "cell_type": "code",
   "source": "config = ProjectConfiguration(\"../config.json\")",
   "id": "4b4e4d9efe70fc30",
   "outputs": [],
   "execution_count": 2
  },
  {
   "metadata": {
    "ExecuteTime": {
     "end_time": "2024-09-02T20:20:18.702540Z",
     "start_time": "2024-09-02T20:20:18.681723Z"
    }
   },
   "cell_type": "code",
   "source": "config.get_keys()",
   "id": "aa547a71ad4a62dc",
   "outputs": [
    {
     "data": {
      "text/plain": [
       "dict_keys(['DATASET_PATH', 'TRAIN_IMAGES_PATH', 'TRAIN_METADATA', 'TEST_METADATA', 'SAMPLE_SUBMISSION', 'IMAGE_WIDTH', 'IMAGE_HEIGHT', 'TARGET_COLUMNS', 'VECTORS_PATH', 'BATCH_SIZE', 'K_FOLDS', 'NUM_CLASSES', 'ALPHA', 'TRAIN_DEVICE', 'USE_SAMPLER', 'TRAIN_SAMPLE_SIZE', 'VAL_SAMPLE_SIZE', 'TRAIN_SPLIT', 'NUM_EPOCHS', 'NUM_WORKERS', 'PREFETCH_FACTOR', 'MODEL', 'DROPOUT_LAST_LAYER', 'CLASS_BALANCE_PERCENTAGE', 'ENABLED_EXPONENTIAL_LR', 'USING_MIXUP', 'TOTAL_TRAIN_SAMPLES', 'PER_SAMPLE_AUGMENTATION', 'METADATA_COLUMNS', 'LEARNING_RATE', 'TOLERANCE_EARLY_STOPPING', 'SAMPLE_PERCENTAGE', 'HYPER_PARAMETERS_PATH', 'VERSION'])"
      ]
     },
     "execution_count": 3,
     "metadata": {},
     "output_type": "execute_result"
    }
   ],
   "execution_count": 3
  },
  {
   "metadata": {
    "ExecuteTime": {
     "end_time": "2024-09-02T20:20:28.742870Z",
     "start_time": "2024-09-02T20:20:18.703381Z"
    }
   },
   "cell_type": "code",
   "source": [
    "metadata_df = pd.read_csv(config.get_value(\"TRAIN_METADATA\"), engine=\"python\")\n",
    "columns = config.get_value(\"METADATA_COLUMNS\").split(\"\\t\")\n",
    "\n",
    "isic_id, metadata_array, labels = metadata_df[\"isic_id\"].values, metadata_df[columns].values, metadata_df[\n",
    "    \"target\"].values"
   ],
   "id": "82b01652cfef5efb",
   "outputs": [],
   "execution_count": 4
  },
  {
   "metadata": {
    "ExecuteTime": {
     "end_time": "2024-09-02T20:20:28.951225Z",
     "start_time": "2024-09-02T20:20:28.744338Z"
    }
   },
   "cell_type": "code",
   "source": "folds_config_dict = create_folds(isic_id=isic_id, metadata=metadata_array, labels=labels, config=config)",
   "id": "1462f9c77a9738e8",
   "outputs": [],
   "execution_count": 5
  },
  {
   "metadata": {
    "ExecuteTime": {
     "end_time": "2024-09-02T20:20:28.960041Z",
     "start_time": "2024-09-02T20:20:28.952113Z"
    }
   },
   "cell_type": "code",
   "source": "folds_config_dict",
   "id": "8918f8b9805f4",
   "outputs": [
    {
     "data": {
      "text/plain": [
       "{'1': {'train': {'isic_id': array(['ISIC_0015670', 'ISIC_0015845', 'ISIC_0015902', ...,\n",
       "          'ISIC_9999951', 'ISIC_9999960', 'ISIC_9999967'], dtype=object),\n",
       "   'metadata': array([[ 2.02444223e+01,  1.62619752e+01,  2.69224474e+01, ...,\n",
       "           -1.82703552e+02,  6.13493652e+02, -4.24279480e+01],\n",
       "          [ 3.17125700e+01,  2.53647400e+01,  2.63310000e+01, ...,\n",
       "           -7.83081100e-02,  1.57568700e+03,  5.71745000e+01],\n",
       "          [ 1.42423289e+01,  1.21647573e+01,  2.14481443e+01, ...,\n",
       "           -1.41024780e+02,  1.44218579e+03,  5.83598022e+01],\n",
       "          ...,\n",
       "          [ 1.99776400e+01,  1.60268700e+01,  3.41588400e+01, ...,\n",
       "            5.23497400e+01,  1.39318700e+03,  1.27261700e+02],\n",
       "          [ 1.73325667e+01,  1.23643974e+01,  2.98453261e+01, ...,\n",
       "            5.46222458e+01,  1.06526367e+03, -1.06833740e+02],\n",
       "          [ 1.67929000e+01,  1.14347300e+01,  2.14572200e+01, ...,\n",
       "           -2.58872300e+02,  1.48606200e+02,  1.07710600e+02]]),\n",
       "   'target': array([0, 0, 0, ..., 0, 0, 0])},\n",
       "  'val': {'isic_id': array(['ISIC_0015864', 'ISIC_0051665', 'ISIC_0051758', ...,\n",
       "          'ISIC_9999696', 'ISIC_9999919', 'ISIC_9999964'], dtype=object),\n",
       "   'metadata': array([[  22.57583   ,   17.12817   ,   37.97046   , ...,  123.6497    ,\n",
       "           1472.01      ,  232.9089    ],\n",
       "          [  20.10261   ,   16.00481   ,   24.82563   , ...,  -80.92709   ,\n",
       "           1535.127     ,  161.4908    ],\n",
       "          [  16.25148985,   12.22440753,   25.61839256, ...,  207.51727295,\n",
       "           1269.95947266,   64.83795166],\n",
       "          ...,\n",
       "          [  19.48955   ,   10.81554   ,   25.63174   , ...,  183.8828    ,\n",
       "           1390.055     ,  -58.01367   ],\n",
       "          [  17.95485929,   14.18464876,   26.89150082, ...,  129.81777954,\n",
       "           1521.30065918,    9.83349609],\n",
       "          [  22.28857   ,    9.564721  ,   28.4312    , ...,   -9.861557  ,\n",
       "            877.527     ,  -76.98212   ]]),\n",
       "   'target': array([0, 0, 0, ..., 0, 0, 0])}},\n",
       " '2': {'train': {'isic_id': array(['ISIC_0015670', 'ISIC_0015845', 'ISIC_0015864', ...,\n",
       "          'ISIC_9999951', 'ISIC_9999964', 'ISIC_9999967'], dtype=object),\n",
       "   'metadata': array([[ 2.02444223e+01,  1.62619752e+01,  2.69224474e+01, ...,\n",
       "           -1.82703552e+02,  6.13493652e+02, -4.24279480e+01],\n",
       "          [ 3.17125700e+01,  2.53647400e+01,  2.63310000e+01, ...,\n",
       "           -7.83081100e-02,  1.57568700e+03,  5.71745000e+01],\n",
       "          [ 2.25758300e+01,  1.71281700e+01,  3.79704600e+01, ...,\n",
       "            1.23649700e+02,  1.47201000e+03,  2.32908900e+02],\n",
       "          ...,\n",
       "          [ 1.99776400e+01,  1.60268700e+01,  3.41588400e+01, ...,\n",
       "            5.23497400e+01,  1.39318700e+03,  1.27261700e+02],\n",
       "          [ 2.22885700e+01,  9.56472100e+00,  2.84312000e+01, ...,\n",
       "           -9.86155700e+00,  8.77527000e+02, -7.69821200e+01],\n",
       "          [ 1.67929000e+01,  1.14347300e+01,  2.14572200e+01, ...,\n",
       "           -2.58872300e+02,  1.48606200e+02,  1.07710600e+02]]),\n",
       "   'target': array([0, 0, 0, ..., 0, 0, 0])},\n",
       "  'val': {'isic_id': array(['ISIC_0035502', 'ISIC_0051710', 'ISIC_0051812', ...,\n",
       "          'ISIC_9999477', 'ISIC_9999520', 'ISIC_9999960'], dtype=object),\n",
       "   'metadata': array([[  22.12918339,   19.91142436,   24.10661432, ...,  -11.95996094,\n",
       "           1436.02746582,  101.33465576],\n",
       "          [  14.16680521,   11.12970337,   27.74363477, ...,  -97.71512604,\n",
       "           1089.93554688, -165.71478271],\n",
       "          [  19.80819   ,   14.86749   ,   30.426     , ..., -147.5017    ,\n",
       "            706.8179    ,  101.2655    ],\n",
       "          ...,\n",
       "          [  17.66533   ,   12.1841    ,   33.26597   , ...,  129.353     ,\n",
       "           1241.044     ,  115.9584    ],\n",
       "          [  23.31832595,   22.31918482,   30.89125463, ..., -385.52960205,\n",
       "            933.70593262,   -5.56140137],\n",
       "          [  17.33256672,   12.36439742,   29.84532611, ...,   54.62224579,\n",
       "           1065.26367188, -106.83374023]]),\n",
       "   'target': array([0, 0, 0, ..., 0, 0, 0])}},\n",
       " '3': {'train': {'isic_id': array(['ISIC_0015670', 'ISIC_0015864', 'ISIC_0015902', ...,\n",
       "          'ISIC_9999919', 'ISIC_9999960', 'ISIC_9999964'], dtype=object),\n",
       "   'metadata': array([[  20.2444223 ,   16.26197518,   26.92244739, ..., -182.70355225,\n",
       "            613.49365234,  -42.427948  ],\n",
       "          [  22.57583   ,   17.12817   ,   37.97046   , ...,  123.6497    ,\n",
       "           1472.01      ,  232.9089    ],\n",
       "          [  14.24232888,   12.16475727,   21.44814427, ..., -141.02478027,\n",
       "           1442.18579102,   58.35980225],\n",
       "          ...,\n",
       "          [  17.95485929,   14.18464876,   26.89150082, ...,  129.81777954,\n",
       "           1521.30065918,    9.83349609],\n",
       "          [  17.33256672,   12.36439742,   29.84532611, ...,   54.62224579,\n",
       "           1065.26367188, -106.83374023],\n",
       "          [  22.28857   ,    9.564721  ,   28.4312    , ...,   -9.861557  ,\n",
       "            877.527     ,  -76.98212   ]]),\n",
       "   'target': array([0, 0, 0, ..., 0, 0, 0])},\n",
       "  'val': {'isic_id': array(['ISIC_0015845', 'ISIC_0051896', 'ISIC_0052026', ...,\n",
       "          'ISIC_9999937', 'ISIC_9999951', 'ISIC_9999967'], dtype=object),\n",
       "   'metadata': array([[ 3.17125700e+01,  2.53647400e+01,  2.63310000e+01, ...,\n",
       "           -7.83081100e-02,  1.57568700e+03,  5.71745000e+01],\n",
       "          [ 2.21688100e+01,  1.88747100e+01,  3.13623700e+01, ...,\n",
       "            3.28599600e+02,  1.18984200e+03, -1.03530500e+02],\n",
       "          [ 1.94104000e+01,  1.35424400e+01,  2.50521500e+01, ...,\n",
       "           -2.78634600e+02,  2.43730900e+02,  2.63164700e+01],\n",
       "          ...,\n",
       "          [ 2.25743346e+01,  1.49446663e+01,  2.76632587e+01, ...,\n",
       "            1.47187256e+02,  1.18231750e+03,  1.22652588e+02],\n",
       "          [ 1.99776400e+01,  1.60268700e+01,  3.41588400e+01, ...,\n",
       "            5.23497400e+01,  1.39318700e+03,  1.27261700e+02],\n",
       "          [ 1.67929000e+01,  1.14347300e+01,  2.14572200e+01, ...,\n",
       "           -2.58872300e+02,  1.48606200e+02,  1.07710600e+02]]),\n",
       "   'target': array([0, 0, 0, ..., 0, 0, 0])}},\n",
       " '4': {'train': {'isic_id': array(['ISIC_0015670', 'ISIC_0015845', 'ISIC_0015864', ...,\n",
       "          'ISIC_9999960', 'ISIC_9999964', 'ISIC_9999967'], dtype=object),\n",
       "   'metadata': array([[ 2.02444223e+01,  1.62619752e+01,  2.69224474e+01, ...,\n",
       "           -1.82703552e+02,  6.13493652e+02, -4.24279480e+01],\n",
       "          [ 3.17125700e+01,  2.53647400e+01,  2.63310000e+01, ...,\n",
       "           -7.83081100e-02,  1.57568700e+03,  5.71745000e+01],\n",
       "          [ 2.25758300e+01,  1.71281700e+01,  3.79704600e+01, ...,\n",
       "            1.23649700e+02,  1.47201000e+03,  2.32908900e+02],\n",
       "          ...,\n",
       "          [ 1.73325667e+01,  1.23643974e+01,  2.98453261e+01, ...,\n",
       "            5.46222458e+01,  1.06526367e+03, -1.06833740e+02],\n",
       "          [ 2.22885700e+01,  9.56472100e+00,  2.84312000e+01, ...,\n",
       "           -9.86155700e+00,  8.77527000e+02, -7.69821200e+01],\n",
       "          [ 1.67929000e+01,  1.14347300e+01,  2.14572200e+01, ...,\n",
       "           -2.58872300e+02,  1.48606200e+02,  1.07710600e+02]]),\n",
       "   'target': array([0, 0, 0, ..., 0, 0, 0])},\n",
       "  'val': {'isic_id': array(['ISIC_0015902', 'ISIC_0024200', 'ISIC_0051648', ...,\n",
       "          'ISIC_9999852', 'ISIC_9999854', 'ISIC_9999883'], dtype=object),\n",
       "   'metadata': array([[  14.24232888,   12.16475727,   21.44814427, ..., -141.02478027,\n",
       "           1442.18579102,   58.35980225],\n",
       "          [  24.72552   ,   20.05747   ,   26.4649    , ...,  -72.31564   ,\n",
       "           1488.72      ,   21.42896   ],\n",
       "          [  14.3191882 ,   10.05613486,   26.68526251, ..., -286.59393311,\n",
       "           1494.98095703,   33.07781982],\n",
       "          ...,\n",
       "          [  16.40038826,   14.15025685,   22.45245492, ...,  -99.68707275,\n",
       "           1261.00512695,   78.47039795],\n",
       "          [  21.4345    ,   15.03981   ,   35.29811   , ..., -111.3537    ,\n",
       "           1056.274     ,  141.9261    ],\n",
       "          [  19.07549456,   10.66279573,   22.22354643, ...,  189.08734131,\n",
       "           1022.27984619,   51.72723389]]),\n",
       "   'target': array([0, 0, 0, ..., 0, 0, 0])}},\n",
       " '5': {'train': {'isic_id': array(['ISIC_0015845', 'ISIC_0015864', 'ISIC_0015902', ...,\n",
       "          'ISIC_9999960', 'ISIC_9999964', 'ISIC_9999967'], dtype=object),\n",
       "   'metadata': array([[ 3.17125700e+01,  2.53647400e+01,  2.63310000e+01, ...,\n",
       "           -7.83081100e-02,  1.57568700e+03,  5.71745000e+01],\n",
       "          [ 2.25758300e+01,  1.71281700e+01,  3.79704600e+01, ...,\n",
       "            1.23649700e+02,  1.47201000e+03,  2.32908900e+02],\n",
       "          [ 1.42423289e+01,  1.21647573e+01,  2.14481443e+01, ...,\n",
       "           -1.41024780e+02,  1.44218579e+03,  5.83598022e+01],\n",
       "          ...,\n",
       "          [ 1.73325667e+01,  1.23643974e+01,  2.98453261e+01, ...,\n",
       "            5.46222458e+01,  1.06526367e+03, -1.06833740e+02],\n",
       "          [ 2.22885700e+01,  9.56472100e+00,  2.84312000e+01, ...,\n",
       "           -9.86155700e+00,  8.77527000e+02, -7.69821200e+01],\n",
       "          [ 1.67929000e+01,  1.14347300e+01,  2.14572200e+01, ...,\n",
       "           -2.58872300e+02,  1.48606200e+02,  1.07710600e+02]]),\n",
       "   'target': array([0, 0, 0, ..., 0, 0, 0])},\n",
       "  'val': {'isic_id': array(['ISIC_0015670', 'ISIC_0051897', 'ISIC_0051958', ...,\n",
       "          'ISIC_9999324', 'ISIC_9999539', 'ISIC_9999762'], dtype=object),\n",
       "   'metadata': array([[  20.2444223 ,   16.26197518,   26.92244739, ..., -182.70355225,\n",
       "            613.49365234,  -42.427948  ],\n",
       "          [  16.48989   ,   13.83021   ,   32.37504   , ...,  282.2696    ,\n",
       "           1261.653     ,  152.9075    ],\n",
       "          [  12.91218   ,   10.23901   ,   26.99213   , ...,  -23.97464   ,\n",
       "           1213.993     ,  187.0327    ],\n",
       "          ...,\n",
       "          [  16.76795349,   13.12670047,   24.13437083, ...,  103.7661438 ,\n",
       "            996.37109375,  121.00891113],\n",
       "          [  15.83357605,   12.90871237,   33.63611208, ...,  -45.61114502,\n",
       "           1009.24084473,  -57.57012939],\n",
       "          [  15.7523    ,   12.17504   ,   25.80986   , ...,  -91.49856   ,\n",
       "           1377.594     ,  -87.42285   ]]),\n",
       "   'target': array([0, 0, 0, ..., 0, 0, 0])}}}"
      ]
     },
     "execution_count": 6,
     "metadata": {},
     "output_type": "execute_result"
    }
   ],
   "execution_count": 6
  },
  {
   "metadata": {},
   "cell_type": "markdown",
   "source": "# K - Folds ",
   "id": "4b647c4d95b11ea0"
  },
  {
   "metadata": {
    "ExecuteTime": {
     "end_time": "2024-09-02T20:47:20.562834Z",
     "start_time": "2024-09-02T20:20:28.960986Z"
    }
   },
   "cell_type": "code",
   "source": [
    "from PIL import Image\n",
    "import os\n",
    "import copy\n",
    "import shutil\n",
    "from tqdm.auto import tqdm\n",
    "import albumentations as A\n",
    "import numpy as np\n",
    "\n",
    "\n",
    "augmentation_oversampling = A.Compose([\n",
    "    # crop border avois multiple instances\n",
    "    A.Rotate(limit=(-360, 360), p=0.9, crop_border=False),\n",
    "    A.VerticalFlip(p=0.5),\n",
    "    A.HorizontalFlip(p=0.5),\n",
    "    A.RandomBrightnessContrast(p=1.0),\n",
    "    # water reflexion effect magnification and min\n",
    "    A.GridDistortion(p=0.5),\n",
    "    # Only with crop_border = True\n",
    "    A.Resize(height=config.get_value(\"IMAGE_HEIGHT\"), width=config.get_value(\"IMAGE_WIDTH\"))\n",
    "])\n",
    "\n",
    "dataset_path = config.get_value(\"DATASET_PATH\")\n",
    "shutil.rmtree(os.path.join(dataset_path, \"splits\"), ignore_errors=True)\n",
    "\n",
    "train_metadata = []\n",
    "val_metadata = []\n",
    "\n",
    "image_source_path = config.get_value(\"TRAIN_IMAGES_PATH\")\n",
    "for fold_index in tqdm(folds_config_dict.keys()):\n",
    "    print(f\"Fold: {fold_index}\")\n",
    "    \n",
    "    os.makedirs(os.path.join(dataset_path, \"splits\", f\"fold_{fold_index}\", \"train\", \"0\"), exist_ok=True)\n",
    "    os.makedirs(os.path.join(dataset_path, \"splits\", f\"fold_{fold_index}\", \"train\", \"1\"), exist_ok=True)\n",
    "    os.makedirs(os.path.join(dataset_path, \"splits\", f\"fold_{fold_index}\", \"val\", \"0\"), exist_ok=True)\n",
    "    os.makedirs(os.path.join(dataset_path, \"splits\", f\"fold_{fold_index}\", \"val\", \"1\"), exist_ok=True)\n",
    "    \n",
    "    normal_images_ids = folds_config_dict[fold_index][\"train\"][\"isic_id\"][np.where(folds_config_dict[fold_index][\"train\"][\"target\"]==0)]\n",
    "    anomaly_images_ids = folds_config_dict[fold_index][\"train\"][\"isic_id\"][np.where(folds_config_dict[fold_index][\"train\"][\"target\"]==1)]\n",
    "    \n",
    "    print(f\"total images: {len(normal_images_ids) + len(anomaly_images_ids)}\")\n",
    "    print(\"Over and under sampling...\")\n",
    "    over_under_sample(normal_images_ids=normal_images_ids,\n",
    "                      anomaly_images_ids=anomaly_images_ids,\n",
    "                      augmentation_transform=augmentation_oversampling,\n",
    "                      root_path=os.path.join(dataset_path, \"splits\", f\"fold_{fold_index}\"),\n",
    "                      config=config)\n",
    "    \n",
    "    print(\"Saving validation images to disk...\")\n",
    "    for isic_id, target in tqdm(zip(folds_config_dict[fold_index][\"val\"][\"isic_id\"], folds_config_dict[fold_index][\"val\"][\"target\"]), total=len(folds_config_dict[fold_index][\"val\"][\"isic_id\"])):\n",
    "        img = copy.deepcopy(Image.open(os.path.join(image_source_path, f\"{isic_id}.jpg\")))\n",
    "        img.save(os.path.join(dataset_path, \"splits\", f\"fold_{fold_index}\", \"val\", f\"{int(target)}\", f\"{isic_id}.jpg\"))"
   ],
   "id": "1ff0ffa04e254e59",
   "outputs": [
    {
     "data": {
      "text/plain": [
       "  0%|          | 0/5 [00:00<?, ?it/s]"
      ],
      "application/vnd.jupyter.widget-view+json": {
       "version_major": 2,
       "version_minor": 0,
       "model_id": "a778756c77194e74abcaa1015953cf83"
      }
     },
     "metadata": {},
     "output_type": "display_data"
    },
    {
     "name": "stdout",
     "output_type": "stream",
     "text": [
      "Fold: 1\n",
      "total images: 320847\n",
      "Over and under sampling...\n",
      "Target: Normal samples count: 208551 | Target: Anomally samples count: 112297 \n",
      "Iterations needed to reach target count for anomaly samples: 357 | Anomaly original count: 315\n"
     ]
    },
    {
     "data": {
      "text/plain": [
       "  0%|          | 0/357 [00:00<?, ?it/s]"
      ],
      "application/vnd.jupyter.widget-view+json": {
       "version_major": 2,
       "version_minor": 0,
       "model_id": "031c276b0de344afbd9bbe975605be72"
      }
     },
     "metadata": {},
     "output_type": "display_data"
    },
    {
     "name": "stdout",
     "output_type": "stream",
     "text": [
      "Sampled normal images: 208551 | unique numbers: 208551\n"
     ]
    },
    {
     "data": {
      "text/plain": [
       "  0%|          | 0/208551 [00:00<?, ?it/s]"
      ],
      "application/vnd.jupyter.widget-view+json": {
       "version_major": 2,
       "version_minor": 0,
       "model_id": "d9bbe9b728894ec88167e4a4c5ee5072"
      }
     },
     "metadata": {},
     "output_type": "display_data"
    },
    {
     "name": "stdout",
     "output_type": "stream",
     "text": [
      "Saving validation images to disk...\n"
     ]
    },
    {
     "data": {
      "text/plain": [
       "  0%|          | 0/80212 [00:00<?, ?it/s]"
      ],
      "application/vnd.jupyter.widget-view+json": {
       "version_major": 2,
       "version_minor": 0,
       "model_id": "3d919618625f4ba29e75facfeb025d37"
      }
     },
     "metadata": {},
     "output_type": "display_data"
    },
    {
     "name": "stdout",
     "output_type": "stream",
     "text": [
      "Fold: 2\n",
      "total images: 320847\n",
      "Over and under sampling...\n",
      "Target: Normal samples count: 208551 | Target: Anomally samples count: 112297 \n",
      "Iterations needed to reach target count for anomaly samples: 358 | Anomaly original count: 314\n"
     ]
    },
    {
     "data": {
      "text/plain": [
       "  0%|          | 0/358 [00:00<?, ?it/s]"
      ],
      "application/vnd.jupyter.widget-view+json": {
       "version_major": 2,
       "version_minor": 0,
       "model_id": "53cca8d711cd4804ab5026c20ace9677"
      }
     },
     "metadata": {},
     "output_type": "display_data"
    },
    {
     "name": "stdout",
     "output_type": "stream",
     "text": [
      "Sampled normal images: 208551 | unique numbers: 208551\n"
     ]
    },
    {
     "data": {
      "text/plain": [
       "  0%|          | 0/208551 [00:00<?, ?it/s]"
      ],
      "application/vnd.jupyter.widget-view+json": {
       "version_major": 2,
       "version_minor": 0,
       "model_id": "f90e739200e2443a9d43cf1fae2203c6"
      }
     },
     "metadata": {},
     "output_type": "display_data"
    },
    {
     "name": "stdout",
     "output_type": "stream",
     "text": [
      "Saving validation images to disk...\n"
     ]
    },
    {
     "data": {
      "text/plain": [
       "  0%|          | 0/80212 [00:00<?, ?it/s]"
      ],
      "application/vnd.jupyter.widget-view+json": {
       "version_major": 2,
       "version_minor": 0,
       "model_id": "b661b784c6014ee494b5e495e9e82e3f"
      }
     },
     "metadata": {},
     "output_type": "display_data"
    },
    {
     "name": "stdout",
     "output_type": "stream",
     "text": [
      "Fold: 3\n",
      "total images: 320847\n",
      "Over and under sampling...\n",
      "Target: Normal samples count: 208551 | Target: Anomally samples count: 112297 \n",
      "Iterations needed to reach target count for anomaly samples: 358 | Anomaly original count: 314\n"
     ]
    },
    {
     "data": {
      "text/plain": [
       "  0%|          | 0/358 [00:00<?, ?it/s]"
      ],
      "application/vnd.jupyter.widget-view+json": {
       "version_major": 2,
       "version_minor": 0,
       "model_id": "11f3c15ab3ba439e8c46d4ff1028848d"
      }
     },
     "metadata": {},
     "output_type": "display_data"
    },
    {
     "name": "stdout",
     "output_type": "stream",
     "text": [
      "Sampled normal images: 208551 | unique numbers: 208551\n"
     ]
    },
    {
     "data": {
      "text/plain": [
       "  0%|          | 0/208551 [00:00<?, ?it/s]"
      ],
      "application/vnd.jupyter.widget-view+json": {
       "version_major": 2,
       "version_minor": 0,
       "model_id": "0f6c3609b92049e88f1d079953c73169"
      }
     },
     "metadata": {},
     "output_type": "display_data"
    },
    {
     "name": "stdout",
     "output_type": "stream",
     "text": [
      "Saving validation images to disk...\n"
     ]
    },
    {
     "data": {
      "text/plain": [
       "  0%|          | 0/80212 [00:00<?, ?it/s]"
      ],
      "application/vnd.jupyter.widget-view+json": {
       "version_major": 2,
       "version_minor": 0,
       "model_id": "9844646a7b9144e293b2f59a7f53bcc4"
      }
     },
     "metadata": {},
     "output_type": "display_data"
    },
    {
     "name": "stdout",
     "output_type": "stream",
     "text": [
      "Fold: 4\n",
      "total images: 320847\n",
      "Over and under sampling...\n",
      "Target: Normal samples count: 208551 | Target: Anomally samples count: 112297 \n",
      "Iterations needed to reach target count for anomaly samples: 358 | Anomaly original count: 314\n"
     ]
    },
    {
     "data": {
      "text/plain": [
       "  0%|          | 0/358 [00:00<?, ?it/s]"
      ],
      "application/vnd.jupyter.widget-view+json": {
       "version_major": 2,
       "version_minor": 0,
       "model_id": "7078bfe3d7d4438091368b45f9f1068a"
      }
     },
     "metadata": {},
     "output_type": "display_data"
    },
    {
     "name": "stdout",
     "output_type": "stream",
     "text": [
      "Sampled normal images: 208551 | unique numbers: 208551\n"
     ]
    },
    {
     "data": {
      "text/plain": [
       "  0%|          | 0/208551 [00:00<?, ?it/s]"
      ],
      "application/vnd.jupyter.widget-view+json": {
       "version_major": 2,
       "version_minor": 0,
       "model_id": "866c45a5965344c8bc6db8708ebc6f30"
      }
     },
     "metadata": {},
     "output_type": "display_data"
    },
    {
     "name": "stdout",
     "output_type": "stream",
     "text": [
      "Saving validation images to disk...\n"
     ]
    },
    {
     "data": {
      "text/plain": [
       "  0%|          | 0/80212 [00:00<?, ?it/s]"
      ],
      "application/vnd.jupyter.widget-view+json": {
       "version_major": 2,
       "version_minor": 0,
       "model_id": "44f745ab1ddb4bffb2383a3b84dca99f"
      }
     },
     "metadata": {},
     "output_type": "display_data"
    },
    {
     "name": "stdout",
     "output_type": "stream",
     "text": [
      "Fold: 5\n",
      "total images: 320848\n",
      "Over and under sampling...\n",
      "Target: Normal samples count: 208552 | Target: Anomally samples count: 112297 \n",
      "Iterations needed to reach target count for anomaly samples: 357 | Anomaly original count: 315\n"
     ]
    },
    {
     "data": {
      "text/plain": [
       "  0%|          | 0/357 [00:00<?, ?it/s]"
      ],
      "application/vnd.jupyter.widget-view+json": {
       "version_major": 2,
       "version_minor": 0,
       "model_id": "30e15dc2443a4fb79c69ba1ef8e2c090"
      }
     },
     "metadata": {},
     "output_type": "display_data"
    },
    {
     "name": "stdout",
     "output_type": "stream",
     "text": [
      "Sampled normal images: 208552 | unique numbers: 208552\n"
     ]
    },
    {
     "data": {
      "text/plain": [
       "  0%|          | 0/208552 [00:00<?, ?it/s]"
      ],
      "application/vnd.jupyter.widget-view+json": {
       "version_major": 2,
       "version_minor": 0,
       "model_id": "5169921bcdd644b4b127c2afce6ca1c5"
      }
     },
     "metadata": {},
     "output_type": "display_data"
    },
    {
     "name": "stdout",
     "output_type": "stream",
     "text": [
      "Saving validation images to disk...\n"
     ]
    },
    {
     "data": {
      "text/plain": [
       "  0%|          | 0/80211 [00:00<?, ?it/s]"
      ],
      "application/vnd.jupyter.widget-view+json": {
       "version_major": 2,
       "version_minor": 0,
       "model_id": "6744c3d57cb04bd19bb244a8a074b7ac"
      }
     },
     "metadata": {},
     "output_type": "display_data"
    }
   ],
   "execution_count": 7
  },
  {
   "metadata": {
    "ExecuteTime": {
     "end_time": "2024-09-02T20:47:20.565823Z",
     "start_time": "2024-09-02T20:47:20.563795Z"
    }
   },
   "cell_type": "code",
   "source": [
    "import glob\n",
    "import os"
   ],
   "id": "973ba34436a1283d",
   "outputs": [],
   "execution_count": 8
  },
  {
   "metadata": {
    "ExecuteTime": {
     "end_time": "2024-09-02T20:47:20.599416Z",
     "start_time": "2024-09-02T20:47:20.566694Z"
    }
   },
   "cell_type": "code",
   "source": [
    "fold_index = 1\n",
    "\n",
    "dataset_path = config.get_value(\"DATASET_PATH\")\n",
    "\n",
    "root = os.path.join(dataset_path, \"splits\", f\"fold_{fold_index}\", \"train\")\n",
    "\n",
    "file_list = glob.glob(os.path.join(root, \"*.jpg\"))"
   ],
   "id": "2568dadc1696c2f3",
   "outputs": [],
   "execution_count": 9
  },
  {
   "metadata": {
    "ExecuteTime": {
     "end_time": "2024-09-02T20:47:20.620790Z",
     "start_time": "2024-09-02T20:47:20.600644Z"
    }
   },
   "cell_type": "code",
   "source": "os.listdir(root)",
   "id": "b4d778cfa3b00313",
   "outputs": [
    {
     "data": {
      "text/plain": [
       "['1', '0']"
      ]
     },
     "execution_count": 10,
     "metadata": {},
     "output_type": "execute_result"
    }
   ],
   "execution_count": 10
  },
  {
   "metadata": {
    "ExecuteTime": {
     "end_time": "2024-09-02T20:47:20.637903Z",
     "start_time": "2024-09-02T20:47:20.621610Z"
    }
   },
   "cell_type": "code",
   "source": "file_list[:5]",
   "id": "1019faca3acaceac",
   "outputs": [
    {
     "data": {
      "text/plain": [
       "[]"
      ]
     },
     "execution_count": 11,
     "metadata": {},
     "output_type": "execute_result"
    }
   ],
   "execution_count": 11
  },
  {
   "metadata": {
    "ExecuteTime": {
     "end_time": "2024-09-02T20:47:21.060855Z",
     "start_time": "2024-09-02T20:47:20.638606Z"
    }
   },
   "cell_type": "code",
   "source": "dataloader = IsicDataLoaderFolders(root=root)",
   "id": "a469a177e9d19e2b",
   "outputs": [],
   "execution_count": 12
  },
  {
   "metadata": {
    "ExecuteTime": {
     "end_time": "2024-09-02T20:47:21.067906Z",
     "start_time": "2024-09-02T20:47:21.061719Z"
    }
   },
   "cell_type": "code",
   "source": "next(iter(dataloader))",
   "id": "6e132001292aee61",
   "outputs": [
    {
     "data": {
      "text/plain": [
       "(tensor([[[0.4745, 0.4706, 0.4667,  ..., 0.4510, 0.4392, 0.4353],\n",
       "          [0.4706, 0.4706, 0.4667,  ..., 0.4588, 0.4471, 0.4431],\n",
       "          [0.4706, 0.4667, 0.4627,  ..., 0.4588, 0.4471, 0.4431],\n",
       "          ...,\n",
       "          [0.4824, 0.4745, 0.4667,  ..., 0.4118, 0.4196, 0.4275],\n",
       "          [0.4745, 0.4745, 0.4745,  ..., 0.4118, 0.4196, 0.4275],\n",
       "          [0.4706, 0.4784, 0.4863,  ..., 0.4118, 0.4196, 0.4275]],\n",
       " \n",
       "         [[0.3020, 0.2980, 0.2941,  ..., 0.2941, 0.2941, 0.2902],\n",
       "          [0.2980, 0.2980, 0.2941,  ..., 0.3020, 0.3020, 0.2980],\n",
       "          [0.2980, 0.2941, 0.2902,  ..., 0.3020, 0.3020, 0.2980],\n",
       "          ...,\n",
       "          [0.3176, 0.3098, 0.3020,  ..., 0.2392, 0.2471, 0.2549],\n",
       "          [0.3098, 0.3098, 0.3098,  ..., 0.2392, 0.2471, 0.2549],\n",
       "          [0.3059, 0.3137, 0.3216,  ..., 0.2392, 0.2471, 0.2549]],\n",
       " \n",
       "         [[0.2039, 0.2000, 0.1961,  ..., 0.1961, 0.1922, 0.1882],\n",
       "          [0.2000, 0.2000, 0.1961,  ..., 0.2039, 0.2000, 0.1961],\n",
       "          [0.2000, 0.1961, 0.1922,  ..., 0.2039, 0.2000, 0.1961],\n",
       "          ...,\n",
       "          [0.2314, 0.2157, 0.2078,  ..., 0.1333, 0.1412, 0.1490],\n",
       "          [0.2157, 0.2118, 0.2118,  ..., 0.1333, 0.1412, 0.1490],\n",
       "          [0.2078, 0.2157, 0.2235,  ..., 0.1333, 0.1412, 0.1490]]]),\n",
       " tensor([1]))"
      ]
     },
     "execution_count": 13,
     "metadata": {},
     "output_type": "execute_result"
    }
   ],
   "execution_count": 13
  },
  {
   "metadata": {
    "ExecuteTime": {
     "end_time": "2024-09-02T20:47:21.071194Z",
     "start_time": "2024-09-02T20:47:21.069572Z"
    }
   },
   "cell_type": "code",
   "source": "",
   "id": "71bece2db535231a",
   "outputs": [],
   "execution_count": 13
  }
 ],
 "metadata": {
  "kernelspec": {
   "display_name": "Python 3",
   "language": "python",
   "name": "python3"
  },
  "language_info": {
   "codemirror_mode": {
    "name": "ipython",
    "version": 2
   },
   "file_extension": ".py",
   "mimetype": "text/x-python",
   "name": "python",
   "nbconvert_exporter": "python",
   "pygments_lexer": "ipython2",
   "version": "2.7.6"
  }
 },
 "nbformat": 4,
 "nbformat_minor": 5
}

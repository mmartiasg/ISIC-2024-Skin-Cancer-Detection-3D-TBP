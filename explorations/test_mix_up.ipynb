{
 "cells": [
  {
   "cell_type": "code",
   "id": "initial_id",
   "metadata": {
    "collapsed": true,
    "ExecuteTime": {
     "end_time": "2024-08-29T22:25:37.743705Z",
     "start_time": "2024-08-29T22:25:37.741230Z"
    }
   },
   "source": [
    "import torch\n",
    "from prototypes.deeplearning.dataloader.IsicDataLoader import IsicDataLoaderFolders\n",
    "import os\n",
    "from prototypes.utility.data import ProjectConfiguration\n",
    "import matplotlib.pyplot as plt"
   ],
   "execution_count": 30,
   "outputs": []
  },
  {
   "metadata": {
    "ExecuteTime": {
     "end_time": "2024-08-29T22:25:38.797452Z",
     "start_time": "2024-08-29T22:25:38.306835Z"
    }
   },
   "cell_type": "code",
   "source": [
    "config = ProjectConfiguration(\"../config.json\")\n",
    "fold_index = 0\n",
    "\n",
    "root_folder_train = os.path.join(config.get_value(\"DATASET_PATH\"), \"splits\", f\"fold_{fold_index + 1}\", \"train\")\n",
    "\n",
    "train_set = IsicDataLoaderFolders(root=root_folder_train)\n",
    "\n",
    "train_dataloader = torch.utils.data.DataLoader(train_set,\n",
    "                                               batch_size=10,\n",
    "                                               shuffle=True,\n",
    "                                               num_workers=1)"
   ],
   "id": "db66e99d8e3e6485",
   "execution_count": 31,
   "outputs": []
  },
  {
   "metadata": {
    "ExecuteTime": {
     "end_time": "2024-08-29T22:27:46.594703Z",
     "start_time": "2024-08-29T22:27:46.530392Z"
    }
   },
   "cell_type": "code",
   "source": "x, y = next(iter(train_dataloader))",
   "id": "93431976cfd928a1",
   "execution_count": 40,
   "outputs": []
  },
  {
   "metadata": {
    "ExecuteTime": {
     "end_time": "2024-08-29T22:40:54.303309Z",
     "start_time": "2024-08-29T22:40:51.507412Z"
    }
   },
   "cell_type": "code",
   "source": [
    "import numpy as np\n",
    "\n",
    "alpha = 1.4\n",
    "beta_dist = torch.distributions.beta.Beta(alpha, alpha)\n",
    "\n",
    "lam1 = np.zeros(100000)\n",
    "for i in range(100000):\n",
    "    lam1[i] = beta_dist.sample()\n",
    "    \n",
    "print(np.mean(lam1), np.std(lam1), (lam1<0.5).sum(), (lam1>=0.5).sum(), (lam1>=0.8).sum(), (lam1>=0.9).sum(), (lam1==1.0).sum())"
   ],
   "id": "3344ff8b367eaca9",
   "execution_count": 119,
   "outputs": []
  },
  {
   "metadata": {
    "ExecuteTime": {
     "end_time": "2024-08-29T22:41:19.901508Z",
     "start_time": "2024-08-29T22:41:17.064908Z"
    }
   },
   "cell_type": "code",
   "source": [
    "alpha = 0.2\n",
    "beta_dist = torch.distributions.beta.Beta(alpha, alpha)\n",
    "\n",
    "lam2 = np.zeros(100000)\n",
    "for i in range(100000):\n",
    "    lam2[i] = beta_dist.sample()\n",
    "    \n",
    "print(np.mean(lam2), np.std(lam2), (lam2<0.5).sum(), (lam2>=0.5).sum(), (lam2>=0.8).sum(), (lam2>=0.9).sum(), (lam2==1.0).sum())"
   ],
   "id": "15ce8d4424ea0fd9",
   "execution_count": 121,
   "outputs": []
  },
  {
   "metadata": {
    "ExecuteTime": {
     "end_time": "2024-08-29T22:32:11.392351Z",
     "start_time": "2024-08-29T22:32:11.389260Z"
    }
   },
   "cell_type": "code",
   "source": [
    "alpha = 1.2\n",
    "beta_dist = torch.distributions.beta.Beta(alpha, alpha)\n",
    "\n",
    "lam = beta_dist.sample()\n",
    "index = torch.randperm(x.size()[0])"
   ],
   "id": "fd0772be8199074d",
   "execution_count": 91,
   "outputs": []
  },
  {
   "metadata": {
    "ExecuteTime": {
     "end_time": "2024-08-29T22:32:11.873345Z",
     "start_time": "2024-08-29T22:32:11.870044Z"
    }
   },
   "cell_type": "code",
   "source": "index",
   "id": "a55404ba6b3e9f43",
   "execution_count": 92,
   "outputs": []
  },
  {
   "metadata": {
    "ExecuteTime": {
     "end_time": "2024-08-29T22:32:12.345480Z",
     "start_time": "2024-08-29T22:32:12.341629Z"
    }
   },
   "cell_type": "code",
   "source": "lam",
   "id": "50afa19fc78a9adc",
   "execution_count": 93,
   "outputs": []
  },
  {
   "metadata": {
    "ExecuteTime": {
     "end_time": "2024-08-29T22:32:12.838995Z",
     "start_time": "2024-08-29T22:32:12.836002Z"
    }
   },
   "cell_type": "code",
   "source": [
    "mixedup_images = lam * x + (1 - lam) * x[index, :]\n",
    "labels_mixed = lam * y + (1 - lam) * y[index, :]"
   ],
   "id": "26bf591eeec82489",
   "execution_count": 94,
   "outputs": []
  },
  {
   "metadata": {
    "ExecuteTime": {
     "end_time": "2024-08-29T22:32:13.661109Z",
     "start_time": "2024-08-29T22:32:13.657042Z"
    }
   },
   "cell_type": "code",
   "source": "y, labels_mixed",
   "id": "84e2e5562502f94",
   "execution_count": 95,
   "outputs": []
  },
  {
   "metadata": {
    "ExecuteTime": {
     "end_time": "2024-08-29T22:32:17.223563Z",
     "start_time": "2024-08-29T22:32:15.188769Z"
    }
   },
   "cell_type": "code",
   "source": [
    "_, ax = plt.subplots(10, 2, figsize=(10, 40))\n",
    "\n",
    "for i in range(10):\n",
    "    ax[i, 0].imshow(x[i].transpose(0, 2).numpy())\n",
    "    ax[i, 0].set_title(f\"Label: {y[i]}\")\n",
    "    ax[i, 1].imshow(mixedup_images[i].transpose(0, 2).numpy())\n",
    "    ax[i, 1].set_title(f\"Label Mix up: {labels_mixed[i]}\")"
   ],
   "id": "90bb7ec312f5df14",
   "execution_count": 96,
   "outputs": []
  },
  {
   "metadata": {},
   "cell_type": "code",
   "execution_count": null,
   "source": "",
   "id": "f49aa0b2d9bd9e28",
   "outputs": []
  }
 ],
 "metadata": {
  "kernelspec": {
   "display_name": "Python 3",
   "language": "python",
   "name": "python3"
  },
  "language_info": {
   "codemirror_mode": {
    "name": "ipython",
    "version": 2
   },
   "file_extension": ".py",
   "mimetype": "text/x-python",
   "name": "python",
   "nbconvert_exporter": "python",
   "pygments_lexer": "ipython2",
   "version": "2.7.6"
  }
 },
 "nbformat": 4,
 "nbformat_minor": 5
}

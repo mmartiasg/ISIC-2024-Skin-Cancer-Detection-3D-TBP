{
 "cells": [
  {
   "cell_type": "code",
   "id": "initial_id",
   "metadata": {
    "collapsed": true,
    "ExecuteTime": {
     "end_time": "2024-08-18T11:01:35.194908Z",
     "start_time": "2024-08-18T11:01:33.101727Z"
    }
   },
   "source": [
    "import torch\n",
    "from prototypes.deeplearning.dataloader.IsicDataLoader import LoadDataVectors\n",
    "from prototypes.deeplearning.models import Resnet50Prototype1, Resnet50Prototype2\n",
    "import os\n",
    "from prototypes.utility.data import ProjectConfiguration"
   ],
   "outputs": [],
   "execution_count": 1
  },
  {
   "metadata": {
    "ExecuteTime": {
     "end_time": "2024-08-18T11:01:35.545270Z",
     "start_time": "2024-08-18T11:01:35.477910Z"
    }
   },
   "cell_type": "code",
   "source": [
    "model_loaded = Resnet50Prototype1(n_classes=1)\n",
    "model_loaded.load_state_dict(torch.load(os.path.join(\"../checkpoint_resnet50_mix_up\", \"0.1.0_best.pt\"), weights_only=True))"
   ],
   "id": "23b93d5478e4174",
   "outputs": [
    {
     "data": {
      "text/plain": [
       "<All keys matched successfully>"
      ]
     },
     "execution_count": 3,
     "metadata": {},
     "output_type": "execute_result"
    }
   ],
   "execution_count": 3
  },
  {
   "metadata": {},
   "cell_type": "markdown",
   "source": "# Predict",
   "id": "ff228382b11cee3e"
  },
  {
   "metadata": {
    "ExecuteTime": {
     "end_time": "2024-08-18T11:01:35.548642Z",
     "start_time": "2024-08-18T11:01:35.546558Z"
    }
   },
   "cell_type": "code",
   "source": "config = ProjectConfiguration(\"../config.json\")",
   "id": "317bc4792d9bd0f1",
   "outputs": [],
   "execution_count": 4
  },
  {
   "metadata": {
    "ExecuteTime": {
     "end_time": "2024-08-18T11:01:46.467607Z",
     "start_time": "2024-08-18T11:01:35.549385Z"
    }
   },
   "cell_type": "code",
   "source": [
    "dataloader = LoadDataVectors(hd5_file_path=os.path.join(config.get_value(\"DATASET_PATH\"), \"train-image.hdf5\"),\n",
    "                             transform=model_loaded.weights.transforms(),\n",
    "                             metadata_csv_path=config.get_value(\"TRAIN_METADATA\"))\n",
    "\n",
    "# sampler = torch.utils.data.RandomSampler(dataloader, num_samples=config.get_value(\"VAL_SAMPLE_SIZE\"))\n",
    "# dataloader = torch.utils.data.DataLoader(dataloader, batch_size=128, shuffle=False, num_workers=16, sampler=sampler)\n",
    "dataloader = torch.utils.data.DataLoader(dataloader, batch_size=128, shuffle=False, num_workers=16)"
   ],
   "id": "b46557190b1e21bf",
   "outputs": [],
   "execution_count": 5
  },
  {
   "metadata": {
    "ExecuteTime": {
     "end_time": "2024-08-18T11:23:48.352734Z",
     "start_time": "2024-08-18T11:16:30.019277Z"
    }
   },
   "cell_type": "code",
   "source": [
    "from tqdm.auto import tqdm\n",
    "\n",
    "model_loaded = model_loaded.cuda()\n",
    "\n",
    "y_pred = []\n",
    "y_true = []\n",
    "\n",
    "for batch in tqdm(dataloader):\n",
    "    x = batch[0].cuda()\n",
    "    y = batch[1].cuda()\n",
    "    \n",
    "    with torch.no_grad():\n",
    "        y_pred.extend(model_loaded(x).cpu().numpy())\n",
    "        y_true.extend(y.cpu().numpy())"
   ],
   "id": "55de8b0c1519ff22",
   "outputs": [
    {
     "data": {
      "text/plain": [
       "  0%|          | 0/3134 [00:00<?, ?it/s]"
      ],
      "application/vnd.jupyter.widget-view+json": {
       "version_major": 2,
       "version_minor": 0,
       "model_id": "5b0fa9816a2c4a5da413d85feaad604e"
      }
     },
     "metadata": {},
     "output_type": "display_data"
    }
   ],
   "execution_count": 9
  },
  {
   "metadata": {
    "ExecuteTime": {
     "end_time": "2024-08-18T11:25:12.931322Z",
     "start_time": "2024-08-18T11:25:12.165715Z"
    }
   },
   "cell_type": "code",
   "source": [
    "import pandas as pd\n",
    "\n",
    "solution_df = pd.DataFrame(zip(y_true, [e[0] for e in y_true]), columns=['isic_id', 'target'])\n",
    "submission_df = pd.DataFrame(zip(y_pred, [e[0] for e in y_pred]), columns=['isic_id', 'target'])"
   ],
   "id": "45b39a42b859feae",
   "outputs": [],
   "execution_count": 10
  },
  {
   "metadata": {
    "ExecuteTime": {
     "end_time": "2024-08-18T11:25:14.583316Z",
     "start_time": "2024-08-18T11:25:14.290960Z"
    }
   },
   "cell_type": "code",
   "source": "from prototypes.deeplearning.trainner import score",
   "id": "7576aa6050fb7cd3",
   "outputs": [],
   "execution_count": 11
  },
  {
   "metadata": {
    "ExecuteTime": {
     "end_time": "2024-08-18T11:25:15.537227Z",
     "start_time": "2024-08-18T11:25:15.531589Z"
    }
   },
   "cell_type": "code",
   "source": "submission_df.head()",
   "id": "b0525128eaa19514",
   "outputs": [
    {
     "data": {
      "text/plain": [
       "        isic_id    target\n",
       "0  [0.53557104]  0.535571\n",
       "1  [0.52318925]  0.523189\n",
       "2   [0.5037488]  0.503749\n",
       "3  [0.51554567]  0.515546\n",
       "4  [0.52910924]  0.529109"
      ],
      "text/html": [
       "<div>\n",
       "<style scoped>\n",
       "    .dataframe tbody tr th:only-of-type {\n",
       "        vertical-align: middle;\n",
       "    }\n",
       "\n",
       "    .dataframe tbody tr th {\n",
       "        vertical-align: top;\n",
       "    }\n",
       "\n",
       "    .dataframe thead th {\n",
       "        text-align: right;\n",
       "    }\n",
       "</style>\n",
       "<table border=\"1\" class=\"dataframe\">\n",
       "  <thead>\n",
       "    <tr style=\"text-align: right;\">\n",
       "      <th></th>\n",
       "      <th>isic_id</th>\n",
       "      <th>target</th>\n",
       "    </tr>\n",
       "  </thead>\n",
       "  <tbody>\n",
       "    <tr>\n",
       "      <th>0</th>\n",
       "      <td>[0.53557104]</td>\n",
       "      <td>0.535571</td>\n",
       "    </tr>\n",
       "    <tr>\n",
       "      <th>1</th>\n",
       "      <td>[0.52318925]</td>\n",
       "      <td>0.523189</td>\n",
       "    </tr>\n",
       "    <tr>\n",
       "      <th>2</th>\n",
       "      <td>[0.5037488]</td>\n",
       "      <td>0.503749</td>\n",
       "    </tr>\n",
       "    <tr>\n",
       "      <th>3</th>\n",
       "      <td>[0.51554567]</td>\n",
       "      <td>0.515546</td>\n",
       "    </tr>\n",
       "    <tr>\n",
       "      <th>4</th>\n",
       "      <td>[0.52910924]</td>\n",
       "      <td>0.529109</td>\n",
       "    </tr>\n",
       "  </tbody>\n",
       "</table>\n",
       "</div>"
      ]
     },
     "execution_count": 12,
     "metadata": {},
     "output_type": "execute_result"
    }
   ],
   "execution_count": 12
  },
  {
   "metadata": {
    "ExecuteTime": {
     "end_time": "2024-08-18T11:25:17.111596Z",
     "start_time": "2024-08-18T11:25:17.045541Z"
    }
   },
   "cell_type": "code",
   "source": "score(solution=solution_df, submission=submission_df, row_id_column_name=\"isic_id\", min_tpr=0.80)",
   "id": "630311bd3a7600c3",
   "outputs": [
    {
     "data": {
      "text/plain": [
       "0.024961658304571734"
      ]
     },
     "execution_count": 13,
     "metadata": {},
     "output_type": "execute_result"
    }
   ],
   "execution_count": 13
  },
  {
   "metadata": {},
   "cell_type": "code",
   "outputs": [],
   "execution_count": null,
   "source": "",
   "id": "f5adb91e95cc6d60"
  }
 ],
 "metadata": {
  "kernelspec": {
   "display_name": "Python 3",
   "language": "python",
   "name": "python3"
  },
  "language_info": {
   "codemirror_mode": {
    "name": "ipython",
    "version": 2
   },
   "file_extension": ".py",
   "mimetype": "text/x-python",
   "name": "python",
   "nbconvert_exporter": "python",
   "pygments_lexer": "ipython2",
   "version": "2.7.6"
  }
 },
 "nbformat": 4,
 "nbformat_minor": 5
}

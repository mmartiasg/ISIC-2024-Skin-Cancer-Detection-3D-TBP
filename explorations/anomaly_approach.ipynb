{
 "cells": [
  {
   "cell_type": "code",
   "id": "initial_id",
   "metadata": {
    "collapsed": true,
    "ExecuteTime": {
     "end_time": "2024-08-14T19:56:09.491179Z",
     "start_time": "2024-08-14T19:56:08.797485Z"
    }
   },
   "source": [
    "import numpy as np\n",
    "from prototypes.utility.data import DataLoader\n",
    "from prototypes.utility.data import ProjectConfiguration\n",
    "import matplotlib.pyplot as plt\n",
    "from prototypes.classical.segmentation.transformers import BlackBarsRemover, OtsuThresholdingSegmentation\n",
    "from prototypes.classical.descriptors.texture import LBPTransformer, GaborTransformer, HoGTransformer\n",
    "from prototypes.classical.descriptors.vetorizer import PCAVectorizer\n",
    "import cv2\n",
    "\n",
    "%load_ext autoreload\n",
    "%autoreload 2"
   ],
   "execution_count": 1,
   "outputs": []
  },
  {
   "metadata": {
    "ExecuteTime": {
     "end_time": "2024-08-14T19:56:09.502527Z",
     "start_time": "2024-08-14T19:56:09.492280Z"
    }
   },
   "cell_type": "code",
   "source": "config = ProjectConfiguration(\"../config.json\")",
   "id": "ecbafed33ced5751",
   "execution_count": 2,
   "outputs": []
  },
  {
   "metadata": {
    "ExecuteTime": {
     "end_time": "2024-08-14T19:56:09.515647Z",
     "start_time": "2024-08-14T19:56:09.503402Z"
    }
   },
   "cell_type": "code",
   "source": "config.get_keys()",
   "id": "a0127acaf447a665",
   "execution_count": 3,
   "outputs": []
  },
  {
   "metadata": {
    "ExecuteTime": {
     "end_time": "2024-08-14T19:56:19.301660Z",
     "start_time": "2024-08-14T19:56:09.516762Z"
    }
   },
   "cell_type": "code",
   "source": "data_loader = DataLoader(data_path=config.get_value(\"TRAIN_IMAGES_PATH\"), metadata_path=config.get_value(\"TRAIN_METADATA\"))",
   "id": "c74c061e21882d64",
   "execution_count": 4,
   "outputs": []
  },
  {
   "metadata": {
    "ExecuteTime": {
     "end_time": "2024-08-14T19:56:19.475345Z",
     "start_time": "2024-08-14T19:56:19.302555Z"
    }
   },
   "cell_type": "code",
   "source": [
    "cancer_images = data_loader.get_data(target=1, n_sample=300, width=128, height=128)\n",
    "non_cancer_images = data_loader.get_data(target=0, n_sample=300, width=128, height=128)\n",
    "otsu_thresholding = OtsuThresholdingSegmentation()\n",
    "lbp_transformer = LBPTransformer(p=8, r=1)"
   ],
   "id": "71970b89abb5bc90",
   "execution_count": 5,
   "outputs": []
  },
  {
   "metadata": {
    "ExecuteTime": {
     "end_time": "2024-08-14T19:56:19.487013Z",
     "start_time": "2024-08-14T19:56:19.476575Z"
    }
   },
   "cell_type": "code",
   "source": "cancer_images.shape",
   "id": "c6e9994e44a85b08",
   "execution_count": 6,
   "outputs": []
  },
  {
   "metadata": {
    "ExecuteTime": {
     "end_time": "2024-08-14T19:56:19.847419Z",
     "start_time": "2024-08-14T19:56:19.487743Z"
    }
   },
   "cell_type": "code",
   "source": [
    "_, ax = plt.subplots(1, 4, figsize=(15, 15))\n",
    "\n",
    "gray_scaled = cv2.cvtColor(cancer_images[4], cv2.COLOR_RGB2GRAY)\n",
    "thresholded = otsu_thresholding.transform(gray_scaled)\n",
    "lbp_thresholded = lbp_transformer.transform([thresholded])[0]\n",
    "lbp_wholeimage = lbp_transformer.transform([gray_scaled])[0]\n",
    "\n",
    "ax[0].imshow(cancer_images[4])\n",
    "ax[1].imshow(thresholded, \"gray\")\n",
    "ax[2].imshow(lbp_thresholded, \"gray\")\n",
    "ax[3].imshow(lbp_wholeimage, \"gray\")"
   ],
   "id": "ca7870e0fecc0ec0",
   "execution_count": 7,
   "outputs": []
  },
  {
   "metadata": {
    "ExecuteTime": {
     "end_time": "2024-08-12T20:06:29.055500Z",
     "start_time": "2024-08-12T20:06:29.052565Z"
    }
   },
   "cell_type": "code",
   "source": "gray_scaled.mean(), gray_scaled.std()",
   "id": "33ddcddb4ce6d503",
   "execution_count": 8,
   "outputs": []
  },
  {
   "metadata": {
    "ExecuteTime": {
     "end_time": "2024-08-12T20:06:29.105074Z",
     "start_time": "2024-08-12T20:06:29.056151Z"
    }
   },
   "cell_type": "code",
   "source": "lbp_thresholded.mean(), lbp_thresholded.std()",
   "id": "5ef328b488c700f0",
   "execution_count": 9,
   "outputs": []
  },
  {
   "metadata": {
    "ExecuteTime": {
     "end_time": "2024-08-12T20:06:29.116268Z",
     "start_time": "2024-08-12T20:06:29.107432Z"
    }
   },
   "cell_type": "code",
   "source": "lbp_wholeimage.mean(), lbp_wholeimage.std()",
   "id": "3c5afa4f2bf1ca5d",
   "execution_count": 10,
   "outputs": []
  },
  {
   "metadata": {
    "ExecuteTime": {
     "end_time": "2024-08-12T20:06:29.451902Z",
     "start_time": "2024-08-12T20:06:29.117278Z"
    }
   },
   "cell_type": "code",
   "source": [
    "_, ax = plt.subplots(1, 4, figsize=(15, 15))\n",
    "\n",
    "gray_scaled = cv2.cvtColor(non_cancer_images[4], cv2.COLOR_RGB2GRAY)\n",
    "thresholded = otsu_thresholding.transform(gray_scaled)\n",
    "lbp_thresholded = lbp_transformer.transform([thresholded])[0]\n",
    "lbp_wholeimage = lbp_transformer.transform([gray_scaled])[0]\n",
    "\n",
    "ax[0].imshow(non_cancer_images[4])\n",
    "ax[1].imshow(thresholded, \"gray\")\n",
    "ax[2].imshow(lbp_thresholded, \"gray\")\n",
    "ax[3].imshow(lbp_wholeimage, \"gray\")"
   ],
   "id": "4e8e67b3ad48b9c",
   "execution_count": 11,
   "outputs": []
  },
  {
   "metadata": {
    "ExecuteTime": {
     "end_time": "2024-08-12T20:06:29.455844Z",
     "start_time": "2024-08-12T20:06:29.452775Z"
    }
   },
   "cell_type": "code",
   "source": "gray_scaled.mean(), gray_scaled.std()",
   "id": "1c4c434cfe81cf22",
   "execution_count": 12,
   "outputs": []
  },
  {
   "metadata": {
    "ExecuteTime": {
     "end_time": "2024-08-12T20:06:29.475602Z",
     "start_time": "2024-08-12T20:06:29.456617Z"
    }
   },
   "cell_type": "code",
   "source": "lbp_thresholded.mean(), lbp_thresholded.std()",
   "id": "15f86ea82be499c5",
   "execution_count": 13,
   "outputs": []
  },
  {
   "metadata": {
    "ExecuteTime": {
     "end_time": "2024-08-12T20:06:29.486452Z",
     "start_time": "2024-08-12T20:06:29.476310Z"
    }
   },
   "cell_type": "code",
   "source": "lbp_wholeimage.mean(), lbp_wholeimage.std()",
   "id": "119ea6bd7d6cb6e7",
   "execution_count": 14,
   "outputs": []
  },
  {
   "metadata": {},
   "cell_type": "markdown",
   "source": [
    "# Distribution test\n",
    "\n",
    "Pixel intesity in gray scale"
   ],
   "id": "ea5480f45c436509"
  },
  {
   "metadata": {
    "ExecuteTime": {
     "end_time": "2024-08-14T19:56:46.018504Z",
     "start_time": "2024-08-14T19:56:19.848225Z"
    }
   },
   "cell_type": "code",
   "source": "bening_images = data_loader.get_data(target=0, width=64, height=64, mode=\"gray\")",
   "id": "ebcd67576167d8ce",
   "execution_count": 8,
   "outputs": []
  },
  {
   "metadata": {
    "ExecuteTime": {
     "end_time": "2024-08-14T19:56:46.068148Z",
     "start_time": "2024-08-14T19:56:46.019303Z"
    }
   },
   "cell_type": "code",
   "source": "malign_images = data_loader.get_data(target=1, width=64, height=64, mode=\"gray\")",
   "id": "9d18e0c7a8a001e",
   "execution_count": 9,
   "outputs": []
  },
  {
   "metadata": {
    "ExecuteTime": {
     "end_time": "2024-08-12T20:15:39.324468Z",
     "start_time": "2024-08-12T20:06:55.052956Z"
    }
   },
   "cell_type": "code",
   "source": [
    "lbp_benign = lbp_transformer.transform(bening_images)\n",
    "lbp_malign = lbp_transformer.transform(malign_images)\n",
    "\n",
    "lbp_thresholded_benign = otsu_thresholding.transform(lbp_transformer.transform(bening_images))\n",
    "lbp_thresholded_malignant = otsu_thresholding.transform(lbp_transformer.transform(malign_images))\n",
    "\n",
    "lbp_benign_mean, lbp_benign_std = np.mean(lbp_benign), np.std(lbp_benign)\n",
    "lbp_malign_mean, lbp_malign_std = np.mean(lbp_malign), np.std(lbp_malign)\n",
    "\n",
    "lbp_thresholded_benign_mean, lbp_thresholded_std = np.mean(lbp_thresholded_benign), np.std(lbp_thresholded_benign)\n",
    "lbp_thresholded_malignant_mean, lbp_thresholded_malignant_std = np.mean(lbp_thresholded_malignant), np.std(lbp_thresholded_malignant)\n",
    "\n",
    "bening_mean, bening_std = bening_images.mean(), bening_images.std()\n",
    "malignant_mean, malignant_std = malign_images.mean(), malign_images.std()"
   ],
   "id": "e55b0c3d7dff8847",
   "execution_count": 17,
   "outputs": []
  },
  {
   "metadata": {
    "ExecuteTime": {
     "end_time": "2024-08-14T22:35:06.076558Z",
     "start_time": "2024-08-14T22:35:06.065549Z"
    }
   },
   "cell_type": "code",
   "source": [
    "x = np.linspace(-255, 256, 256)\n",
    "\n",
    "def gaussian_dist(x, mean, std):\n",
    "    return (1/(std*np.sqrt(2*np.pi))) * np.exp(-(x-mean)**2/(2*std**2))"
   ],
   "id": "179250ca9873a1cc",
   "execution_count": 81,
   "outputs": []
  },
  {
   "metadata": {
    "ExecuteTime": {
     "end_time": "2024-08-12T20:15:39.483264Z",
     "start_time": "2024-08-12T20:15:39.328673Z"
    }
   },
   "cell_type": "code",
   "source": [
    "plt.plot(x, gaussian_dist(x, bening_mean, bening_std), label=\"Benign\")\n",
    "plt.plot(x, gaussian_dist(x, malignant_mean, malignant_std), label=\"Malignant\")\n",
    "\n",
    "plt.plot(x, gaussian_dist(x, lbp_benign_mean, lbp_benign_std), label=\"LBP-Benign\")\n",
    "plt.plot(x, gaussian_dist(x, lbp_malign_mean, lbp_malign_std), label=\"LBP-Malignant\")\n",
    "\n",
    "plt.plot(x, gaussian_dist(x, lbp_thresholded_benign_mean, lbp_thresholded_std), label=\"LBP-Thresholded-Benign\")\n",
    "plt.plot(x, gaussian_dist(x, lbp_thresholded_malignant_mean, lbp_thresholded_malignant_std), label=\"LBP-Thresholded-Malignant\")\n",
    "\n",
    "plt.legend()\n",
    "plt.show()"
   ],
   "id": "94ed31788daecf02",
   "execution_count": 19,
   "outputs": []
  },
  {
   "metadata": {},
   "cell_type": "markdown",
   "source": "# Distribution based on gabor banks",
   "id": "79a27a302fe4b809"
  },
  {
   "metadata": {
    "ExecuteTime": {
     "end_time": "2024-08-14T22:00:49.813363Z",
     "start_time": "2024-08-14T22:00:49.802741Z"
    }
   },
   "cell_type": "code",
   "source": "import numpy as np",
   "id": "2acac91c6499259e",
   "execution_count": 58,
   "outputs": []
  },
  {
   "metadata": {
    "ExecuteTime": {
     "end_time": "2024-08-14T22:00:50.534662Z",
     "start_time": "2024-08-14T22:00:50.523710Z"
    }
   },
   "cell_type": "code",
   "source": "gabor_transformer = GaborTransformer(frequency=1/100, theta=np.pi/4, sigma_x=5, sigma_y=5)",
   "id": "9011a45682f03ecf",
   "execution_count": 59,
   "outputs": []
  },
  {
   "metadata": {
    "ExecuteTime": {
     "end_time": "2024-08-14T22:44:44.347080Z",
     "start_time": "2024-08-14T22:38:25.395865Z"
    }
   },
   "cell_type": "code",
   "source": "gabor_benign = gabor_transformer.transform(bening_images)",
   "id": "ce28f56a88c67cb0",
   "execution_count": 91,
   "outputs": []
  },
  {
   "metadata": {
    "ExecuteTime": {
     "end_time": "2024-08-14T22:44:44.358479Z",
     "start_time": "2024-08-14T22:44:44.348227Z"
    }
   },
   "cell_type": "code",
   "source": "from prototypes.classical.descriptors.vetorizer import PCAVectorizer",
   "id": "e250732998244c9f",
   "execution_count": 92,
   "outputs": []
  },
  {
   "metadata": {
    "ExecuteTime": {
     "end_time": "2024-08-14T22:44:44.377751Z",
     "start_time": "2024-08-14T22:44:44.359305Z"
    }
   },
   "cell_type": "code",
   "source": [
    "pca_vectorizer_b = PCAVectorizer(components=10)\n",
    "pca_vectorizer_m = PCAVectorizer(components=10)"
   ],
   "id": "1b2450337130183a",
   "execution_count": 93,
   "outputs": []
  },
  {
   "metadata": {
    "ExecuteTime": {
     "end_time": "2024-08-14T22:44:44.466570Z",
     "start_time": "2024-08-14T22:44:44.378965Z"
    }
   },
   "cell_type": "code",
   "source": "plt.imshow(gabor_benign[0], \"gray\")",
   "id": "e67d46f5fd437648",
   "execution_count": 94,
   "outputs": []
  },
  {
   "metadata": {
    "ExecuteTime": {
     "end_time": "2024-08-14T22:44:44.560325Z",
     "start_time": "2024-08-14T22:44:44.467476Z"
    }
   },
   "cell_type": "code",
   "source": "plt.imshow(gabor_benign[-1], \"gray\")",
   "id": "d1914679a8176385",
   "execution_count": 95,
   "outputs": []
  },
  {
   "metadata": {
    "ExecuteTime": {
     "end_time": "2024-08-14T22:44:44.961664Z",
     "start_time": "2024-08-14T22:44:44.561361Z"
    }
   },
   "cell_type": "code",
   "source": "gabor_malignant = gabor_transformer.transform(malign_images)",
   "id": "82e02c25ddb0f807",
   "execution_count": 96,
   "outputs": []
  },
  {
   "metadata": {
    "ExecuteTime": {
     "start_time": "2024-08-14T22:44:44.962533Z"
    }
   },
   "cell_type": "code",
   "source": [
    "pca_vectorizer_b.fit(gabor_benign)\n",
    "pca_vectorizer_m.fit(gabor_malignant)"
   ],
   "id": "4d1844c436dbf2e6",
   "execution_count": null,
   "outputs": []
  },
  {
   "metadata": {},
   "cell_type": "markdown",
   "source": "# mean and std for each component of the PCA to make a distribution",
   "id": "8b5b59f03e7b2a8"
  },
  {
   "metadata": {},
   "cell_type": "code",
   "source": [
    "pca_gabor_benign = pca_vectorizer_b.transform(gabor_benign)\n",
    "pca_gabor_malignant = pca_vectorizer_m.transform(gabor_malignant)"
   ],
   "id": "8bd68987b546df0e",
   "execution_count": null,
   "outputs": []
  },
  {
   "metadata": {},
   "cell_type": "code",
   "source": "pca_gabor_benign.shape, gabor_malignant.shape",
   "id": "2229ba20e29d0da9",
   "execution_count": null,
   "outputs": []
  },
  {
   "metadata": {},
   "cell_type": "code",
   "source": [
    "def print_gaussian(pca_gabor_benign, pca_gabor_malignant):\n",
    "    for component in range(10):\n",
    "        mean_benign = pca_gabor_benign[:, component].mean()\n",
    "        std_benign = pca_gabor_benign[:, component].std()\n",
    "        \n",
    "        mean_malignant = pca_gabor_malignant[:, component].mean()\n",
    "        std_malignant = pca_gabor_malignant[:, component].std()\n",
    "        \n",
    "        plt.plot(x, gaussian_dist(x, mean_benign, std_benign), label=f\"Benign-component-{component}\")\n",
    "        plt.plot(x, gaussian_dist(x, mean_malignant, std_malignant), label=f\"Malignant-{component}\")\n",
    "\n",
    "    plt.legend()\n",
    "    plt.show()"
   ],
   "id": "a2681945f54a6ac3",
   "execution_count": null,
   "outputs": []
  },
  {
   "metadata": {},
   "cell_type": "code",
   "source": "print_gaussian(pca_gabor_benign, pca_gabor_malignant)",
   "id": "411d48848ff1e776",
   "execution_count": null,
   "outputs": []
  }
 ],
 "metadata": {
  "kernelspec": {
   "display_name": "Python 3",
   "language": "python",
   "name": "python3"
  },
  "language_info": {
   "codemirror_mode": {
    "name": "ipython",
    "version": 2
   },
   "file_extension": ".py",
   "mimetype": "text/x-python",
   "name": "python",
   "nbconvert_exporter": "python",
   "pygments_lexer": "ipython2",
   "version": "2.7.6"
  }
 },
 "nbformat": 4,
 "nbformat_minor": 5
}

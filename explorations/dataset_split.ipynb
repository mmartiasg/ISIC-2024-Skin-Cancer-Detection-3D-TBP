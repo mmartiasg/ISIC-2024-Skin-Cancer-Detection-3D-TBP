{
 "cells": [
  {
   "metadata": {
    "ExecuteTime": {
     "end_time": "2024-08-24T16:23:54.039457Z",
     "start_time": "2024-08-24T16:23:54.037011Z"
    }
   },
   "cell_type": "code",
   "source": [
    "import json\n",
    "\n",
    "with open(\"../config.json\", \"r\") as f:\n",
    "    config = json.load(f)"
   ],
   "id": "5655eaa58f44b430",
   "execution_count": 3,
   "outputs": []
  },
  {
   "cell_type": "code",
   "id": "initial_id",
   "metadata": {
    "collapsed": true,
    "ExecuteTime": {
     "end_time": "2024-08-24T16:23:28.814303Z",
     "start_time": "2024-08-24T16:23:28.240295Z"
    }
   },
   "source": [
    "import h5py\n",
    "import os\n",
    "import numpy as np\n",
    "from sklearn.model_selection import train_test_split\n",
    "\n",
    "def stratified_split_hdf5(input_file, output_train_file, output_val_file, train_set, val_set):\n",
    "    with h5py.File(input_file, 'r') as f:\n",
    "        # Write the splits to new HDF5 files\n",
    "        \n",
    "        for x, y in (train_set)\n",
    "        \n",
    "        with h5py.File(output_train_file, 'w') as train_file:\n",
    "            train_file.create_dataset(data=X_train)\n",
    "        \n",
    "        with h5py.File(output_val_file, 'w') as val_file:\n",
    "            val_file.create_dataset(data=X_val)\n",
    "\n",
    "# Usage\n",
    "input_file = os.path.join(config[\"DATASET_PATH\"], \"train-image.hdf5\")\n",
    "output_train_file = 'train_data.h5'\n",
    "output_val_file = 'val_data.h5'\n",
    "dataset_name = 'features'  # The name of the dataset in the HDF5 file\n",
    "label_name = 'labels'  # The name of the labels dataset in the HDF5 file\n",
    "\n",
    "stratified_split_hdf5(input_file, output_train_file, output_val_file, dataset_name, label_name)\n"
   ],
   "execution_count": 1,
   "outputs": []
  },
  {
   "metadata": {},
   "cell_type": "code",
   "execution_count": null,
   "source": "",
   "id": "a0c4dfe7d9ad5fdb",
   "outputs": []
  }
 ],
 "metadata": {
  "kernelspec": {
   "display_name": "Python 3",
   "language": "python",
   "name": "python3"
  },
  "language_info": {
   "codemirror_mode": {
    "name": "ipython",
    "version": 2
   },
   "file_extension": ".py",
   "mimetype": "text/x-python",
   "name": "python",
   "nbconvert_exporter": "python",
   "pygments_lexer": "ipython2",
   "version": "2.7.6"
  }
 },
 "nbformat": 4,
 "nbformat_minor": 5
}

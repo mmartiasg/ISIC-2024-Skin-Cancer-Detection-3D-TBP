{
 "cells": [
  {
   "cell_type": "code",
   "id": "initial_id",
   "metadata": {
    "collapsed": true,
    "ExecuteTime": {
     "end_time": "2024-08-04T20:18:42.515930Z",
     "start_time": "2024-08-04T20:18:37.785137Z"
    }
   },
   "source": [
    "# warm_start – When set to True, reuse the solution of the previous call to fit and add more estimators to the ensemble, otherwise, just erase the previous solution. See the Glossary\n",
    "import numpy as np\n",
    "from sklearn.ensemble import RandomForestClassifier, GradientBoostingClassifier\n",
    "import json\n",
    "import logging\n",
    "from prototypes.deeplearning.dataloader.IsicDataLoader import LoadDataVectors\n",
    "import torch\n",
    "import os\n",
    "from prototypes.classical.descriptors.vetorizer import GaborAttentionLBPVectors\n",
    "from imblearn.over_sampling import RandomOverSampler, ADASYN, SMOTE\n",
    "from sklearn import pipeline\n",
    "import pickle\n"
   ],
   "execution_count": 1,
   "outputs": []
  },
  {
   "metadata": {
    "ExecuteTime": {
     "end_time": "2024-08-04T20:18:44.058088Z",
     "start_time": "2024-08-04T20:18:42.519100Z"
    }
   },
   "cell_type": "code",
   "source": [
    "with open(\"../config.json\", \"r\") as f:\n",
    "    config = json.load(f)\n",
    "\n",
    "DATASET_PATH = config[\"DATASET_PATH\"]\n",
    "MODEL_VERSION = config[\"VERSION\"]\n",
    "HYPER_PARAMETERS_PATH = config[\"HYPER_PARAMETERS_PATH\"] + \"_\" + MODEL_VERSION\n",
    "\n",
    "with open(f\"../classical_{MODEL_VERSION}\", 'rb') as f:\n",
    "    exported_model = pickle.load(f)\n",
    "\n",
    "load_vectors_test = LoadDataVectors(hd5_file_path=os.path.join(DATASET_PATH, \"test-image.hdf5\"), transform=GaborAttentionLBPVectors())\n",
    "\n",
    "vector_dataloader_test = torch.utils.data.DataLoader(load_vectors_test, batch_size=8, num_workers=1)\n",
    "\n",
    "predictions = []\n",
    "for element in vector_dataloader_test:\n",
    "    x, key = element\n",
    "    preds = exported_model.predict(x.numpy())\n",
    "\n",
    "    predictions.extend(zip(key, preds))\n",
    "\n",
    "print(predictions)"
   ],
   "id": "9553aaec551fe2de",
   "execution_count": 2,
   "outputs": []
  },
  {
   "metadata": {
    "ExecuteTime": {
     "end_time": "2024-08-04T20:18:44.077218Z",
     "start_time": "2024-08-04T20:18:44.060109Z"
    }
   },
   "cell_type": "code",
   "source": "len(predictions)",
   "id": "289a8b1c93b056cc",
   "execution_count": 3,
   "outputs": []
  },
  {
   "metadata": {
    "ExecuteTime": {
     "end_time": "2024-08-04T20:20:05.823915Z",
     "start_time": "2024-08-04T20:20:05.819519Z"
    }
   },
   "cell_type": "code",
   "source": "from joblib import dump, load",
   "id": "58abb4b4efae66f9",
   "execution_count": 5,
   "outputs": []
  },
  {
   "metadata": {
    "ExecuteTime": {
     "end_time": "2024-08-04T20:20:06.114586Z",
     "start_time": "2024-08-04T20:20:06.091744Z"
    }
   },
   "cell_type": "code",
   "source": "dump(exported_model, \"rf_classic_0.1.0.joblib\")",
   "id": "d970b3bfb14ab6f3",
   "execution_count": 6,
   "outputs": []
  },
  {
   "metadata": {},
   "cell_type": "code",
   "execution_count": null,
   "source": "",
   "id": "f12339d90fbafcb7",
   "outputs": []
  }
 ],
 "metadata": {
  "kernelspec": {
   "display_name": "Python 3",
   "language": "python",
   "name": "python3"
  },
  "language_info": {
   "codemirror_mode": {
    "name": "ipython",
    "version": 2
   },
   "file_extension": ".py",
   "mimetype": "text/x-python",
   "name": "python",
   "nbconvert_exporter": "python",
   "pygments_lexer": "ipython2",
   "version": "2.7.6"
  }
 },
 "nbformat": 4,
 "nbformat_minor": 5
}

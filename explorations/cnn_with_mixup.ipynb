{
 "cells": [
  {
   "cell_type": "code",
   "id": "initial_id",
   "metadata": {
    "collapsed": true,
    "ExecuteTime": {
     "end_time": "2024-08-16T22:00:52.452682Z",
     "start_time": "2024-08-16T22:00:49.640704Z"
    }
   },
   "source": [
    "from prototypes.deeplearning.dataloader.IsicDataLoader import LoadDataVectors\n",
    "from prototypes.deeplearning.trainner import train_single_task\n",
    "import torch\n",
    "import json\n",
    "from prototypes.utility.data import ProjectConfiguration\n",
    "import torchvision\n",
    "import os"
   ],
   "outputs": [],
   "execution_count": 2
  },
  {
   "metadata": {
    "ExecuteTime": {
     "end_time": "2024-08-16T22:00:52.740776Z",
     "start_time": "2024-08-16T22:00:52.453694Z"
    }
   },
   "cell_type": "code",
   "source": [
    "weights = torchvision.models.ResNet50_Weights.IMAGENET1K_V2\n",
    "model = torchvision.models.resnet50(weights=torchvision.models.ResNet50_Weights.IMAGENET1K_V2)"
   ],
   "id": "3e722843e6b31849",
   "outputs": [],
   "execution_count": 3
  },
  {
   "metadata": {
    "ExecuteTime": {
     "end_time": "2024-08-16T21:21:57.756257Z",
     "start_time": "2024-08-16T21:21:57.753393Z"
    }
   },
   "cell_type": "code",
   "source": "config = ProjectConfiguration(\"../config.json\")",
   "id": "8cfb35ef5f08f47b",
   "outputs": [],
   "execution_count": 3
  },
  {
   "metadata": {
    "ExecuteTime": {
     "end_time": "2024-08-16T21:21:57.778352Z",
     "start_time": "2024-08-16T21:21:57.757983Z"
    }
   },
   "cell_type": "code",
   "source": "config.get_keys()",
   "id": "5dc65c8caa8f27b5",
   "outputs": [
    {
     "data": {
      "text/plain": [
       "dict_keys(['DATASET_PATH', 'TRAIN_IMAGES_PATH', 'TRAIN_METADATA', 'TEST_METADATA', 'SAMPLE_SUBMISSION', 'IMAGE_WIDTH', 'IMAGE_HEIGHT', 'TARGET_COLUMNS', 'VECTORS_PATH', 'BATCH_SIZE', 'K_FOLDS', 'NUM_CLASSES', 'ALPHA', 'TRAIN_DEVICE', 'NUM_EPOCHS', 'NUM_WORKERS', 'SAMPLE_PERCENTAGE', 'HYPER_PARAMETERS_PATH', 'VERSION'])"
      ]
     },
     "execution_count": 4,
     "metadata": {},
     "output_type": "execute_result"
    }
   ],
   "execution_count": 4
  },
  {
   "metadata": {
    "ExecuteTime": {
     "end_time": "2024-08-16T21:21:57.789973Z",
     "start_time": "2024-08-16T21:21:57.779345Z"
    }
   },
   "cell_type": "code",
   "source": "config.get_value(\"TRAIN_METADATA\")",
   "id": "d53e3c615d2ed815",
   "outputs": [
    {
     "data": {
      "text/plain": [
       "'/home/matias/workspace/datasets/isic-2024-challenge/train-metadata.csv'"
      ]
     },
     "execution_count": 5,
     "metadata": {},
     "output_type": "execute_result"
    }
   ],
   "execution_count": 5
  },
  {
   "metadata": {
    "ExecuteTime": {
     "end_time": "2024-08-16T21:22:08.660726Z",
     "start_time": "2024-08-16T21:21:57.791019Z"
    }
   },
   "cell_type": "code",
   "source": [
    "dataloader = LoadDataVectors(hd5_file_path=os.path.join(config.get_value(\"DATASET_PATH\"), \"train-image.hdf5\"),\n",
    "                             metadata_csv_path=config.get_value(\"TRAIN_METADATA\"),\n",
    "                             target_columns=[\"target\"],\n",
    "                             transform=weights.transforms())"
   ],
   "id": "f6fe77d5c0e230b",
   "outputs": [],
   "execution_count": 6
  },
  {
   "metadata": {},
   "cell_type": "code",
   "source": "train, val = torch.utils.data.random_split(dataloader, [0.9, 0.1])",
   "id": "5a968c1c08020fb4",
   "execution_count": null,
   "outputs": []
  },
  {
   "metadata": {},
   "cell_type": "code",
   "source": "len(train), len(val)",
   "id": "bfa1053cebb361e4",
   "execution_count": null,
   "outputs": []
  },
  {
   "metadata": {},
   "cell_type": "code",
   "source": [
    "train_dataloader = torch.utils.data.DataLoader(train, batch_size=config.get_value(\"BATCH_SIZE\"), shuffle=True, num_workers=config.get_value(\"NUM_WORKERS\"))\n",
    "val_dataloader = torch.utils.data.DataLoader(val, batch_size=config.get_value(\"BATCH_SIZE\"), shuffle=False, num_workers=config.get_value(\"NUM_WORKERS\"))"
   ],
   "id": "b7d30e34356d2c0d",
   "execution_count": null,
   "outputs": []
  },
  {
   "metadata": {
    "ExecuteTime": {
     "end_time": "2024-08-16T21:22:08.787635Z",
     "start_time": "2024-08-16T21:22:08.661878Z"
    }
   },
   "cell_type": "code",
   "source": [
    "# model.fc = torch.nn.Sequential(torch.nn.Linear(2048, config.get_value(\"NUM_CLASSES\")), torch.nn.Sigmoid())\n",
    "# model = model.to(device=config.get_value(\"TRAIN_DEVICE\"))"
   ],
   "id": "d3a355b6e9f5f9b6",
   "outputs": [],
   "execution_count": 7
  },
  {
   "metadata": {},
   "cell_type": "code",
   "source": [
    "train_single_task(model=model, train_dataloader=train_dataloader, val_dataloader=val_dataloader,\n",
    "                  optimizer=torch.optim.Adam(params=model.parameters(), lr=1e-4),\n",
    "                  criterion=torch.nn.BCELoss(),\n",
    "                  device=config.get_value(\"TRAIN_DEVICE\"),\n",
    "                  epochs=config.get_value(\"NUM_EPOCHS\"), alpha=config.get_value(\"ALPHA\"))"
   ],
   "id": "74d3b80dff06230a",
   "execution_count": null,
   "outputs": []
  },
  {
   "metadata": {
    "ExecuteTime": {
     "end_time": "2024-08-16T22:07:03.481316Z",
     "start_time": "2024-08-16T22:07:02.683611Z"
    }
   },
   "cell_type": "code",
   "source": [
    "import onnx\n",
    "\n",
    "model = model.to(\"cpu\")\n",
    "\n",
    "# export model to ONNX\n",
    "dummy_input = torch.autograd.Variable(torch.randn(1, 3, 224, 224))\n",
    "\n",
    "input_names = [\"data\"]\n",
    "output_names = [\"output\"]\n",
    "torch.onnx.export(model,\n",
    "                  dummy_input.to(\"cpu\"),\n",
    "                  '../checkpoint_resnet50_mix_up/resnet-erasing.onnx',\n",
    "                  input_names=input_names,\n",
    "                  output_names=output_names,\n",
    "                  opset_version=11)"
   ],
   "id": "223697c20bf7bcc7",
   "outputs": [],
   "execution_count": 16
  },
  {
   "metadata": {
    "ExecuteTime": {
     "end_time": "2024-08-16T22:07:05.871308Z",
     "start_time": "2024-08-16T22:07:05.627019Z"
    }
   },
   "cell_type": "code",
   "source": [
    "# check created model\n",
    "onnx_model = onnx.load('../checkpoint_resnet50_mix_up/resnet-erasing.onnx')\n",
    "onnx.checker.check_model(onnx_model)"
   ],
   "id": "4c6f25752ab15b77",
   "outputs": [],
   "execution_count": 17
  },
  {
   "metadata": {
    "ExecuteTime": {
     "end_time": "2024-08-16T22:07:31.737120Z",
     "start_time": "2024-08-16T22:07:17.696338Z"
    }
   },
   "cell_type": "code",
   "source": "onnx_model",
   "id": "dfe690d596c4ca",
   "outputs": [],
   "execution_count": 18
  },
  {
   "metadata": {
    "ExecuteTime": {
     "end_time": "2024-08-16T22:12:06.586449Z",
     "start_time": "2024-08-16T22:12:06.583517Z"
    }
   },
   "cell_type": "code",
   "source": [
    "import onnxruntime\n",
    "from PIL import Image\n",
    "\n",
    "\n",
    "def infer_with_onnx(img_path, onnx_model):\n",
    "    ort_session = onnxruntime.InferenceSession(onnx_model)\n",
    "    def to_numpy(tensor):\n",
    "        return tensor.detach().cpu().numpy() if tensor.requires_grad else tensor.cpu().numpy()\n",
    "\n",
    "    img = Image.open(img_path)\n",
    "    img = weights.transforms([img])\n",
    "\n",
    "    ort_inputs = {ort_session.get_inputs()[0].name: to_numpy(img)}\n",
    "    ort_outs = ort_session.run(None, ort_inputs)\n",
    "    out_y = ort_outs[0]\n",
    "\n",
    "    return out_y"
   ],
   "id": "e41be42fbd2259f7",
   "outputs": [],
   "execution_count": 23
  },
  {
   "metadata": {
    "ExecuteTime": {
     "end_time": "2024-08-16T22:12:18.399356Z",
     "start_time": "2024-08-16T22:12:18.375012Z"
    }
   },
   "cell_type": "code",
   "source": "infer_with_onnx(\"../../datasets/isic-2024-challenge/train-image/image/1.jpg\", onnx_model)",
   "id": "578e73ca636a128a",
   "outputs": [
    {
     "ename": "TypeError",
     "evalue": "Unable to load from type '<class 'onnx.onnx_ml_pb2.ModelProto'>'",
     "output_type": "error",
     "traceback": [
      "\u001B[0;31m---------------------------------------------------------------------------\u001B[0m",
      "\u001B[0;31mTypeError\u001B[0m                                 Traceback (most recent call last)",
      "Cell \u001B[0;32mIn[24], line 1\u001B[0m\n\u001B[0;32m----> 1\u001B[0m \u001B[43minfer_with_onnx\u001B[49m\u001B[43m(\u001B[49m\u001B[38;5;124;43m\"\u001B[39;49m\u001B[38;5;124;43m../../datasets/isic-2024-challenge/train-image/image/1.jpg\u001B[39;49m\u001B[38;5;124;43m\"\u001B[39;49m\u001B[43m,\u001B[49m\u001B[43m \u001B[49m\u001B[43monnx_model\u001B[49m\u001B[43m)\u001B[49m\n",
      "Cell \u001B[0;32mIn[23], line 6\u001B[0m, in \u001B[0;36minfer_with_onnx\u001B[0;34m(img_path, onnx_model)\u001B[0m\n\u001B[1;32m      5\u001B[0m \u001B[38;5;28;01mdef\u001B[39;00m \u001B[38;5;21minfer_with_onnx\u001B[39m(img_path, onnx_model):\n\u001B[0;32m----> 6\u001B[0m     ort_session \u001B[38;5;241m=\u001B[39m \u001B[43monnxruntime\u001B[49m\u001B[38;5;241;43m.\u001B[39;49m\u001B[43mInferenceSession\u001B[49m\u001B[43m(\u001B[49m\u001B[43monnx_model\u001B[49m\u001B[43m)\u001B[49m\n\u001B[1;32m      7\u001B[0m     \u001B[38;5;28;01mdef\u001B[39;00m \u001B[38;5;21mto_numpy\u001B[39m(tensor):\n\u001B[1;32m      8\u001B[0m         \u001B[38;5;28;01mreturn\u001B[39;00m tensor\u001B[38;5;241m.\u001B[39mdetach()\u001B[38;5;241m.\u001B[39mcpu()\u001B[38;5;241m.\u001B[39mnumpy() \u001B[38;5;28;01mif\u001B[39;00m tensor\u001B[38;5;241m.\u001B[39mrequires_grad \u001B[38;5;28;01melse\u001B[39;00m tensor\u001B[38;5;241m.\u001B[39mcpu()\u001B[38;5;241m.\u001B[39mnumpy()\n",
      "File \u001B[0;32m~/pythonenv/kaggle-isic/lib/python3.10/site-packages/onnxruntime/capi/onnxruntime_inference_collection.py:405\u001B[0m, in \u001B[0;36mInferenceSession.__init__\u001B[0;34m(self, path_or_bytes, sess_options, providers, provider_options, **kwargs)\u001B[0m\n\u001B[1;32m    403\u001B[0m     \u001B[38;5;28mself\u001B[39m\u001B[38;5;241m.\u001B[39m_model_bytes \u001B[38;5;241m=\u001B[39m path_or_bytes  \u001B[38;5;66;03m# TODO: This is bad as we're holding the memory indefinitely\u001B[39;00m\n\u001B[1;32m    404\u001B[0m \u001B[38;5;28;01melse\u001B[39;00m:\n\u001B[0;32m--> 405\u001B[0m     \u001B[38;5;28;01mraise\u001B[39;00m \u001B[38;5;167;01mTypeError\u001B[39;00m(\u001B[38;5;124mf\u001B[39m\u001B[38;5;124m\"\u001B[39m\u001B[38;5;124mUnable to load from type \u001B[39m\u001B[38;5;124m'\u001B[39m\u001B[38;5;132;01m{\u001B[39;00m\u001B[38;5;28mtype\u001B[39m(path_or_bytes)\u001B[38;5;132;01m}\u001B[39;00m\u001B[38;5;124m'\u001B[39m\u001B[38;5;124m\"\u001B[39m)\n\u001B[1;32m    407\u001B[0m \u001B[38;5;28mself\u001B[39m\u001B[38;5;241m.\u001B[39m_sess_options \u001B[38;5;241m=\u001B[39m sess_options\n\u001B[1;32m    408\u001B[0m \u001B[38;5;28mself\u001B[39m\u001B[38;5;241m.\u001B[39m_sess_options_initial \u001B[38;5;241m=\u001B[39m sess_options\n",
      "\u001B[0;31mTypeError\u001B[0m: Unable to load from type '<class 'onnx.onnx_ml_pb2.ModelProto'>'"
     ]
    }
   ],
   "execution_count": 24
  },
  {
   "metadata": {},
   "cell_type": "code",
   "outputs": [],
   "execution_count": null,
   "source": "",
   "id": "c8063df3f9f02cc6"
  }
 ],
 "metadata": {
  "kernelspec": {
   "display_name": "Python 3",
   "language": "python",
   "name": "python3"
  },
  "language_info": {
   "codemirror_mode": {
    "name": "ipython",
    "version": 2
   },
   "file_extension": ".py",
   "mimetype": "text/x-python",
   "name": "python",
   "nbconvert_exporter": "python",
   "pygments_lexer": "ipython2",
   "version": "2.7.6"
  }
 },
 "nbformat": 4,
 "nbformat_minor": 5
}

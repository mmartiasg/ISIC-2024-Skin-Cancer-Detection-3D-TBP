{
 "cells": [
  {
   "cell_type": "code",
   "id": "initial_id",
   "metadata": {
    "collapsed": true,
    "jupyter": {
     "is_executing": true
    },
    "ExecuteTime": {
     "start_time": "2024-08-15T16:30:41.928092Z"
    }
   },
   "source": [
    "from prototypes.deeplearning.dataloader.IsicDataLoader import LoadDataVectors\n",
    "from prototypes.deeplearning.trainner import train_single_task\n",
    "import torch\n",
    "import json\n",
    "from prototypes.utility.data import ProjectConfiguration\n",
    "import torchvision\n",
    "import os"
   ],
   "outputs": [],
   "execution_count": null
  },
  {
   "metadata": {
    "jupyter": {
     "is_executing": true
    }
   },
   "cell_type": "code",
   "source": [
    "weights = torchvision.models.ResNet50_Weights.IMAGENET1K_V2\n",
    "model = torchvision.models.resnet50(weights=torchvision.models.ResNet50_Weights.IMAGENET1K_V2)"
   ],
   "id": "3e722843e6b31849",
   "outputs": [],
   "execution_count": null
  },
  {
   "metadata": {
    "jupyter": {
     "is_executing": true
    }
   },
   "cell_type": "code",
   "source": "config = ProjectConfiguration(\"../config.json\")",
   "id": "8cfb35ef5f08f47b",
   "outputs": [],
   "execution_count": null
  },
  {
   "metadata": {
    "jupyter": {
     "is_executing": true
    }
   },
   "cell_type": "code",
   "source": "config.get_keys()",
   "id": "5dc65c8caa8f27b5",
   "outputs": [],
   "execution_count": null
  },
  {
   "metadata": {
    "jupyter": {
     "is_executing": true
    }
   },
   "cell_type": "code",
   "source": "config.get_value(\"TRAIN_METADATA\")",
   "id": "d53e3c615d2ed815",
   "outputs": [],
   "execution_count": null
  },
  {
   "metadata": {
    "jupyter": {
     "is_executing": true
    }
   },
   "cell_type": "code",
   "source": [
    "dataloader = LoadDataVectors(hd5_file_path=os.path.join(config.get_value(\"DATASET_PATH\"), \"train-image.hdf5\"),\n",
    "                             metadata_csv_path=config.get_value(\"TRAIN_METADATA\"),\n",
    "                             target_columns=[\"target\"],\n",
    "                             transform=weights.transforms())"
   ],
   "id": "f6fe77d5c0e230b",
   "outputs": [],
   "execution_count": null
  },
  {
   "metadata": {
    "jupyter": {
     "is_executing": true
    }
   },
   "cell_type": "code",
   "source": "train, val = torch.utils.data.random_split(dataloader, [0.8, 0.2])",
   "id": "5a968c1c08020fb4",
   "outputs": [],
   "execution_count": null
  },
  {
   "metadata": {
    "jupyter": {
     "is_executing": true
    }
   },
   "cell_type": "code",
   "source": "len(train), len(val)",
   "id": "bfa1053cebb361e4",
   "outputs": [],
   "execution_count": null
  },
  {
   "metadata": {
    "jupyter": {
     "is_executing": true
    }
   },
   "cell_type": "code",
   "source": [
    "train_dataloader = torch.utils.data.DataLoader(train, batch_size=config.get_value(\"BATCH_SIZE\"), shuffle=True, num_workers=config.get_value(\"NUM_WORKERS\"))\n",
    "val_dataloader = torch.utils.data.DataLoader(val, batch_size=config.get_value(\"BATCH_SIZE\")//2, shuffle=False, num_workers=config.get_value(\"NUM_WORKERS\"))"
   ],
   "id": "b7d30e34356d2c0d",
   "outputs": [],
   "execution_count": null
  },
  {
   "metadata": {
    "jupyter": {
     "is_executing": true
    }
   },
   "cell_type": "code",
   "source": [
    "# model, train_dataloader, val_dataloader, optimizer, criterion, device, epochs, alpha=0.2\n",
    "model = model.to(device=config.get_value(\"TRAIN_DEVICE\"))\n",
    "train_single_task(model=model, train_dataloader=train_dataloader, val_dataloader=val_dataloader,\n",
    "                  optimizer=torch.optim.Adam(params=model.parameters(), lr=1e-3), criterion=torch.nn.BCELoss(), device=config.get_value(\"TRAIN_DEVICE\"),\n",
    "                  epochs=config.get_value(\"NUM_EPOCHS\"), alpha=config.get_value(\"ALPHA\"))"
   ],
   "id": "74d3b80dff06230a",
   "outputs": [],
   "execution_count": null
  },
  {
   "metadata": {
    "jupyter": {
     "is_executing": true
    }
   },
   "cell_type": "code",
   "source": "",
   "id": "de00512ed7b229f6",
   "outputs": [],
   "execution_count": null
  }
 ],
 "metadata": {
  "kernelspec": {
   "display_name": "Python 3",
   "language": "python",
   "name": "python3"
  },
  "language_info": {
   "codemirror_mode": {
    "name": "ipython",
    "version": 2
   },
   "file_extension": ".py",
   "mimetype": "text/x-python",
   "name": "python",
   "nbconvert_exporter": "python",
   "pygments_lexer": "ipython2",
   "version": "2.7.6"
  }
 },
 "nbformat": 4,
 "nbformat_minor": 5
}

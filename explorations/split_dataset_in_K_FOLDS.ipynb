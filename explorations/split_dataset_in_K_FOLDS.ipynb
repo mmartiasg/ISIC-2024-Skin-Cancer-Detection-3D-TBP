{
 "cells": [
  {
   "cell_type": "code",
   "id": "initial_id",
   "metadata": {
    "collapsed": true,
    "ExecuteTime": {
     "end_time": "2024-08-31T20:38:05.152711Z",
     "start_time": "2024-08-31T20:38:03.009765Z"
    }
   },
   "source": [
    "from prototypes.deeplearning.dataloader.IsicDataLoader import IsicDataLoaderFolders, over_under_sample, load_val_images, create_folds, AugmentationWrapper\n",
    "from prototypes.utility.data import ProjectConfiguration\n",
    "import pandas as pd"
   ],
   "outputs": [],
   "execution_count": 2
  },
  {
   "metadata": {
    "ExecuteTime": {
     "end_time": "2024-08-31T20:38:05.156148Z",
     "start_time": "2024-08-31T20:38:05.153889Z"
    }
   },
   "cell_type": "code",
   "source": "config = ProjectConfiguration(\"../config.json\")",
   "id": "4b4e4d9efe70fc30",
   "outputs": [],
   "execution_count": 3
  },
  {
   "metadata": {
    "ExecuteTime": {
     "end_time": "2024-08-31T20:38:05.177915Z",
     "start_time": "2024-08-31T20:38:05.156969Z"
    }
   },
   "cell_type": "code",
   "source": "config.get_keys()",
   "id": "aa547a71ad4a62dc",
   "outputs": [
    {
     "data": {
      "text/plain": [
       "dict_keys(['DATASET_PATH', 'TRAIN_IMAGES_PATH', 'TRAIN_METADATA', 'TEST_METADATA', 'SAMPLE_SUBMISSION', 'IMAGE_WIDTH', 'IMAGE_HEIGHT', 'TARGET_COLUMNS', 'VECTORS_PATH', 'BATCH_SIZE', 'K_FOLDS', 'NUM_CLASSES', 'ALPHA', 'TRAIN_DEVICE', 'USE_SAMPLER', 'TRAIN_SAMPLE_SIZE', 'VAL_SAMPLE_SIZE', 'TRAIN_SPLIT', 'NUM_EPOCHS', 'NUM_WORKERS', 'PREFETCH_FACTOR', 'MODEL', 'DROPOUT_LAST_LAYER', 'CLASS_BALANCE_PERCENTAGE', 'ENABLED_EXPONENTIAL_LR', 'USING_MIXUP', 'TOTAL_TRAIN_SAMPLES', 'PER_SAMPLE_AUGMENTATION', 'METADATA_COLUMNS', 'LEARNING_RATE', 'TOLERANCE_EARLY_STOPPING', 'SAMPLE_PERCENTAGE', 'HYPER_PARAMETERS_PATH', 'VERSION'])"
      ]
     },
     "execution_count": 4,
     "metadata": {},
     "output_type": "execute_result"
    }
   ],
   "execution_count": 4
  },
  {
   "metadata": {
    "ExecuteTime": {
     "end_time": "2024-08-31T20:38:15.553193Z",
     "start_time": "2024-08-31T20:38:05.179153Z"
    }
   },
   "cell_type": "code",
   "source": [
    "metadata_df = pd.read_csv(config.get_value(\"TRAIN_METADATA\"), engine=\"python\")\n",
    "columns = config.get_value(\"METADATA_COLUMNS\").split(\"\\t\")\n",
    "\n",
    "isic_id, metadata_array, labels = metadata_df[\"isic_id\"].values, metadata_df[columns].values, metadata_df[\n",
    "    \"target\"].values"
   ],
   "id": "82b01652cfef5efb",
   "outputs": [],
   "execution_count": 5
  },
  {
   "metadata": {
    "ExecuteTime": {
     "end_time": "2024-08-31T20:38:15.756659Z",
     "start_time": "2024-08-31T20:38:15.554229Z"
    }
   },
   "cell_type": "code",
   "source": "folds_config_dict = create_folds(isic_id=isic_id, metadata=metadata_array, labels=labels, config=config)",
   "id": "1462f9c77a9738e8",
   "outputs": [],
   "execution_count": 6
  },
  {
   "metadata": {
    "ExecuteTime": {
     "end_time": "2024-08-31T20:38:15.766426Z",
     "start_time": "2024-08-31T20:38:15.757689Z"
    }
   },
   "cell_type": "code",
   "source": "folds_config_dict",
   "id": "8918f8b9805f4",
   "outputs": [
    {
     "data": {
      "text/plain": [
       "{'1': {'train': {'isic_id': array(['ISIC_0015902', 'ISIC_0024200', 'ISIC_0035502', ...,\n",
       "          'ISIC_9999960', 'ISIC_9999964', 'ISIC_9999967'], dtype=object),\n",
       "   'metadata': array([[  14.24232888,   12.16475727,   21.44814427, ..., -141.02478027,\n",
       "           1442.18579102,   58.35980225],\n",
       "          [  24.72552   ,   20.05747   ,   26.4649    , ...,  -72.31564   ,\n",
       "           1488.72      ,   21.42896   ],\n",
       "          [  22.12918339,   19.91142436,   24.10661432, ...,  -11.95996094,\n",
       "           1436.02746582,  101.33465576],\n",
       "          ...,\n",
       "          [  17.33256672,   12.36439742,   29.84532611, ...,   54.62224579,\n",
       "           1065.26367188, -106.83374023],\n",
       "          [  22.28857   ,    9.564721  ,   28.4312    , ...,   -9.861557  ,\n",
       "            877.527     ,  -76.98212   ],\n",
       "          [  16.7929    ,   11.43473   ,   21.45722   , ..., -258.8723    ,\n",
       "            148.6062    ,  107.7106    ]]),\n",
       "   'target': array([0, 0, 0, ..., 0, 0, 0])},\n",
       "  'val': {'isic_id': array(['ISIC_0015670', 'ISIC_0015845', 'ISIC_0015864', ...,\n",
       "          'ISIC_9999057', 'ISIC_9999207', 'ISIC_9999417'], dtype=object),\n",
       "   'metadata': array([[ 2.02444223e+01,  1.62619752e+01,  2.69224474e+01, ...,\n",
       "           -1.82703552e+02,  6.13493652e+02, -4.24279480e+01],\n",
       "          [ 3.17125700e+01,  2.53647400e+01,  2.63310000e+01, ...,\n",
       "           -7.83081100e-02,  1.57568700e+03,  5.71745000e+01],\n",
       "          [ 2.25758300e+01,  1.71281700e+01,  3.79704600e+01, ...,\n",
       "            1.23649700e+02,  1.47201000e+03,  2.32908900e+02],\n",
       "          ...,\n",
       "          [ 2.10527300e+01,  1.76534300e+01,  2.36658100e+01, ...,\n",
       "            2.06517200e+02,  4.35992300e+02,  1.72949200e+01],\n",
       "          [ 2.22683239e+01,  1.85688214e+01,  2.94719611e+01, ...,\n",
       "            7.39439392e+01,  1.49177051e+03,  1.50356750e+02],\n",
       "          [ 1.91252400e+01,  1.20625200e+01,  2.72859500e+01, ...,\n",
       "            2.06384900e+02,  2.00016900e+02,  5.80778200e+01]]),\n",
       "   'target': array([0, 0, 0, ..., 0, 0, 0])}},\n",
       " '2': {'train': {'isic_id': array(['ISIC_0015670', 'ISIC_0015845', 'ISIC_0015864', ...,\n",
       "          'ISIC_9999960', 'ISIC_9999964', 'ISIC_9999967'], dtype=object),\n",
       "   'metadata': array([[ 2.02444223e+01,  1.62619752e+01,  2.69224474e+01, ...,\n",
       "           -1.82703552e+02,  6.13493652e+02, -4.24279480e+01],\n",
       "          [ 3.17125700e+01,  2.53647400e+01,  2.63310000e+01, ...,\n",
       "           -7.83081100e-02,  1.57568700e+03,  5.71745000e+01],\n",
       "          [ 2.25758300e+01,  1.71281700e+01,  3.79704600e+01, ...,\n",
       "            1.23649700e+02,  1.47201000e+03,  2.32908900e+02],\n",
       "          ...,\n",
       "          [ 1.73325667e+01,  1.23643974e+01,  2.98453261e+01, ...,\n",
       "            5.46222458e+01,  1.06526367e+03, -1.06833740e+02],\n",
       "          [ 2.22885700e+01,  9.56472100e+00,  2.84312000e+01, ...,\n",
       "           -9.86155700e+00,  8.77527000e+02, -7.69821200e+01],\n",
       "          [ 1.67929000e+01,  1.14347300e+01,  2.14572200e+01, ...,\n",
       "           -2.58872300e+02,  1.48606200e+02,  1.07710600e+02]]),\n",
       "   'target': array([0, 0, 0, ..., 0, 0, 0])},\n",
       "  'val': {'isic_id': array(['ISIC_0024200', 'ISIC_0051648', 'ISIC_0051812', ...,\n",
       "          'ISIC_9999678', 'ISIC_9999696', 'ISIC_9999919'], dtype=object),\n",
       "   'metadata': array([[  24.72552   ,   20.05747   ,   26.4649    , ...,  -72.31564   ,\n",
       "           1488.72      ,   21.42896   ],\n",
       "          [  14.3191882 ,   10.05613486,   26.68526251, ..., -286.59393311,\n",
       "           1494.98095703,   33.07781982],\n",
       "          [  19.80819   ,   14.86749   ,   30.426     , ..., -147.5017    ,\n",
       "            706.8179    ,  101.2655    ],\n",
       "          ...,\n",
       "          [  17.05558   ,   14.7295    ,   23.42927   , ..., -138.0582    ,\n",
       "            479.4928    ,   81.7973    ],\n",
       "          [  19.48955   ,   10.81554   ,   25.63174   , ...,  183.8828    ,\n",
       "           1390.055     ,  -58.01367   ],\n",
       "          [  17.95485929,   14.18464876,   26.89150082, ...,  129.81777954,\n",
       "           1521.30065918,    9.83349609]]),\n",
       "   'target': array([0, 0, 0, ..., 0, 0, 0])}},\n",
       " '3': {'train': {'isic_id': array(['ISIC_0015670', 'ISIC_0015845', 'ISIC_0015864', ...,\n",
       "          'ISIC_9999951', 'ISIC_9999964', 'ISIC_9999967'], dtype=object),\n",
       "   'metadata': array([[ 2.02444223e+01,  1.62619752e+01,  2.69224474e+01, ...,\n",
       "           -1.82703552e+02,  6.13493652e+02, -4.24279480e+01],\n",
       "          [ 3.17125700e+01,  2.53647400e+01,  2.63310000e+01, ...,\n",
       "           -7.83081100e-02,  1.57568700e+03,  5.71745000e+01],\n",
       "          [ 2.25758300e+01,  1.71281700e+01,  3.79704600e+01, ...,\n",
       "            1.23649700e+02,  1.47201000e+03,  2.32908900e+02],\n",
       "          ...,\n",
       "          [ 1.99776400e+01,  1.60268700e+01,  3.41588400e+01, ...,\n",
       "            5.23497400e+01,  1.39318700e+03,  1.27261700e+02],\n",
       "          [ 2.22885700e+01,  9.56472100e+00,  2.84312000e+01, ...,\n",
       "           -9.86155700e+00,  8.77527000e+02, -7.69821200e+01],\n",
       "          [ 1.67929000e+01,  1.14347300e+01,  2.14572200e+01, ...,\n",
       "           -2.58872300e+02,  1.48606200e+02,  1.07710600e+02]]),\n",
       "   'target': array([0, 0, 0, ..., 0, 0, 0])},\n",
       "  'val': {'isic_id': array(['ISIC_0051665', 'ISIC_0051896', 'ISIC_0051983', ...,\n",
       "          'ISIC_9999779', 'ISIC_9999854', 'ISIC_9999960'], dtype=object),\n",
       "   'metadata': array([[  20.10261   ,   16.00481   ,   24.82563   , ...,  -80.92709   ,\n",
       "           1535.127     ,  161.4908    ],\n",
       "          [  22.16881   ,   18.87471   ,   31.36237   , ...,  328.5996    ,\n",
       "           1189.842     , -103.5305    ],\n",
       "          [  16.77504   ,   10.52024   ,   31.63102   , ...,  109.2332    ,\n",
       "           1233.615     ,  -40.70795   ],\n",
       "          ...,\n",
       "          [  19.44128741,   14.90205504,   28.40211793, ..., -231.63555908,\n",
       "            306.80505371,  113.07174683],\n",
       "          [  21.4345    ,   15.03981   ,   35.29811   , ..., -111.3537    ,\n",
       "           1056.274     ,  141.9261    ],\n",
       "          [  17.33256672,   12.36439742,   29.84532611, ...,   54.62224579,\n",
       "           1065.26367188, -106.83374023]]),\n",
       "   'target': array([0, 0, 0, ..., 0, 0, 0])}},\n",
       " '4': {'train': {'isic_id': array(['ISIC_0015670', 'ISIC_0015845', 'ISIC_0015864', ...,\n",
       "          'ISIC_9999960', 'ISIC_9999964', 'ISIC_9999967'], dtype=object),\n",
       "   'metadata': array([[ 2.02444223e+01,  1.62619752e+01,  2.69224474e+01, ...,\n",
       "           -1.82703552e+02,  6.13493652e+02, -4.24279480e+01],\n",
       "          [ 3.17125700e+01,  2.53647400e+01,  2.63310000e+01, ...,\n",
       "           -7.83081100e-02,  1.57568700e+03,  5.71745000e+01],\n",
       "          [ 2.25758300e+01,  1.71281700e+01,  3.79704600e+01, ...,\n",
       "            1.23649700e+02,  1.47201000e+03,  2.32908900e+02],\n",
       "          ...,\n",
       "          [ 1.73325667e+01,  1.23643974e+01,  2.98453261e+01, ...,\n",
       "            5.46222458e+01,  1.06526367e+03, -1.06833740e+02],\n",
       "          [ 2.22885700e+01,  9.56472100e+00,  2.84312000e+01, ...,\n",
       "           -9.86155700e+00,  8.77527000e+02, -7.69821200e+01],\n",
       "          [ 1.67929000e+01,  1.14347300e+01,  2.14572200e+01, ...,\n",
       "           -2.58872300e+02,  1.48606200e+02,  1.07710600e+02]]),\n",
       "   'target': array([0, 0, 0, ..., 0, 0, 0])},\n",
       "  'val': {'isic_id': array(['ISIC_0051822', 'ISIC_0051958', 'ISIC_0052003', ...,\n",
       "          'ISIC_9999539', 'ISIC_9999937', 'ISIC_9999951'], dtype=object),\n",
       "   'metadata': array([[  20.00421405,   16.71485177,   27.76772776, ...,  -38.84236908,\n",
       "           1424.7956543 ,  231.19287109],\n",
       "          [  12.91218   ,   10.23901   ,   26.99213   , ...,  -23.97464   ,\n",
       "           1213.993     ,  187.0327    ],\n",
       "          [  30.6983    ,   19.66395   ,   28.2797    , ...,  324.5905    ,\n",
       "           1427.573     ,  -23.505     ],\n",
       "          ...,\n",
       "          [  15.83357605,   12.90871237,   33.63611208, ...,  -45.61114502,\n",
       "           1009.24084473,  -57.57012939],\n",
       "          [  22.5743346 ,   14.94466632,   27.66325866, ...,  147.18725586,\n",
       "           1182.31750488,  122.65258789],\n",
       "          [  19.97764   ,   16.02687   ,   34.15884   , ...,   52.34974   ,\n",
       "           1393.187     ,  127.2617    ]]),\n",
       "   'target': array([0, 0, 0, ..., 0, 0, 0])}},\n",
       " '5': {'train': {'isic_id': array(['ISIC_0015670', 'ISIC_0015845', 'ISIC_0015864', ...,\n",
       "          'ISIC_9999937', 'ISIC_9999951', 'ISIC_9999960'], dtype=object),\n",
       "   'metadata': array([[ 2.02444223e+01,  1.62619752e+01,  2.69224474e+01, ...,\n",
       "           -1.82703552e+02,  6.13493652e+02, -4.24279480e+01],\n",
       "          [ 3.17125700e+01,  2.53647400e+01,  2.63310000e+01, ...,\n",
       "           -7.83081100e-02,  1.57568700e+03,  5.71745000e+01],\n",
       "          [ 2.25758300e+01,  1.71281700e+01,  3.79704600e+01, ...,\n",
       "            1.23649700e+02,  1.47201000e+03,  2.32908900e+02],\n",
       "          ...,\n",
       "          [ 2.25743346e+01,  1.49446663e+01,  2.76632587e+01, ...,\n",
       "            1.47187256e+02,  1.18231750e+03,  1.22652588e+02],\n",
       "          [ 1.99776400e+01,  1.60268700e+01,  3.41588400e+01, ...,\n",
       "            5.23497400e+01,  1.39318700e+03,  1.27261700e+02],\n",
       "          [ 1.73325667e+01,  1.23643974e+01,  2.98453261e+01, ...,\n",
       "            5.46222458e+01,  1.06526367e+03, -1.06833740e+02]]),\n",
       "   'target': array([0, 0, 0, ..., 0, 0, 0])},\n",
       "  'val': {'isic_id': array(['ISIC_0015902', 'ISIC_0035502', 'ISIC_0052026', ...,\n",
       "          'ISIC_9999883', 'ISIC_9999964', 'ISIC_9999967'], dtype=object),\n",
       "   'metadata': array([[  14.24232888,   12.16475727,   21.44814427, ..., -141.02478027,\n",
       "           1442.18579102,   58.35980225],\n",
       "          [  22.12918339,   19.91142436,   24.10661432, ...,  -11.95996094,\n",
       "           1436.02746582,  101.33465576],\n",
       "          [  19.4104    ,   13.54244   ,   25.05215   , ..., -278.6346    ,\n",
       "            243.7309    ,   26.31647   ],\n",
       "          ...,\n",
       "          [  19.07549456,   10.66279573,   22.22354643, ...,  189.08734131,\n",
       "           1022.27984619,   51.72723389],\n",
       "          [  22.28857   ,    9.564721  ,   28.4312    , ...,   -9.861557  ,\n",
       "            877.527     ,  -76.98212   ],\n",
       "          [  16.7929    ,   11.43473   ,   21.45722   , ..., -258.8723    ,\n",
       "            148.6062    ,  107.7106    ]]),\n",
       "   'target': array([0, 0, 0, ..., 0, 0, 0])}}}"
      ]
     },
     "execution_count": 7,
     "metadata": {},
     "output_type": "execute_result"
    }
   ],
   "execution_count": 7
  },
  {
   "metadata": {},
   "cell_type": "markdown",
   "source": "# K - Folds ",
   "id": "4b647c4d95b11ea0"
  },
  {
   "metadata": {
    "ExecuteTime": {
     "end_time": "2024-08-31T21:03:35.903869Z",
     "start_time": "2024-08-31T20:38:15.767411Z"
    }
   },
   "cell_type": "code",
   "source": [
    "from PIL import Image\n",
    "import os\n",
    "import copy\n",
    "import shutil\n",
    "from tqdm.auto import tqdm\n",
    "import albumentations as A\n",
    "import numpy as np\n",
    "\n",
    "\n",
    "augmentation_oversampling = A.Compose([\n",
    "    # crop border avois multiple instances\n",
    "    A.Rotate(limit=(-360, 360), p=0.5, crop_border=True),\n",
    "    A.VerticalFlip(p=0.25),\n",
    "    A.HorizontalFlip(p=0.25),\n",
    "    A.RandomBrightnessContrast(p=0.25),\n",
    "    # water reflexion effect magnification and min\n",
    "    A.GridDistortion(p=0.25),\n",
    "    # Only with crop_border = True\n",
    "    A.Resize(height=config.get_value(\"IMAGE_HEIGHT\"), width=config.get_value(\"IMAGE_WIDTH\"))\n",
    "])\n",
    "\n",
    "dataset_path = config.get_value(\"DATASET_PATH\")\n",
    "shutil.rmtree(os.path.join(dataset_path, \"splits\"), ignore_errors=True)\n",
    "\n",
    "train_metadata = []\n",
    "val_metadata = []\n",
    "\n",
    "image_source_path = config.get_value(\"TRAIN_IMAGES_PATH\")\n",
    "for fold_index in tqdm(folds_config_dict.keys()):\n",
    "    print(f\"Fold: {fold_index}\")\n",
    "    \n",
    "    os.makedirs(os.path.join(dataset_path, \"splits\", f\"fold_{fold_index}\", \"train\", \"0\"), exist_ok=True)\n",
    "    os.makedirs(os.path.join(dataset_path, \"splits\", f\"fold_{fold_index}\", \"train\", \"1\"), exist_ok=True)\n",
    "    os.makedirs(os.path.join(dataset_path, \"splits\", f\"fold_{fold_index}\", \"val\", \"0\"), exist_ok=True)\n",
    "    os.makedirs(os.path.join(dataset_path, \"splits\", f\"fold_{fold_index}\", \"val\", \"1\"), exist_ok=True)\n",
    "    \n",
    "    normal_images_ids = folds_config_dict[fold_index][\"train\"][\"isic_id\"][np.where(folds_config_dict[fold_index][\"train\"][\"target\"]==0)]\n",
    "    anomaly_images_ids = folds_config_dict[fold_index][\"train\"][\"isic_id\"][np.where(folds_config_dict[fold_index][\"train\"][\"target\"]==1)]\n",
    "    \n",
    "    print(f\"total images: {len(normal_images_ids) + len(anomaly_images_ids)}\")\n",
    "    print(\"Over and under sampling...\")\n",
    "    over_under_sample(normal_images_ids=normal_images_ids,\n",
    "                      anomaly_images_ids=anomaly_images_ids,\n",
    "                      augmentation_transform=augmentation_oversampling,\n",
    "                      root_path=os.path.join(dataset_path, \"splits\", f\"fold_{fold_index}\"),\n",
    "                      config=config)\n",
    "    \n",
    "    print(\"Saving validation images to disk...\")\n",
    "    for isic_id, target in tqdm(zip(folds_config_dict[fold_index][\"val\"][\"isic_id\"], folds_config_dict[fold_index][\"val\"][\"target\"]), total=len(folds_config_dict[fold_index][\"val\"][\"isic_id\"])):\n",
    "        img = copy.deepcopy(Image.open(os.path.join(image_source_path, f\"{isic_id}.jpg\")))\n",
    "        img.save(os.path.join(dataset_path, \"splits\", f\"fold_{fold_index}\", \"val\", f\"{int(target)}\", f\"{isic_id}.jpg\"))"
   ],
   "id": "1ff0ffa04e254e59",
   "outputs": [
    {
     "data": {
      "text/plain": [
       "  0%|          | 0/5 [00:00<?, ?it/s]"
      ],
      "application/vnd.jupyter.widget-view+json": {
       "version_major": 2,
       "version_minor": 0,
       "model_id": "9b02ace9ed56437da1bb4a9b39b24db1"
      }
     },
     "metadata": {},
     "output_type": "display_data"
    },
    {
     "name": "stdout",
     "output_type": "stream",
     "text": [
      "Fold: 1\n",
      "total images: 320847\n",
      "Over and under sampling...\n",
      "Target: Normal samples count: 192509 | Target: Anomally samples count: 128339 \n",
      "Iterations needed to reach target count for anomaly samples: 408 | Anomaly original count: 315\n"
     ]
    },
    {
     "data": {
      "text/plain": [
       "  0%|          | 0/408 [00:00<?, ?it/s]"
      ],
      "application/vnd.jupyter.widget-view+json": {
       "version_major": 2,
       "version_minor": 0,
       "model_id": "8def0cf33ca74894aa8e73f6f53495c9"
      }
     },
     "metadata": {},
     "output_type": "display_data"
    },
    {
     "name": "stdout",
     "output_type": "stream",
     "text": [
      "Sampled normal images: 192509 | unique numbers: 192509\n"
     ]
    },
    {
     "data": {
      "text/plain": [
       "  0%|          | 0/192509 [00:00<?, ?it/s]"
      ],
      "application/vnd.jupyter.widget-view+json": {
       "version_major": 2,
       "version_minor": 0,
       "model_id": "d4c9785018d645d2927436f7bc44d8e5"
      }
     },
     "metadata": {},
     "output_type": "display_data"
    },
    {
     "name": "stdout",
     "output_type": "stream",
     "text": [
      "Saving validation images to disk...\n"
     ]
    },
    {
     "data": {
      "text/plain": [
       "  0%|          | 0/80212 [00:00<?, ?it/s]"
      ],
      "application/vnd.jupyter.widget-view+json": {
       "version_major": 2,
       "version_minor": 0,
       "model_id": "9d5af778cb5743788aec9b5cb99d9fa5"
      }
     },
     "metadata": {},
     "output_type": "display_data"
    },
    {
     "name": "stdout",
     "output_type": "stream",
     "text": [
      "Fold: 2\n",
      "total images: 320847\n",
      "Over and under sampling...\n",
      "Target: Normal samples count: 192509 | Target: Anomally samples count: 128339 \n",
      "Iterations needed to reach target count for anomaly samples: 409 | Anomaly original count: 314\n"
     ]
    },
    {
     "data": {
      "text/plain": [
       "  0%|          | 0/409 [00:00<?, ?it/s]"
      ],
      "application/vnd.jupyter.widget-view+json": {
       "version_major": 2,
       "version_minor": 0,
       "model_id": "0eeb03f336164928a6c6e268f2565d0a"
      }
     },
     "metadata": {},
     "output_type": "display_data"
    },
    {
     "name": "stdout",
     "output_type": "stream",
     "text": [
      "Sampled normal images: 192509 | unique numbers: 192509\n"
     ]
    },
    {
     "data": {
      "text/plain": [
       "  0%|          | 0/192509 [00:00<?, ?it/s]"
      ],
      "application/vnd.jupyter.widget-view+json": {
       "version_major": 2,
       "version_minor": 0,
       "model_id": "f639efb9deed4f91be04ba8d2de1985e"
      }
     },
     "metadata": {},
     "output_type": "display_data"
    },
    {
     "name": "stdout",
     "output_type": "stream",
     "text": [
      "Saving validation images to disk...\n"
     ]
    },
    {
     "data": {
      "text/plain": [
       "  0%|          | 0/80212 [00:00<?, ?it/s]"
      ],
      "application/vnd.jupyter.widget-view+json": {
       "version_major": 2,
       "version_minor": 0,
       "model_id": "818e36190c0143f9b8c26d5a41b5898d"
      }
     },
     "metadata": {},
     "output_type": "display_data"
    },
    {
     "name": "stdout",
     "output_type": "stream",
     "text": [
      "Fold: 3\n",
      "total images: 320847\n",
      "Over and under sampling...\n",
      "Target: Normal samples count: 192509 | Target: Anomally samples count: 128339 \n",
      "Iterations needed to reach target count for anomaly samples: 409 | Anomaly original count: 314\n"
     ]
    },
    {
     "data": {
      "text/plain": [
       "  0%|          | 0/409 [00:00<?, ?it/s]"
      ],
      "application/vnd.jupyter.widget-view+json": {
       "version_major": 2,
       "version_minor": 0,
       "model_id": "ee3e0ead7a35466ab460f655a3194c55"
      }
     },
     "metadata": {},
     "output_type": "display_data"
    },
    {
     "name": "stdout",
     "output_type": "stream",
     "text": [
      "Sampled normal images: 192509 | unique numbers: 192509\n"
     ]
    },
    {
     "data": {
      "text/plain": [
       "  0%|          | 0/192509 [00:00<?, ?it/s]"
      ],
      "application/vnd.jupyter.widget-view+json": {
       "version_major": 2,
       "version_minor": 0,
       "model_id": "1214dd85409f4fc38a39dbacd0a9204b"
      }
     },
     "metadata": {},
     "output_type": "display_data"
    },
    {
     "name": "stdout",
     "output_type": "stream",
     "text": [
      "Saving validation images to disk...\n"
     ]
    },
    {
     "data": {
      "text/plain": [
       "  0%|          | 0/80212 [00:00<?, ?it/s]"
      ],
      "application/vnd.jupyter.widget-view+json": {
       "version_major": 2,
       "version_minor": 0,
       "model_id": "c1071b10c56645e5916ebd0c70790a2a"
      }
     },
     "metadata": {},
     "output_type": "display_data"
    },
    {
     "name": "stdout",
     "output_type": "stream",
     "text": [
      "Fold: 4\n",
      "total images: 320847\n",
      "Over and under sampling...\n",
      "Target: Normal samples count: 192509 | Target: Anomally samples count: 128339 \n",
      "Iterations needed to reach target count for anomaly samples: 409 | Anomaly original count: 314\n"
     ]
    },
    {
     "data": {
      "text/plain": [
       "  0%|          | 0/409 [00:00<?, ?it/s]"
      ],
      "application/vnd.jupyter.widget-view+json": {
       "version_major": 2,
       "version_minor": 0,
       "model_id": "1c371e9d3b6948be8d86d2a8d7b8e2cc"
      }
     },
     "metadata": {},
     "output_type": "display_data"
    },
    {
     "name": "stdout",
     "output_type": "stream",
     "text": [
      "Sampled normal images: 192509 | unique numbers: 192509\n"
     ]
    },
    {
     "data": {
      "text/plain": [
       "  0%|          | 0/192509 [00:00<?, ?it/s]"
      ],
      "application/vnd.jupyter.widget-view+json": {
       "version_major": 2,
       "version_minor": 0,
       "model_id": "49f77ec9060e425597c16af6719e7e37"
      }
     },
     "metadata": {},
     "output_type": "display_data"
    },
    {
     "name": "stdout",
     "output_type": "stream",
     "text": [
      "Saving validation images to disk...\n"
     ]
    },
    {
     "data": {
      "text/plain": [
       "  0%|          | 0/80212 [00:00<?, ?it/s]"
      ],
      "application/vnd.jupyter.widget-view+json": {
       "version_major": 2,
       "version_minor": 0,
       "model_id": "3ed376579794472ca2efbef7ad2cdaca"
      }
     },
     "metadata": {},
     "output_type": "display_data"
    },
    {
     "name": "stdout",
     "output_type": "stream",
     "text": [
      "Fold: 5\n",
      "total images: 320848\n",
      "Over and under sampling...\n",
      "Target: Normal samples count: 192509 | Target: Anomally samples count: 128340 \n",
      "Iterations needed to reach target count for anomaly samples: 408 | Anomaly original count: 315\n"
     ]
    },
    {
     "data": {
      "text/plain": [
       "  0%|          | 0/408 [00:00<?, ?it/s]"
      ],
      "application/vnd.jupyter.widget-view+json": {
       "version_major": 2,
       "version_minor": 0,
       "model_id": "097a1bcbb0684a1fa5591cf1975c7340"
      }
     },
     "metadata": {},
     "output_type": "display_data"
    },
    {
     "name": "stdout",
     "output_type": "stream",
     "text": [
      "Sampled normal images: 192509 | unique numbers: 192509\n"
     ]
    },
    {
     "data": {
      "text/plain": [
       "  0%|          | 0/192509 [00:00<?, ?it/s]"
      ],
      "application/vnd.jupyter.widget-view+json": {
       "version_major": 2,
       "version_minor": 0,
       "model_id": "e241a050dca74fa6bde7553e9e76af7a"
      }
     },
     "metadata": {},
     "output_type": "display_data"
    },
    {
     "name": "stdout",
     "output_type": "stream",
     "text": [
      "Saving validation images to disk...\n"
     ]
    },
    {
     "data": {
      "text/plain": [
       "  0%|          | 0/80211 [00:00<?, ?it/s]"
      ],
      "application/vnd.jupyter.widget-view+json": {
       "version_major": 2,
       "version_minor": 0,
       "model_id": "52898d2baced40cdba08bb1f67f48d4b"
      }
     },
     "metadata": {},
     "output_type": "display_data"
    }
   ],
   "execution_count": 8
  },
  {
   "metadata": {
    "ExecuteTime": {
     "end_time": "2024-08-31T21:03:35.907011Z",
     "start_time": "2024-08-31T21:03:35.904827Z"
    }
   },
   "cell_type": "code",
   "source": [
    "import glob\n",
    "import os"
   ],
   "id": "973ba34436a1283d",
   "outputs": [],
   "execution_count": 9
  },
  {
   "metadata": {
    "ExecuteTime": {
     "end_time": "2024-08-31T21:03:35.919594Z",
     "start_time": "2024-08-31T21:03:35.908295Z"
    }
   },
   "cell_type": "code",
   "source": [
    "fold_index = 1\n",
    "\n",
    "dataset_path = config.get_value(\"DATASET_PATH\")\n",
    "\n",
    "root = os.path.join(dataset_path, \"splits\", f\"fold_{fold_index}\", \"train\")\n",
    "\n",
    "file_list = glob.glob(os.path.join(root, \"*.jpg\"))"
   ],
   "id": "2568dadc1696c2f3",
   "outputs": [],
   "execution_count": 10
  },
  {
   "metadata": {
    "ExecuteTime": {
     "end_time": "2024-08-31T21:03:35.932677Z",
     "start_time": "2024-08-31T21:03:35.921178Z"
    }
   },
   "cell_type": "code",
   "source": "os.listdir(root)",
   "id": "b4d778cfa3b00313",
   "outputs": [
    {
     "data": {
      "text/plain": [
       "['1', '0']"
      ]
     },
     "execution_count": 11,
     "metadata": {},
     "output_type": "execute_result"
    }
   ],
   "execution_count": 11
  },
  {
   "metadata": {
    "ExecuteTime": {
     "end_time": "2024-08-31T21:03:35.943785Z",
     "start_time": "2024-08-31T21:03:35.933445Z"
    }
   },
   "cell_type": "code",
   "source": "file_list[:5]",
   "id": "1019faca3acaceac",
   "outputs": [
    {
     "data": {
      "text/plain": [
       "[]"
      ]
     },
     "execution_count": 12,
     "metadata": {},
     "output_type": "execute_result"
    }
   ],
   "execution_count": 12
  },
  {
   "metadata": {
    "ExecuteTime": {
     "end_time": "2024-08-31T21:03:36.345991Z",
     "start_time": "2024-08-31T21:03:35.944561Z"
    }
   },
   "cell_type": "code",
   "source": "dataloader = IsicDataLoaderFolders(root=root)",
   "id": "a469a177e9d19e2b",
   "outputs": [],
   "execution_count": 13
  },
  {
   "metadata": {
    "ExecuteTime": {
     "end_time": "2024-08-31T21:03:36.353275Z",
     "start_time": "2024-08-31T21:03:36.346917Z"
    }
   },
   "cell_type": "code",
   "source": "next(iter(dataloader))",
   "id": "6e132001292aee61",
   "outputs": [
    {
     "data": {
      "text/plain": [
       "(tensor([[[0.6706, 0.6706, 0.6667,  ..., 0.7020, 0.7216, 0.7255],\n",
       "          [0.6706, 0.6745, 0.6706,  ..., 0.6824, 0.6902, 0.6941],\n",
       "          [0.6706, 0.6706, 0.6667,  ..., 0.6549, 0.6510, 0.6627],\n",
       "          ...,\n",
       "          [0.5961, 0.5961, 0.6000,  ..., 0.6078, 0.6196, 0.6275],\n",
       "          [0.6118, 0.6078, 0.6078,  ..., 0.6078, 0.6196, 0.6235],\n",
       "          [0.6314, 0.6235, 0.6157,  ..., 0.6157, 0.6235, 0.6314]],\n",
       " \n",
       "         [[0.4784, 0.4784, 0.4745,  ..., 0.5255, 0.5451, 0.5490],\n",
       "          [0.4784, 0.4824, 0.4784,  ..., 0.5059, 0.5137, 0.5176],\n",
       "          [0.4784, 0.4784, 0.4745,  ..., 0.4784, 0.4745, 0.4863],\n",
       "          ...,\n",
       "          [0.4078, 0.4078, 0.4118,  ..., 0.4157, 0.4275, 0.4353],\n",
       "          [0.4235, 0.4196, 0.4196,  ..., 0.4157, 0.4275, 0.4314],\n",
       "          [0.4431, 0.4353, 0.4275,  ..., 0.4235, 0.4314, 0.4392]],\n",
       " \n",
       "         [[0.4118, 0.4118, 0.4078,  ..., 0.4431, 0.4627, 0.4667],\n",
       "          [0.4118, 0.4157, 0.4118,  ..., 0.4235, 0.4314, 0.4353],\n",
       "          [0.4118, 0.4118, 0.4078,  ..., 0.3961, 0.3922, 0.4039],\n",
       "          ...,\n",
       "          [0.3216, 0.3216, 0.3255,  ..., 0.3490, 0.3608, 0.3686],\n",
       "          [0.3373, 0.3333, 0.3333,  ..., 0.3490, 0.3608, 0.3647],\n",
       "          [0.3569, 0.3490, 0.3412,  ..., 0.3569, 0.3647, 0.3725]]]),\n",
       " tensor([1]))"
      ]
     },
     "execution_count": 14,
     "metadata": {},
     "output_type": "execute_result"
    }
   ],
   "execution_count": 14
  },
  {
   "metadata": {
    "ExecuteTime": {
     "end_time": "2024-08-31T21:03:36.356160Z",
     "start_time": "2024-08-31T21:03:36.354271Z"
    }
   },
   "cell_type": "code",
   "source": "",
   "id": "71bece2db535231a",
   "outputs": [],
   "execution_count": 14
  }
 ],
 "metadata": {
  "kernelspec": {
   "display_name": "Python 3",
   "language": "python",
   "name": "python3"
  },
  "language_info": {
   "codemirror_mode": {
    "name": "ipython",
    "version": 2
   },
   "file_extension": ".py",
   "mimetype": "text/x-python",
   "name": "python",
   "nbconvert_exporter": "python",
   "pygments_lexer": "ipython2",
   "version": "2.7.6"
  }
 },
 "nbformat": 4,
 "nbformat_minor": 5
}
